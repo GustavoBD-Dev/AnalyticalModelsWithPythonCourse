{
  "nbformat": 4,
  "nbformat_minor": 0,
  "metadata": {
    "colab": {
      "provenance": [],
      "include_colab_link": true
    },
    "kernelspec": {
      "name": "python3",
      "display_name": "Python 3"
    },
    "language_info": {
      "name": "python"
    }
  },
  "cells": [
    {
      "cell_type": "markdown",
      "metadata": {
        "id": "view-in-github",
        "colab_type": "text"
      },
      "source": [
        "<a href=\"https://colab.research.google.com/github/GustavoBD-Dev/AnalyticalModelsWithPythonCourse/blob/Session-1/03_TemporaryData.ipynb\" target=\"_parent\"><img src=\"https://colab.research.google.com/assets/colab-badge.svg\" alt=\"Open In Colab\"/></a>"
      ]
    },
    {
      "cell_type": "markdown",
      "source": [
        "#**Trabajo con datos temporales**"
      ],
      "metadata": {
        "id": "3VmEvE2YrBcv"
      }
    },
    {
      "cell_type": "markdown",
      "source": [
        "###**Trabajo con Datos Temporales en Pandas**\n",
        "\n",
        "Pandas ofrece potentes herramientas para manipular y analizar datos temporales, facilitando tareas como la conversión de tipos de datos, el resampleo, el cálculo de estadísticas móviles y el manejo de fechas y horas. A continuación, se presentan las funciones y métodos más importantes.\n",
        "\n",
        "### 1. **Conversión de Tipos de Datos**\n",
        "\n",
        "Para trabajar con datos temporales, es esencial que las columnas de fechas estén en el formato `datetime`. Puedes usar `pd.to_datetime()` para convertir una columna a este tipo.\n",
        "\n",
        "```python\n",
        "import pandas as pd\n",
        "\n",
        "# Ejemplo de DataFrame con una columna de fechas\n",
        "df = pd.DataFrame({\n",
        "    'Fecha': ['2024-01-01', '2024-01-02', '2024-01-03'],\n",
        "    'Valor': [10, 15, 20]\n",
        "})\n",
        "\n",
        "# Convertir la columna 'Fecha' a tipo datetime\n",
        "df['Fecha'] = pd.to_datetime(df['Fecha'])\n",
        "\n",
        "print(df.dtypes)\n",
        "```\n",
        "\n",
        "### 2. **Indexación y Selección**\n",
        "\n",
        "Configurar una columna de fechas como índice puede simplificar muchas operaciones temporales. Usa `set_index()` para hacerlo.\n",
        "\n",
        "```python\n",
        "# Establecer la columna 'Fecha' como índice\n",
        "df.set_index('Fecha', inplace=True)\n",
        "\n",
        "print(df)\n",
        "```\n",
        "\n",
        "### 3. **Resampleo**\n",
        "\n",
        "El resampleo cambia la frecuencia temporal de los datos. Puedes usar `resample()` para agrupar datos por una nueva frecuencia temporal y aplicar funciones de agregación.\n",
        "\n",
        "```python\n",
        "# Crear una serie temporal con frecuencia diaria\n",
        "df = pd.DataFrame({\n",
        "    'Fecha': pd.date_range(start='2024-01-01', periods=10, freq='D'),\n",
        "    'Valor': range(10)\n",
        "}).set_index('Fecha')\n",
        "\n",
        "# Resamplear a frecuencia semanal y calcular la suma\n",
        "df_resampled = df.resample('W').sum()\n",
        "\n",
        "print(df_resampled)\n",
        "```\n",
        "\n",
        "### 4. **Estadísticas Móviles**\n",
        "\n",
        "Para calcular estadísticas móviles, como medias móviles, puedes usar el método `rolling()`.\n",
        "\n",
        "```python\n",
        "# Calcular la media móvil de 3 días\n",
        "df['Media_Móvil'] = df['Valor'].rolling(window=3).mean()\n",
        "\n",
        "print(df)\n",
        "```\n",
        "\n",
        "### 5. **Manipulación de Fechas y Horas**\n",
        "\n",
        "Pandas proporciona varias funciones para manipular componentes de fechas y horas, como `dt.year`, `dt.month`, `dt.day`, etc.\n",
        "\n",
        "```python\n",
        "# Extraer componentes de la fecha\n",
        "df['Año'] = df.index.year\n",
        "df['Mes'] = df.index.month\n",
        "df['Día'] = df.index.day\n",
        "\n",
        "print(df)\n",
        "```\n",
        "\n",
        "### 6. **Desplazamiento Temporal**\n",
        "\n",
        "Puedes desplazar datos hacia adelante o hacia atrás en el tiempo usando `shift()`, útil para calcular diferencias o lags.\n",
        "\n",
        "```python\n",
        "# Desplazar los datos una posición hacia abajo\n",
        "df['Desplazado'] = df['Valor'].shift(1)\n",
        "\n",
        "print(df)\n",
        "```\n",
        "\n",
        "### 7. **Tratamiento de Series Temporales Irregulares**\n",
        "\n",
        "Si tus datos tienen fechas irregulares, puedes utilizar `asfreq()` para convertirlos a una frecuencia regular, rellenando valores faltantes si es necesario.\n",
        "\n",
        "```python\n",
        "# Convertir a frecuencia diaria y rellenar valores faltantes con interpolación\n",
        "df_regular = df.asfreq('D').interpolate(method='linear')\n",
        "\n",
        "print(df_regular)\n",
        "```\n",
        "\n",
        "### 8. **Uso de Offsets y Periodos**\n",
        "\n",
        "Pandas también permite trabajar con periodos de tiempo y offsets (desplazamientos) temporales, lo que es útil para operaciones como agregar o restar tiempos específicos.\n",
        "\n",
        "```python\n",
        "from pandas.tseries.offsets import MonthEnd\n",
        "\n",
        "# Agregar un mes al índice de fechas\n",
        "df['Fecha_Siguiente_Mes'] = df.index + MonthEnd(1)\n",
        "\n",
        "print(df)\n",
        "```"
      ],
      "metadata": {
        "id": "Q3ue6S4SrBXY"
      }
    },
    {
      "cell_type": "markdown",
      "source": [
        "###**Proceso para Trabajar con Datos Temporales**\n",
        "```python\n",
        "import pandas as pd\n",
        "import numpy as np\n",
        "import random\n",
        "from datetime import datetime, timedelta\n",
        "\n",
        "# Crear listas para las columnas\n",
        "id_factura = [i for i in range(1, 101)]\n",
        "fecha_inicio = datetime.now() - timedelta(days=365)\n",
        "fecha = [(fecha_inicio + timedelta(days=random.randint(0, 365))).date() for _ in range(100)]\n",
        "cliente = [f'Cliente_{i}' for i in range(1, 101)]\n",
        "monto = [round(random.uniform(50, 1000), 2) for _ in range(100)]\n",
        "metodo_pago = [random.choice(['Efectivo', 'Tarjeta de Crédito', 'Transferencia']) for _ in range(100)]\n",
        "estado = [random.choice(['Pagada', 'Pendiente', 'Cancelada']) for _ in range(100)]\n",
        "\n",
        "# Crear el DataFrame\n",
        "df = pd.DataFrame({\n",
        "    'ID_Factura': id_factura,\n",
        "    'Fecha': fecha,\n",
        "    'Cliente': cliente,\n",
        "    'Monto': monto,\n",
        "    'Método de Pago': metodo_pago,\n",
        "    'Estado': estado\n",
        "})\n",
        "\n",
        "# Introducir algunos valores nulos y duplicados para limpieza de datos\n",
        "df.loc[random.sample(range(100), 10), 'Monto'] = np.nan\n",
        "df = pd.concat([df, df.sample(5, random_state=42)], ignore_index=True)\n",
        "\n",
        "# Mostrar las primeras filas del DataFrame\n",
        "print(df.head())\n",
        "```\n",
        "#### 1. **Conversión de Tipos de Datos**\n",
        "\n",
        "Primero, aseguramos que la columna `Fecha` esté en formato `datetime`.\n",
        "\n",
        "```python\n",
        "df['Fecha'] = pd.to_datetime(df['Fecha'])\n",
        "print(df.dtypes)\n",
        "```\n",
        "\n",
        "#### 2. **Indexación y Selección**\n",
        "\n",
        "Configurar la columna `Fecha` como índice del DataFrame para facilitar el manejo de datos temporales.\n",
        "\n",
        "```python\n",
        "df.set_index('Fecha', inplace=True)\n",
        "print(df.head())\n",
        "```\n",
        "\n",
        "#### 3. **Resampleo**\n",
        "\n",
        "Podemos cambiar la frecuencia temporal de los datos. Por ejemplo, podemos resamplear a frecuencia mensual y calcular la suma de `Monto` para cada mes.\n",
        "\n",
        "```python\n",
        "# Resamplear a frecuencia mensual y calcular la suma de 'Monto'\n",
        "df_resampled = df.resample('M').sum(numeric_only=True)\n",
        "print(df_resampled)\n",
        "```\n",
        "\n",
        "#### 4. **Estadísticas Móviles**\n",
        "\n",
        "Calcular estadísticas móviles, como la media móvil, usando el método `rolling()`.\n",
        "\n",
        "```python\n",
        "# Calcular la media móvil de 3 meses\n",
        "df_resampled['Media_Móvil'] = df_resampled['Monto'].rolling(window=3).mean()\n",
        "print(df_resampled)\n",
        "```\n",
        "\n",
        "#### 5. **Manipulación de Fechas y Horas**\n",
        "\n",
        "Extraer componentes de la fecha, como el año, mes y día.\n",
        "\n",
        "```python\n",
        "df['Año'] = df.index.year\n",
        "df['Mes'] = df.index.month\n",
        "df['Día'] = df.index.day\n",
        "print(df.head())\n",
        "```\n",
        "\n",
        "#### 6. **Desplazamiento Temporal**\n",
        "\n",
        "Desplazar datos hacia adelante o hacia atrás en el tiempo.\n",
        "\n",
        "```python\n",
        "# Desplazar los datos una posición hacia abajo\n",
        "df['Monto_Desplazado'] = df['Monto'].shift(1)\n",
        "print(df.head())\n",
        "```\n",
        "\n",
        "#### 7. **Tratamiento de Series Temporales Irregulares**\n",
        "\n",
        "Convertir a una frecuencia regular y rellenar valores faltantes.\n",
        "\n",
        "```python\n",
        "# Convertir a frecuencia diaria y rellenar valores faltantes con interpolación\n",
        "df_regular = df.asfreq('D').interpolate(method='linear')\n",
        "print(df_regular.head())\n",
        "```\n",
        "\n",
        "#### 8. **Uso de Offsets y Periodos**\n",
        "\n",
        "Agregar un desplazamiento temporal específico, como un mes.\n",
        "\n",
        "```python\n",
        "from pandas.tseries.offsets import MonthEnd\n",
        "\n",
        "# Agregar un mes al índice de fechas\n",
        "df['Fecha_Siguiente_Mes'] = df.index + MonthEnd(1)\n",
        "print(df.head())\n",
        "```\n",
        "\n",
        "### Resumen\n",
        "\n",
        "1. **Conversión de Tipos de Datos**: Convertir la columna de fechas a tipo `datetime`.\n",
        "2. **Indexación y Selección**: Establecer la columna de fechas como índice.\n",
        "3. **Resampleo**: Cambiar la frecuencia de los datos y aplicar agregaciones.\n",
        "4. **Estadísticas Móviles**: Calcular estadísticas móviles con `rolling()`.\n",
        "5. **Manipulación de Fechas y Horas**: Extraer componentes de las fechas.\n",
        "6. **Desplazamiento Temporal**: Desplazar datos temporalmente con `shift()`.\n",
        "7. **Tratamiento de Series Temporales Irregulares**: Convertir a una frecuencia regular y rellenar valores faltantes.\n",
        "8. **Uso de Offsets y Periodos**: Aplicar desplazamientos específicos con `MonthEnd`."
      ],
      "metadata": {
        "id": "G5ygkcjtCrBq"
      }
    },
    {
      "cell_type": "code",
      "source": [
        "import pandas as pd\n",
        "import numpy as np\n",
        "import random\n",
        "from datetime import datetime, timedelta\n",
        "\n",
        "# Crear listas para las columnas\n",
        "id_factura = [i for i in range(1, 101)]\n",
        "fecha_inicio = datetime.now() - timedelta(days=365)\n",
        "fecha = [(fecha_inicio + timedelta(days=random.randint(0, 365))).date() for _ in range(100)]\n",
        "cliente = [f'Cliente_{i}' for i in range(1, 101)]\n",
        "monto = [round(random.uniform(50, 1000), 2) for _ in range(100)]\n",
        "metodo_pago = [random.choice(['Efectivo', 'Tarjeta de Crédito', 'Transferencia']) for _ in range(100)]\n",
        "estado = [random.choice(['Pagada', 'Pendiente', 'Cancelada']) for _ in range(100)]\n",
        "\n",
        "# Crear el DataFrame\n",
        "df = pd.DataFrame({\n",
        "    'ID_Factura': id_factura,\n",
        "    'Fecha': fecha,\n",
        "    'Cliente': cliente,\n",
        "    'Monto': monto,\n",
        "    'Método de Pago': metodo_pago,\n",
        "    'Estado': estado\n",
        "})\n",
        "\n",
        "# Introducir algunos valores nulos y duplicados para limpieza de datos\n",
        "df.loc[random.sample(range(100), 10), 'Monto'] = np.nan\n",
        "df = pd.concat([df, df.sample(5, random_state=42)], ignore_index=True)\n",
        "\n",
        "# Mostrar las primeras filas del DataFrame\n",
        "print(df.head())"
      ],
      "metadata": {
        "colab": {
          "base_uri": "https://localhost:8080/"
        },
        "id": "Uzk4EzU9DBsj",
        "outputId": "b45e1763-5403-4013-b7aa-4b34fb81ead9"
      },
      "execution_count": null,
      "outputs": [
        {
          "output_type": "stream",
          "name": "stdout",
          "text": [
            "   ID_Factura       Fecha    Cliente   Monto      Método de Pago     Estado\n",
            "0           1  2023-09-29  Cliente_1  405.15       Transferencia  Pendiente\n",
            "1           2  2024-04-22  Cliente_2  565.60  Tarjeta de Crédito     Pagada\n",
            "2           3  2024-03-10  Cliente_3  603.30       Transferencia  Cancelada\n",
            "3           4  2024-01-12  Cliente_4     NaN  Tarjeta de Crédito  Cancelada\n",
            "4           5  2023-08-09  Cliente_5     NaN       Transferencia     Pagada\n"
          ]
        }
      ]
    },
    {
      "cell_type": "code",
      "source": [
        "#1. Conversión de Tipos de Datos\n",
        "df['Fecha'] = pd.to_datetime(df['Fecha'])\n",
        "print(df.dtypes)"
      ],
      "metadata": {
        "colab": {
          "base_uri": "https://localhost:8080/"
        },
        "id": "mj0yIDjaC_e_",
        "outputId": "c51df120-7d28-4f32-fdb4-687a16459ebe"
      },
      "execution_count": null,
      "outputs": [
        {
          "output_type": "stream",
          "name": "stdout",
          "text": [
            "ID_Factura                 int64\n",
            "Fecha             datetime64[ns]\n",
            "Cliente                   object\n",
            "Monto                    float64\n",
            "Método de Pago            object\n",
            "Estado                    object\n",
            "dtype: object\n"
          ]
        }
      ]
    },
    {
      "cell_type": "code",
      "source": [
        "#2. Indexación y Selección\n",
        "df.set_index('Fecha', inplace=True)\n",
        "print(df.head())"
      ],
      "metadata": {
        "colab": {
          "base_uri": "https://localhost:8080/"
        },
        "id": "34C7oMt_C_Wb",
        "outputId": "52f63774-7946-4c19-f9ac-72de1d538d1e"
      },
      "execution_count": null,
      "outputs": [
        {
          "output_type": "stream",
          "name": "stdout",
          "text": [
            "            ID_Factura    Cliente   Monto      Método de Pago     Estado\n",
            "Fecha                                                                   \n",
            "2023-09-29           1  Cliente_1  405.15       Transferencia  Pendiente\n",
            "2024-04-22           2  Cliente_2  565.60  Tarjeta de Crédito     Pagada\n",
            "2024-03-10           3  Cliente_3  603.30       Transferencia  Cancelada\n",
            "2024-01-12           4  Cliente_4     NaN  Tarjeta de Crédito  Cancelada\n",
            "2023-08-09           5  Cliente_5     NaN       Transferencia     Pagada\n"
          ]
        }
      ]
    },
    {
      "cell_type": "code",
      "source": [
        "#3. Resampleo\n",
        "df_resampled = df.resample('M').sum(numeric_only=True)\n",
        "print(df_resampled)"
      ],
      "metadata": {
        "colab": {
          "base_uri": "https://localhost:8080/"
        },
        "id": "N-ahBWGYC_Oz",
        "outputId": "83cd05b5-b2db-4ed4-90e6-72ee0e87518e"
      },
      "execution_count": null,
      "outputs": [
        {
          "output_type": "stream",
          "name": "stdout",
          "text": [
            "            ID_Factura    Monto\n",
            "Fecha                          \n",
            "2023-08-31         363  4188.54\n",
            "2023-09-30         184  2571.12\n",
            "2023-10-31         324  3097.33\n",
            "2023-11-30         902  5142.05\n",
            "2023-12-31         366  4680.05\n",
            "2024-01-31         556  6358.93\n",
            "2024-02-29         402  3130.92\n",
            "2024-03-31         604  3296.83\n",
            "2024-04-30         400  1724.85\n",
            "2024-05-31         400  3674.34\n",
            "2024-06-30         358  4781.26\n",
            "2024-07-31         491  5517.39\n"
          ]
        }
      ]
    },
    {
      "cell_type": "code",
      "source": [
        "#4. Estadísticas Móviles\n",
        "df_resampled['Media_Móvil'] = df_resampled['Monto'].rolling(window=3).mean()\n",
        "print(df_resampled)"
      ],
      "metadata": {
        "colab": {
          "base_uri": "https://localhost:8080/"
        },
        "id": "ly_ltvv6C_Gg",
        "outputId": "02da714d-e3e7-421a-cb6b-de5651676730"
      },
      "execution_count": null,
      "outputs": [
        {
          "output_type": "stream",
          "name": "stdout",
          "text": [
            "            ID_Factura    Monto  Media_Móvil\n",
            "Fecha                                       \n",
            "2023-08-31         363  4188.54          NaN\n",
            "2023-09-30         184  2571.12          NaN\n",
            "2023-10-31         324  3097.33  3285.663333\n",
            "2023-11-30         902  5142.05  3603.500000\n",
            "2023-12-31         366  4680.05  4306.476667\n",
            "2024-01-31         556  6358.93  5393.676667\n",
            "2024-02-29         402  3130.92  4723.300000\n",
            "2024-03-31         604  3296.83  4262.226667\n",
            "2024-04-30         400  1724.85  2717.533333\n",
            "2024-05-31         400  3674.34  2898.673333\n",
            "2024-06-30         358  4781.26  3393.483333\n",
            "2024-07-31         491  5517.39  4657.663333\n"
          ]
        }
      ]
    },
    {
      "cell_type": "code",
      "source": [
        "#5. Manipulación de Fechas y Horas\n",
        "df['Año'] = df.index.year\n",
        "df['Mes'] = df.index.month\n",
        "df['Día'] = df.index.day\n",
        "print(df.head())"
      ],
      "metadata": {
        "colab": {
          "base_uri": "https://localhost:8080/"
        },
        "id": "z2eddx2XC-_l",
        "outputId": "1d2f3368-974c-415a-ad51-14cd680658c8"
      },
      "execution_count": null,
      "outputs": [
        {
          "output_type": "stream",
          "name": "stdout",
          "text": [
            "            ID_Factura    Cliente   Monto      Método de Pago     Estado  \\\n",
            "Fecha                                                                      \n",
            "2023-09-29           1  Cliente_1  405.15       Transferencia  Pendiente   \n",
            "2024-04-22           2  Cliente_2  565.60  Tarjeta de Crédito     Pagada   \n",
            "2024-03-10           3  Cliente_3  603.30       Transferencia  Cancelada   \n",
            "2024-01-12           4  Cliente_4     NaN  Tarjeta de Crédito  Cancelada   \n",
            "2023-08-09           5  Cliente_5     NaN       Transferencia     Pagada   \n",
            "\n",
            "             Año  Mes  Día  \n",
            "Fecha                       \n",
            "2023-09-29  2023    9   29  \n",
            "2024-04-22  2024    4   22  \n",
            "2024-03-10  2024    3   10  \n",
            "2024-01-12  2024    1   12  \n",
            "2023-08-09  2023    8    9  \n"
          ]
        }
      ]
    },
    {
      "cell_type": "code",
      "source": [
        "#6. Desplazamiento Temporal\n",
        "df['Monto_Desplazado'] = df['Monto'].shift(1)\n",
        "print(df.head())"
      ],
      "metadata": {
        "colab": {
          "base_uri": "https://localhost:8080/"
        },
        "id": "HQBTAliRC-5B",
        "outputId": "2044da7e-8341-446c-cbb7-2d5f576b14d1"
      },
      "execution_count": null,
      "outputs": [
        {
          "output_type": "stream",
          "name": "stdout",
          "text": [
            "            ID_Factura    Cliente   Monto      Método de Pago     Estado  \\\n",
            "Fecha                                                                      \n",
            "2023-09-29           1  Cliente_1  405.15       Transferencia  Pendiente   \n",
            "2024-04-22           2  Cliente_2  565.60  Tarjeta de Crédito     Pagada   \n",
            "2024-03-10           3  Cliente_3  603.30       Transferencia  Cancelada   \n",
            "2024-01-12           4  Cliente_4     NaN  Tarjeta de Crédito  Cancelada   \n",
            "2023-08-09           5  Cliente_5     NaN       Transferencia     Pagada   \n",
            "\n",
            "             Año  Mes  Día  Monto_Desplazado  \n",
            "Fecha                                         \n",
            "2023-09-29  2023    9   29               NaN  \n",
            "2024-04-22  2024    4   22            405.15  \n",
            "2024-03-10  2024    3   10            565.60  \n",
            "2024-01-12  2024    1   12            603.30  \n",
            "2023-08-09  2023    8    9               NaN  \n"
          ]
        }
      ]
    },
    {
      "cell_type": "code",
      "source": [
        "#7. Tratamiento de Series Temporales Irregulares\n",
        "duplicate_dates = df.index.duplicated()\n",
        "print(df[duplicate_dates])\n",
        "\n",
        "df = df[~duplicate_dates]\n",
        "\n",
        "df_regular = df.asfreq('D').interpolate(method='linear')\n",
        "print(df_regular.head())"
      ],
      "metadata": {
        "colab": {
          "base_uri": "https://localhost:8080/"
        },
        "id": "3YE4pPfZC-x_",
        "outputId": "4ef65d76-157f-4f47-86b6-c9519dc221ce"
      },
      "execution_count": null,
      "outputs": [
        {
          "output_type": "stream",
          "name": "stdout",
          "text": [
            "            ID_Factura     Cliente   Monto      Método de Pago     Estado  \\\n",
            "Fecha                                                                       \n",
            "2023-08-17          45  Cliente_45  191.04  Tarjeta de Crédito  Cancelada   \n",
            "2023-11-30          65  Cliente_65  405.29            Efectivo  Pendiente   \n",
            "2024-02-11          71  Cliente_71  802.64            Efectivo  Pendiente   \n",
            "2024-01-27          85  Cliente_85  628.12       Transferencia  Pendiente   \n",
            "2024-03-14          95  Cliente_95     NaN  Tarjeta de Crédito  Cancelada   \n",
            "2023-08-11          99  Cliente_99  613.82  Tarjeta de Crédito  Pendiente   \n",
            "2023-11-25          84  Cliente_84     NaN  Tarjeta de Crédito  Pendiente   \n",
            "2024-06-15          54  Cliente_54  822.02            Efectivo  Pendiente   \n",
            "2024-02-11          71  Cliente_71  802.64            Efectivo  Pendiente   \n",
            "2024-07-03          46  Cliente_46  355.57            Efectivo  Cancelada   \n",
            "2023-08-17          45  Cliente_45  191.04  Tarjeta de Crédito  Cancelada   \n",
            "\n",
            "             Año  Mes  Día  Monto_Desplazado  \n",
            "Fecha                                         \n",
            "2023-08-17  2023    8   17            108.62  \n",
            "2023-11-30  2023   11   30            343.30  \n",
            "2024-02-11  2024    2   11            292.70  \n",
            "2024-01-27  2024    1   27               NaN  \n",
            "2024-03-14  2024    3   14            160.69  \n",
            "2023-08-11  2023    8   11             60.11  \n",
            "2023-11-25  2023   11   25            342.42  \n",
            "2024-06-15  2024    6   15               NaN  \n",
            "2024-02-11  2024    2   11            822.02  \n",
            "2024-07-03  2024    7    3            802.64  \n",
            "2023-08-17  2023    8   17            355.57  \n",
            "            ID_Factura     Cliente    Monto Método de Pago     Estado     Año  \\\n",
            "Fecha                                                                           \n",
            "2023-08-08   92.000000  Cliente_92  677.850       Efectivo  Cancelada  2023.0   \n",
            "2023-08-09    5.000000   Cliente_5  727.980  Transferencia     Pagada  2023.0   \n",
            "2023-08-10   11.000000         NaN  778.110            NaN        NaN  2023.0   \n",
            "2023-08-11   17.000000  Cliente_17  828.240       Efectivo  Cancelada  2023.0   \n",
            "2023-08-12   15.333333         NaN  828.095            NaN        NaN  2023.0   \n",
            "\n",
            "            Mes   Día  Monto_Desplazado  \n",
            "Fecha                                    \n",
            "2023-08-08  8.0   8.0        162.350000  \n",
            "2023-08-09  8.0   9.0        211.027778  \n",
            "2023-08-10  8.0  10.0        259.705556  \n",
            "2023-08-11  8.0  11.0        308.383333  \n",
            "2023-08-12  8.0  12.0        357.061111  \n"
          ]
        },
        {
          "output_type": "stream",
          "name": "stderr",
          "text": [
            "<ipython-input-20-799a75a7b9ed>:7: FutureWarning: DataFrame.interpolate with object dtype is deprecated and will raise in a future version. Call obj.infer_objects(copy=False) before interpolating instead.\n",
            "  df_regular = df.asfreq('D').interpolate(method='linear')\n"
          ]
        }
      ]
    },
    {
      "cell_type": "code",
      "source": [
        "#8. Uso de Offsets y Periodos\n",
        "from pandas.tseries.offsets import MonthEnd\n",
        "\n",
        "df['Fecha_Siguiente_Mes'] = df.index + MonthEnd(1)\n",
        "print(df.head())"
      ],
      "metadata": {
        "colab": {
          "base_uri": "https://localhost:8080/"
        },
        "id": "__cXnTu9C-rF",
        "outputId": "3630f333-bbd2-4944-d464-36f96311e6da"
      },
      "execution_count": null,
      "outputs": [
        {
          "output_type": "stream",
          "name": "stdout",
          "text": [
            "            ID_Factura    Cliente   Monto      Método de Pago     Estado  \\\n",
            "Fecha                                                                      \n",
            "2023-09-29           1  Cliente_1  405.15       Transferencia  Pendiente   \n",
            "2024-04-22           2  Cliente_2  565.60  Tarjeta de Crédito     Pagada   \n",
            "2024-03-10           3  Cliente_3  603.30       Transferencia  Cancelada   \n",
            "2024-01-12           4  Cliente_4     NaN  Tarjeta de Crédito  Cancelada   \n",
            "2023-08-09           5  Cliente_5     NaN       Transferencia     Pagada   \n",
            "\n",
            "             Año  Mes  Día  Monto_Desplazado Fecha_Siguiente_Mes  \n",
            "Fecha                                                             \n",
            "2023-09-29  2023    9   29               NaN          2023-09-30  \n",
            "2024-04-22  2024    4   22            405.15          2024-04-30  \n",
            "2024-03-10  2024    3   10            565.60          2024-03-31  \n",
            "2024-01-12  2024    1   12            603.30          2024-01-31  \n",
            "2023-08-09  2023    8    9               NaN          2023-08-31  \n"
          ]
        }
      ]
    }
  ]
}