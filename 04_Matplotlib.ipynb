{
  "nbformat": 4,
  "nbformat_minor": 0,
  "metadata": {
    "colab": {
      "provenance": [],
      "include_colab_link": true
    },
    "kernelspec": {
      "name": "python3",
      "display_name": "Python 3"
    },
    "language_info": {
      "name": "python"
    }
  },
  "cells": [
    {
      "cell_type": "markdown",
      "metadata": {
        "id": "view-in-github",
        "colab_type": "text"
      },
      "source": [
        "<a href=\"https://colab.research.google.com/github/GustavoBD-Dev/AnalyticalModelsWithPythonCourse/blob/Session-2/04_Matplotlib.ipynb\" target=\"_parent\"><img src=\"https://colab.research.google.com/assets/colab-badge.svg\" alt=\"Open In Colab\"/></a>"
      ]
    },
    {
      "cell_type": "markdown",
      "source": [
        "#**Profundización en Matplotlib**"
      ],
      "metadata": {
        "id": "RC1RgcyblAJH"
      }
    },
    {
      "cell_type": "markdown",
      "source": [
        "###**Funciones Avanzadas de Matplotlib**\n",
        "\n",
        "Matplotlib es una biblioteca fundamental para la visualización de datos en Python. A continuación, se presentan algunas de las funciones avanzadas más útiles, junto con ejemplos y consideraciones esenciales.\n",
        "\n",
        "####**Conceptos Básicos de Matplotlib**\n",
        "1. **Figure:** El lienzo general sobre el que se dibujan uno o más gráficos.\n",
        "2. **Axes:** La parte de la figura donde se plotea el gráfico, incluyendo los ejes, las etiquetas y los títulos.\n",
        "3. **Plot:** El gráfico específico que se dibuja en los ejes, como un gráfico de líneas, de barras, etc.\n",
        "\n",
        "###**1. Subplots y GridSpec**\n",
        "\n",
        "- **Subplots:**\n",
        "La función `subplots` permite crear una cuadrícula de gráficos dentro de una sola figura, facilitando la comparación visual de diferentes conjuntos de datos.\n",
        "\n",
        "```python\n",
        "import matplotlib.pyplot as plt\n",
        "import numpy as np\n",
        "\n",
        "x = np.linspace(0, 10, 100)\n",
        "y1 = np.sin(x)\n",
        "y2 = np.cos(x)\n",
        "\n",
        "fig, (ax1, ax2) = plt.subplots(1, 2, figsize=(10, 5))\n",
        "ax1.plot(x, y1, label='Seno')\n",
        "ax1.set_title('Gráfico de Seno')\n",
        "ax1.legend()\n",
        "\n",
        "ax2.plot(x, y2, label='Coseno', color='r')\n",
        "ax2.set_title('Gráfico de Coseno')\n",
        "ax2.legend()\n",
        "\n",
        "plt.show()\n",
        "```\n",
        "\n",
        "- **GridSpec:**\n",
        "`GridSpec` proporciona un control más granular sobre la disposición de los subplots.\n",
        "\n",
        "```python\n",
        "import matplotlib.gridspec as gridspec\n",
        "\n",
        "fig = plt.figure(figsize=(10, 6))\n",
        "gs = gridspec.GridSpec(2, 3)\n",
        "\n",
        "ax1 = fig.add_subplot(gs[0, 0])\n",
        "ax1.plot(x, y1)\n",
        "ax1.set_title('Gráfico 1')\n",
        "\n",
        "ax2 = fig.add_subplot(gs[0, 1:])\n",
        "ax2.plot(x, y2)\n",
        "ax2.set_title('Gráfico 2')\n",
        "\n",
        "ax3 = fig.add_subplot(gs[1, :2])\n",
        "ax3.plot(x, y1 - y2)\n",
        "ax3.set_title('Gráfico 3')\n",
        "\n",
        "ax4 = fig.add_subplot(gs[1, 2])\n",
        "ax4.plot(x, y1 * y2)\n",
        "ax4.set_title('Gráfico 4')\n",
        "\n",
        "plt.tight_layout()\n",
        "plt.show()\n",
        "```\n",
        "\n",
        "###**2. Customización de Estilos y Temas**\n",
        "\n",
        "Matplotlib permite personalizar los estilos y temas para hacer los gráficos más atractivos y coherentes con el diseño deseado.\n",
        "\n",
        "```python\n",
        "plt.style.use('seaborn-darkgrid')  # Aplicar un estilo predefinido\n",
        "\n",
        "fig, ax = plt.subplots()\n",
        "ax.plot(x, y1, label='Seno')\n",
        "ax.plot(x, y2, label='Coseno', color='r')\n",
        "ax.set_title('Gráfico con Estilo Seaborn')\n",
        "ax.legend()\n",
        "\n",
        "plt.show()\n",
        "```\n",
        "\n",
        "###**3. Anotaciones y Texto**\n",
        "\n",
        "Para agregar contexto adicional en los gráficos, las anotaciones y textos son esenciales.\n",
        "\n",
        "```python\n",
        "fig, ax = plt.subplots()\n",
        "ax.plot(x, y1, label='Seno')\n",
        "\n",
        "# Anotación\n",
        "ax.annotate('Máximo', xy=(np.pi/2, 1), xytext=(np.pi/2, 1.5),\n",
        "             arrowprops=dict(facecolor='black', shrink=0.05))\n",
        "\n",
        "# Texto\n",
        "ax.text(8, 0, 'Anotación Ejemplo', fontsize=12, color='green')\n",
        "\n",
        "ax.set_title('Gráfico con Anotaciones')\n",
        "ax.legend()\n",
        "\n",
        "plt.show()\n",
        "```\n",
        "\n",
        "###**4. Visualización 3D**\n",
        "\n",
        "Con `mplot3d`, Matplotlib permite crear gráficos en 3D.\n",
        "\n",
        "```python\n",
        "from mpl_toolkits.mplot3d import Axes3D\n",
        "\n",
        "fig = plt.figure()\n",
        "ax = fig.add_subplot(111, projection='3d')\n",
        "\n",
        "x = np.linspace(-5, 5, 100)\n",
        "y = np.linspace(-5, 5, 100)\n",
        "X, Y = np.meshgrid(x, y)\n",
        "Z = np.sin(np.sqrt(X**2 + Y**2))\n",
        "\n",
        "ax.plot_surface(X, Y, Z, cmap='viridis')\n",
        "ax.set_title('Superficie 3D')\n",
        "\n",
        "plt.show()\n",
        "```\n",
        "\n",
        "###**5. Gráficos Interactivos**\n",
        "\n",
        "Para gráficos interactivos, puedes usar `mpld3` o `plotly` junto con Matplotlib.\n",
        "\n",
        "```python\n",
        "import mpld3\n",
        "\n",
        "fig, ax = plt.subplots()\n",
        "ax.plot(x, y1, label='Seno')\n",
        "\n",
        "mpld3.show()  # Esto abrirá el gráfico en una ventana de navegador interactiva\n",
        "```\n",
        "\n",
        "###**Consideraciones Indispensables**\n",
        "\n",
        "1. **Consistencia de Estilo**: Asegúrate de usar estilos y temas coherentes a lo largo de tus gráficos para mantener una presentación profesional.\n",
        "2. **Legibilidad**: Usa etiquetas claras y anotaciones donde sea necesario para que los gráficos sean comprensibles.\n",
        "3. **Optimización de la Figura**: Ajusta los márgenes y usa `tight_layout()` para evitar el solapamiento de elementos en la figura.\n",
        "4. **Compatibilidad de Exportación**: Asegúrate de que los gráficos se exporten correctamente a diferentes formatos (PNG, PDF, SVG) usando `savefig()`.\n",
        "\n",
        "```python\n",
        "fig.savefig('grafico.png', dpi=300)\n",
        "```\n",
        "\n",
        "Estas herramientas avanzadas de Matplotlib te permiten crear visualizaciones de datos más sofisticadas y efectivas, adaptadas a las necesidades de análisis y presentación en proyectos complejos."
      ],
      "metadata": {
        "id": "pq4jlDydmQTf"
      }
    },
    {
      "cell_type": "markdown",
      "source": [
        "##**Ejercicios:**"
      ],
      "metadata": {
        "id": "n-rSpJWZt_Ly"
      }
    },
    {
      "cell_type": "code",
      "execution_count": null,
      "metadata": {
        "colab": {
          "base_uri": "https://localhost:8080/",
          "height": 206
        },
        "id": "sM9NCACXjodm",
        "outputId": "100053b4-95c7-4399-8c07-c7b7e037b42a"
      },
      "outputs": [
        {
          "output_type": "execute_result",
          "data": {
            "text/plain": [
              "   ID_Transacción                      Fecha    Cliente    Monto  \\\n",
              "0               1 2023-11-26 03:57:01.187815  Cliente_1  1931.89   \n",
              "1               2 2023-09-30 03:57:01.187815  Cliente_2   586.19   \n",
              "2               3 2024-08-20 03:57:01.187815  Cliente_3  1768.62   \n",
              "3               4 2023-10-21 03:57:01.187815  Cliente_4  2405.17   \n",
              "4               5 2024-05-04 03:57:01.187815  Cliente_5  1185.54   \n",
              "\n",
              "  Tipo de Transacción      Método de Pago     Estado  \n",
              "0            Depósito            Efectivo    Fallida  \n",
              "1       Transferencia            Efectivo    Fallida  \n",
              "2            Depósito            Efectivo    Fallida  \n",
              "3            Depósito            Efectivo  Pendiente  \n",
              "4       Transferencia  Tarjeta de Crédito    Fallida  "
            ],
            "text/html": [
              "\n",
              "  <div id=\"df-0be36a47-0b71-466e-9ad3-24f7e97d22f9\" class=\"colab-df-container\">\n",
              "    <div>\n",
              "<style scoped>\n",
              "    .dataframe tbody tr th:only-of-type {\n",
              "        vertical-align: middle;\n",
              "    }\n",
              "\n",
              "    .dataframe tbody tr th {\n",
              "        vertical-align: top;\n",
              "    }\n",
              "\n",
              "    .dataframe thead th {\n",
              "        text-align: right;\n",
              "    }\n",
              "</style>\n",
              "<table border=\"1\" class=\"dataframe\">\n",
              "  <thead>\n",
              "    <tr style=\"text-align: right;\">\n",
              "      <th></th>\n",
              "      <th>ID_Transacción</th>\n",
              "      <th>Fecha</th>\n",
              "      <th>Cliente</th>\n",
              "      <th>Monto</th>\n",
              "      <th>Tipo de Transacción</th>\n",
              "      <th>Método de Pago</th>\n",
              "      <th>Estado</th>\n",
              "    </tr>\n",
              "  </thead>\n",
              "  <tbody>\n",
              "    <tr>\n",
              "      <th>0</th>\n",
              "      <td>1</td>\n",
              "      <td>2023-11-26 03:57:01.187815</td>\n",
              "      <td>Cliente_1</td>\n",
              "      <td>1931.89</td>\n",
              "      <td>Depósito</td>\n",
              "      <td>Efectivo</td>\n",
              "      <td>Fallida</td>\n",
              "    </tr>\n",
              "    <tr>\n",
              "      <th>1</th>\n",
              "      <td>2</td>\n",
              "      <td>2023-09-30 03:57:01.187815</td>\n",
              "      <td>Cliente_2</td>\n",
              "      <td>586.19</td>\n",
              "      <td>Transferencia</td>\n",
              "      <td>Efectivo</td>\n",
              "      <td>Fallida</td>\n",
              "    </tr>\n",
              "    <tr>\n",
              "      <th>2</th>\n",
              "      <td>3</td>\n",
              "      <td>2024-08-20 03:57:01.187815</td>\n",
              "      <td>Cliente_3</td>\n",
              "      <td>1768.62</td>\n",
              "      <td>Depósito</td>\n",
              "      <td>Efectivo</td>\n",
              "      <td>Fallida</td>\n",
              "    </tr>\n",
              "    <tr>\n",
              "      <th>3</th>\n",
              "      <td>4</td>\n",
              "      <td>2023-10-21 03:57:01.187815</td>\n",
              "      <td>Cliente_4</td>\n",
              "      <td>2405.17</td>\n",
              "      <td>Depósito</td>\n",
              "      <td>Efectivo</td>\n",
              "      <td>Pendiente</td>\n",
              "    </tr>\n",
              "    <tr>\n",
              "      <th>4</th>\n",
              "      <td>5</td>\n",
              "      <td>2024-05-04 03:57:01.187815</td>\n",
              "      <td>Cliente_5</td>\n",
              "      <td>1185.54</td>\n",
              "      <td>Transferencia</td>\n",
              "      <td>Tarjeta de Crédito</td>\n",
              "      <td>Fallida</td>\n",
              "    </tr>\n",
              "  </tbody>\n",
              "</table>\n",
              "</div>\n",
              "    <div class=\"colab-df-buttons\">\n",
              "\n",
              "  <div class=\"colab-df-container\">\n",
              "    <button class=\"colab-df-convert\" onclick=\"convertToInteractive('df-0be36a47-0b71-466e-9ad3-24f7e97d22f9')\"\n",
              "            title=\"Convert this dataframe to an interactive table.\"\n",
              "            style=\"display:none;\">\n",
              "\n",
              "  <svg xmlns=\"http://www.w3.org/2000/svg\" height=\"24px\" viewBox=\"0 -960 960 960\">\n",
              "    <path d=\"M120-120v-720h720v720H120Zm60-500h600v-160H180v160Zm220 220h160v-160H400v160Zm0 220h160v-160H400v160ZM180-400h160v-160H180v160Zm440 0h160v-160H620v160ZM180-180h160v-160H180v160Zm440 0h160v-160H620v160Z\"/>\n",
              "  </svg>\n",
              "    </button>\n",
              "\n",
              "  <style>\n",
              "    .colab-df-container {\n",
              "      display:flex;\n",
              "      gap: 12px;\n",
              "    }\n",
              "\n",
              "    .colab-df-convert {\n",
              "      background-color: #E8F0FE;\n",
              "      border: none;\n",
              "      border-radius: 50%;\n",
              "      cursor: pointer;\n",
              "      display: none;\n",
              "      fill: #1967D2;\n",
              "      height: 32px;\n",
              "      padding: 0 0 0 0;\n",
              "      width: 32px;\n",
              "    }\n",
              "\n",
              "    .colab-df-convert:hover {\n",
              "      background-color: #E2EBFA;\n",
              "      box-shadow: 0px 1px 2px rgba(60, 64, 67, 0.3), 0px 1px 3px 1px rgba(60, 64, 67, 0.15);\n",
              "      fill: #174EA6;\n",
              "    }\n",
              "\n",
              "    .colab-df-buttons div {\n",
              "      margin-bottom: 4px;\n",
              "    }\n",
              "\n",
              "    [theme=dark] .colab-df-convert {\n",
              "      background-color: #3B4455;\n",
              "      fill: #D2E3FC;\n",
              "    }\n",
              "\n",
              "    [theme=dark] .colab-df-convert:hover {\n",
              "      background-color: #434B5C;\n",
              "      box-shadow: 0px 1px 3px 1px rgba(0, 0, 0, 0.15);\n",
              "      filter: drop-shadow(0px 1px 2px rgba(0, 0, 0, 0.3));\n",
              "      fill: #FFFFFF;\n",
              "    }\n",
              "  </style>\n",
              "\n",
              "    <script>\n",
              "      const buttonEl =\n",
              "        document.querySelector('#df-0be36a47-0b71-466e-9ad3-24f7e97d22f9 button.colab-df-convert');\n",
              "      buttonEl.style.display =\n",
              "        google.colab.kernel.accessAllowed ? 'block' : 'none';\n",
              "\n",
              "      async function convertToInteractive(key) {\n",
              "        const element = document.querySelector('#df-0be36a47-0b71-466e-9ad3-24f7e97d22f9');\n",
              "        const dataTable =\n",
              "          await google.colab.kernel.invokeFunction('convertToInteractive',\n",
              "                                                    [key], {});\n",
              "        if (!dataTable) return;\n",
              "\n",
              "        const docLinkHtml = 'Like what you see? Visit the ' +\n",
              "          '<a target=\"_blank\" href=https://colab.research.google.com/notebooks/data_table.ipynb>data table notebook</a>'\n",
              "          + ' to learn more about interactive tables.';\n",
              "        element.innerHTML = '';\n",
              "        dataTable['output_type'] = 'display_data';\n",
              "        await google.colab.output.renderOutput(dataTable, element);\n",
              "        const docLink = document.createElement('div');\n",
              "        docLink.innerHTML = docLinkHtml;\n",
              "        element.appendChild(docLink);\n",
              "      }\n",
              "    </script>\n",
              "  </div>\n",
              "\n",
              "\n",
              "<div id=\"df-5933a17b-b6b9-4d28-a52f-95ecd3b36ba1\">\n",
              "  <button class=\"colab-df-quickchart\" onclick=\"quickchart('df-5933a17b-b6b9-4d28-a52f-95ecd3b36ba1')\"\n",
              "            title=\"Suggest charts\"\n",
              "            style=\"display:none;\">\n",
              "\n",
              "<svg xmlns=\"http://www.w3.org/2000/svg\" height=\"24px\"viewBox=\"0 0 24 24\"\n",
              "     width=\"24px\">\n",
              "    <g>\n",
              "        <path d=\"M19 3H5c-1.1 0-2 .9-2 2v14c0 1.1.9 2 2 2h14c1.1 0 2-.9 2-2V5c0-1.1-.9-2-2-2zM9 17H7v-7h2v7zm4 0h-2V7h2v10zm4 0h-2v-4h2v4z\"/>\n",
              "    </g>\n",
              "</svg>\n",
              "  </button>\n",
              "\n",
              "<style>\n",
              "  .colab-df-quickchart {\n",
              "      --bg-color: #E8F0FE;\n",
              "      --fill-color: #1967D2;\n",
              "      --hover-bg-color: #E2EBFA;\n",
              "      --hover-fill-color: #174EA6;\n",
              "      --disabled-fill-color: #AAA;\n",
              "      --disabled-bg-color: #DDD;\n",
              "  }\n",
              "\n",
              "  [theme=dark] .colab-df-quickchart {\n",
              "      --bg-color: #3B4455;\n",
              "      --fill-color: #D2E3FC;\n",
              "      --hover-bg-color: #434B5C;\n",
              "      --hover-fill-color: #FFFFFF;\n",
              "      --disabled-bg-color: #3B4455;\n",
              "      --disabled-fill-color: #666;\n",
              "  }\n",
              "\n",
              "  .colab-df-quickchart {\n",
              "    background-color: var(--bg-color);\n",
              "    border: none;\n",
              "    border-radius: 50%;\n",
              "    cursor: pointer;\n",
              "    display: none;\n",
              "    fill: var(--fill-color);\n",
              "    height: 32px;\n",
              "    padding: 0;\n",
              "    width: 32px;\n",
              "  }\n",
              "\n",
              "  .colab-df-quickchart:hover {\n",
              "    background-color: var(--hover-bg-color);\n",
              "    box-shadow: 0 1px 2px rgba(60, 64, 67, 0.3), 0 1px 3px 1px rgba(60, 64, 67, 0.15);\n",
              "    fill: var(--button-hover-fill-color);\n",
              "  }\n",
              "\n",
              "  .colab-df-quickchart-complete:disabled,\n",
              "  .colab-df-quickchart-complete:disabled:hover {\n",
              "    background-color: var(--disabled-bg-color);\n",
              "    fill: var(--disabled-fill-color);\n",
              "    box-shadow: none;\n",
              "  }\n",
              "\n",
              "  .colab-df-spinner {\n",
              "    border: 2px solid var(--fill-color);\n",
              "    border-color: transparent;\n",
              "    border-bottom-color: var(--fill-color);\n",
              "    animation:\n",
              "      spin 1s steps(1) infinite;\n",
              "  }\n",
              "\n",
              "  @keyframes spin {\n",
              "    0% {\n",
              "      border-color: transparent;\n",
              "      border-bottom-color: var(--fill-color);\n",
              "      border-left-color: var(--fill-color);\n",
              "    }\n",
              "    20% {\n",
              "      border-color: transparent;\n",
              "      border-left-color: var(--fill-color);\n",
              "      border-top-color: var(--fill-color);\n",
              "    }\n",
              "    30% {\n",
              "      border-color: transparent;\n",
              "      border-left-color: var(--fill-color);\n",
              "      border-top-color: var(--fill-color);\n",
              "      border-right-color: var(--fill-color);\n",
              "    }\n",
              "    40% {\n",
              "      border-color: transparent;\n",
              "      border-right-color: var(--fill-color);\n",
              "      border-top-color: var(--fill-color);\n",
              "    }\n",
              "    60% {\n",
              "      border-color: transparent;\n",
              "      border-right-color: var(--fill-color);\n",
              "    }\n",
              "    80% {\n",
              "      border-color: transparent;\n",
              "      border-right-color: var(--fill-color);\n",
              "      border-bottom-color: var(--fill-color);\n",
              "    }\n",
              "    90% {\n",
              "      border-color: transparent;\n",
              "      border-bottom-color: var(--fill-color);\n",
              "    }\n",
              "  }\n",
              "</style>\n",
              "\n",
              "  <script>\n",
              "    async function quickchart(key) {\n",
              "      const quickchartButtonEl =\n",
              "        document.querySelector('#' + key + ' button');\n",
              "      quickchartButtonEl.disabled = true;  // To prevent multiple clicks.\n",
              "      quickchartButtonEl.classList.add('colab-df-spinner');\n",
              "      try {\n",
              "        const charts = await google.colab.kernel.invokeFunction(\n",
              "            'suggestCharts', [key], {});\n",
              "      } catch (error) {\n",
              "        console.error('Error during call to suggestCharts:', error);\n",
              "      }\n",
              "      quickchartButtonEl.classList.remove('colab-df-spinner');\n",
              "      quickchartButtonEl.classList.add('colab-df-quickchart-complete');\n",
              "    }\n",
              "    (() => {\n",
              "      let quickchartButtonEl =\n",
              "        document.querySelector('#df-5933a17b-b6b9-4d28-a52f-95ecd3b36ba1 button');\n",
              "      quickchartButtonEl.style.display =\n",
              "        google.colab.kernel.accessAllowed ? 'block' : 'none';\n",
              "    })();\n",
              "  </script>\n",
              "</div>\n",
              "\n",
              "    </div>\n",
              "  </div>\n"
            ],
            "application/vnd.google.colaboratory.intrinsic+json": {
              "type": "dataframe",
              "variable_name": "df",
              "summary": "{\n  \"name\": \"df\",\n  \"rows\": 500,\n  \"fields\": [\n    {\n      \"column\": \"ID_Transacci\\u00f3n\",\n      \"properties\": {\n        \"dtype\": \"number\",\n        \"std\": 144,\n        \"min\": 1,\n        \"max\": 500,\n        \"num_unique_values\": 500,\n        \"samples\": [\n          362,\n          74,\n          375\n        ],\n        \"semantic_type\": \"\",\n        \"description\": \"\"\n      }\n    },\n    {\n      \"column\": \"Fecha\",\n      \"properties\": {\n        \"dtype\": \"date\",\n        \"min\": \"2023-09-04 03:57:01.187815\",\n        \"max\": \"2024-09-03 03:57:01.187815\",\n        \"num_unique_values\": 270,\n        \"samples\": [\n          \"2024-03-15 03:57:01.187815\",\n          \"2024-06-27 03:57:01.187815\",\n          \"2024-01-23 03:57:01.187815\"\n        ],\n        \"semantic_type\": \"\",\n        \"description\": \"\"\n      }\n    },\n    {\n      \"column\": \"Cliente\",\n      \"properties\": {\n        \"dtype\": \"string\",\n        \"num_unique_values\": 500,\n        \"samples\": [\n          \"Cliente_362\",\n          \"Cliente_74\",\n          \"Cliente_375\"\n        ],\n        \"semantic_type\": \"\",\n        \"description\": \"\"\n      }\n    },\n    {\n      \"column\": \"Monto\",\n      \"properties\": {\n        \"dtype\": \"number\",\n        \"std\": 1401.0159271175557,\n        \"min\": 100.07,\n        \"max\": 4986.65,\n        \"num_unique_values\": 500,\n        \"samples\": [\n          4707.01,\n          2830.45,\n          2003.98\n        ],\n        \"semantic_type\": \"\",\n        \"description\": \"\"\n      }\n    },\n    {\n      \"column\": \"Tipo de Transacci\\u00f3n\",\n      \"properties\": {\n        \"dtype\": \"category\",\n        \"num_unique_values\": 3,\n        \"samples\": [\n          \"Dep\\u00f3sito\",\n          \"Transferencia\",\n          \"Retiro\"\n        ],\n        \"semantic_type\": \"\",\n        \"description\": \"\"\n      }\n    },\n    {\n      \"column\": \"M\\u00e9todo de Pago\",\n      \"properties\": {\n        \"dtype\": \"category\",\n        \"num_unique_values\": 3,\n        \"samples\": [\n          \"Efectivo\",\n          \"Tarjeta de Cr\\u00e9dito\",\n          \"Transferencia\"\n        ],\n        \"semantic_type\": \"\",\n        \"description\": \"\"\n      }\n    },\n    {\n      \"column\": \"Estado\",\n      \"properties\": {\n        \"dtype\": \"category\",\n        \"num_unique_values\": 3,\n        \"samples\": [\n          \"Fallida\",\n          \"Pendiente\",\n          \"Completada\"\n        ],\n        \"semantic_type\": \"\",\n        \"description\": \"\"\n      }\n    }\n  ]\n}"
            }
          },
          "metadata": {},
          "execution_count": 1
        }
      ],
      "source": [
        "import pandas as pd\n",
        "import numpy as np\n",
        "import random\n",
        "from datetime import datetime, timedelta\n",
        "\n",
        "# Parámetros para la generación de datos\n",
        "num_rows = 500\n",
        "start_date = datetime.now() - timedelta(days=365)\n",
        "end_date = datetime.now()\n",
        "\n",
        "# Función para generar una fecha aleatoria\n",
        "def random_date(start, end):\n",
        "    return start + timedelta(days=random.randint(0, (end - start).days))\n",
        "\n",
        "# Generar datos\n",
        "data = {\n",
        "    'ID_Transacción': [i for i in range(1, num_rows + 1)],\n",
        "    'Fecha': [random_date(start_date, end_date) for _ in range(num_rows)],\n",
        "    'Cliente': [f'Cliente_{i}' for i in range(1, num_rows + 1)],\n",
        "    'Monto': [round(random.uniform(100, 5000), 2) for _ in range(num_rows)],\n",
        "    'Tipo de Transacción': [random.choice(['Depósito', 'Retiro', 'Transferencia']) for _ in range(num_rows)],\n",
        "    'Método de Pago': [random.choice(['Efectivo', 'Tarjeta de Crédito', 'Transferencia']) for _ in range(num_rows)],\n",
        "    'Estado': [random.choice(['Completada', 'Pendiente', 'Fallida']) for _ in range(num_rows)]\n",
        "}\n",
        "\n",
        "# Crear el DataFrame\n",
        "df = pd.DataFrame(data)\n",
        "\n",
        "# Mostrar las primeras filas del DataFrame\n",
        "df.head()"
      ]
    },
    {
      "cell_type": "markdown",
      "source": [
        "###**Ejercicio 1: Gráfico de Subplots**\n",
        "**Objetivo:** Crear una visualización que compare los montos de las transacciones completadas y fallidas."
      ],
      "metadata": {
        "id": "8z7YOMZIqHie"
      }
    },
    {
      "cell_type": "code",
      "source": [],
      "metadata": {
        "id": "Bhkp5A4DqHtS"
      },
      "execution_count": null,
      "outputs": []
    },
    {
      "cell_type": "markdown",
      "source": [
        "###**Ejercicio 2: Gráfico de Heatmap**\n",
        "**Objetivo:** Visualizar la matriz de correlación de las variables numéricas."
      ],
      "metadata": {
        "id": "jfEUcBdBqO0U"
      }
    },
    {
      "source": [],
      "cell_type": "code",
      "metadata": {
        "id": "TxRwaXvMq0uf"
      },
      "execution_count": null,
      "outputs": []
    },
    {
      "cell_type": "markdown",
      "source": [
        "###**Ejercicio 3: Gráfico de Violinplot**\n",
        "**Objetivo:** Comparar la distribución de montos entre diferentes métodos de pago."
      ],
      "metadata": {
        "id": "a5VmremBqOn3"
      }
    },
    {
      "cell_type": "code",
      "source": [],
      "metadata": {
        "id": "gyoYLCKUqOiI"
      },
      "execution_count": null,
      "outputs": []
    },
    {
      "cell_type": "markdown",
      "source": [
        "###**Ejercicio 4: Gráfico de Boxenplot**\n",
        "**Objetivo:** Comparar la distribución de montos entre diferentes tipos de transacción."
      ],
      "metadata": {
        "id": "FZsQ5jGOqOb7"
      }
    },
    {
      "cell_type": "code",
      "source": [],
      "metadata": {
        "id": "6PAxl96kqOWG"
      },
      "execution_count": null,
      "outputs": []
    },
    {
      "cell_type": "markdown",
      "source": [
        "###**Ejercicio 5: Gráfico de Series Temporales**\n",
        "**Objetivo:** Visualizar el monto total de transacciones completadas a lo largo del tiempo."
      ],
      "metadata": {
        "id": "pMS1OPuHqOQc"
      }
    },
    {
      "cell_type": "code",
      "source": [],
      "metadata": {
        "id": "mbbH86EKqOLE"
      },
      "execution_count": null,
      "outputs": []
    },
    {
      "cell_type": "markdown",
      "source": [
        "###**Ejercicio 6: Gráfico de Barras Apiladas**\n",
        "**Objetivo:** Comparar el número de transacciones por estado y método de pago"
      ],
      "metadata": {
        "id": "8OgwdQGQqOFF"
      }
    },
    {
      "cell_type": "code",
      "source": [],
      "metadata": {
        "id": "qtU1n6WbqN_V"
      },
      "execution_count": null,
      "outputs": []
    },
    {
      "cell_type": "markdown",
      "source": [
        "###**Ejercicio 7: Gráfico de Dispersión con Anotaciones**\n",
        "**Objetivo:** Visualizar la relación entre el monto de las transacciones y el tipo de transacción, anotando las transacciones más grandes."
      ],
      "metadata": {
        "id": "Tgs-WV42qN5P"
      }
    },
    {
      "cell_type": "code",
      "source": [],
      "metadata": {
        "id": "Hrs25FqnqNyk"
      },
      "execution_count": null,
      "outputs": []
    },
    {
      "cell_type": "markdown",
      "source": [
        "###**Ejercicio 8: Gráfico de Superficie 3D**\n",
        "**Problema:** Visualizar una superficie 3D que represente el monto de las transacciones por día del mes y tipo de transacción."
      ],
      "metadata": {
        "id": "YYLaslTeqNse"
      }
    },
    {
      "cell_type": "code",
      "source": [],
      "metadata": {
        "id": "iNf0cXRqqNm1"
      },
      "execution_count": null,
      "outputs": []
    },
    {
      "cell_type": "markdown",
      "source": [
        "###**Ejercicio 9: Gráfico de FacetGrid**\n",
        "**Problema:** Crear una cuadrícula de gráficos que compare la distribución de montos por estado para cada tipo de transacción."
      ],
      "metadata": {
        "id": "_mMzKcoOqMul"
      }
    },
    {
      "cell_type": "code",
      "source": [],
      "metadata": {
        "id": "oj2OvWj7qMnN"
      },
      "execution_count": null,
      "outputs": []
    }
  ]
}