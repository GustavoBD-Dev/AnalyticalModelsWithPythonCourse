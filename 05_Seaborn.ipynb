{
  "nbformat": 4,
  "nbformat_minor": 0,
  "metadata": {
    "colab": {
      "provenance": [],
      "include_colab_link": true
    },
    "kernelspec": {
      "name": "python3",
      "display_name": "Python 3"
    },
    "language_info": {
      "name": "python"
    }
  },
  "cells": [
    {
      "cell_type": "markdown",
      "metadata": {
        "id": "view-in-github",
        "colab_type": "text"
      },
      "source": [
        "<a href=\"https://colab.research.google.com/github/GustavoBD-Dev/AnalyticalModelsWithPythonCourse/blob/Session-2/05_Seaborn.ipynb\" target=\"_parent\"><img src=\"https://colab.research.google.com/assets/colab-badge.svg\" alt=\"Open In Colab\"/></a>"
      ]
    },
    {
      "cell_type": "markdown",
      "source": [
        "#**Seaborn**"
      ],
      "metadata": {
        "id": "SiVOarernk7W"
      }
    },
    {
      "cell_type": "markdown",
      "source": [
        "Seaborn es una biblioteca de visualización de datos basada en Matplotlib que proporciona una interfaz de alto nivel para crear gráficos atractivos y estadísticamente informativos. A continuación, se presentan algunas de las funciones avanzadas más útiles de Seaborn, junto con ejemplos y consideraciones esenciales.\n",
        "\n",
        "- **1. Pairplot:**\n",
        "`pairplot` permite visualizar relaciones bivariadas y distribuciones univariadas para un conjunto de datos.\n",
        "\n",
        "```python\n",
        "import seaborn as sns\n",
        "import pandas as pd\n",
        "\n",
        "# Cargar el conjunto de datos de ejemplo\n",
        "iris = sns.load_dataset('iris')\n",
        "\n",
        "# Crear un pairplot\n",
        "sns.pairplot(iris, hue='species')\n",
        "plt.show()\n",
        "```\n",
        "\n",
        "- **2. Heatmap:**\n",
        "`heatmap` es útil para visualizar matrices de correlación u otros tipos de matrices de datos.\n",
        "\n",
        "```python\n",
        "# Calcular la matriz de correlación\n",
        "correlation_matrix = iris.corr()\n",
        "\n",
        "# Crear un heatmap\n",
        "sns.heatmap(correlation_matrix, annot=True, cmap='coolwarm')\n",
        "plt.title('Matriz de Correlación del Conjunto de Datos Iris')\n",
        "plt.show()\n",
        "```\n",
        "\n",
        "- **3. FacetGrid:**\n",
        "`FacetGrid` facilita la creación de múltiples gráficos distribuidos en una cuadrícula, lo que permite comparar subconjuntos de datos.\n",
        "\n",
        "```python\n",
        "# Crear un FacetGrid\n",
        "g = sns.FacetGrid(iris, col='species')\n",
        "g.map(plt.hist, 'sepal_length')\n",
        "plt.show()\n",
        "```\n",
        "\n",
        "- **4. Boxenplot:**\n",
        "`boxenplot` es una versión mejorada del boxplot que muestra mejor las distribuciones en datos asimétricos.\n",
        "\n",
        "```python\n",
        "# Crear un boxenplot\n",
        "sns.boxenplot(x='species', y='sepal_width', data=iris)\n",
        "plt.title('Distribución de Ancho de Sépalo por Especie')\n",
        "plt.show()\n",
        "```\n",
        "\n",
        "- **5. Violinplot:**\n",
        "`violinplot` combina características de los boxplots y los kdeplots, proporcionando una representación más detallada de la distribución de los datos.\n",
        "\n",
        "```python\n",
        "# Crear un violinplot\n",
        "sns.violinplot(x='species', y='petal_length', data=iris)\n",
        "plt.title('Distribución de Longitud de Pétalo por Especie')\n",
        "plt.show()\n",
        "```\n",
        "\n",
        "- **6. Jointplot:**\n",
        "`jointplot` permite visualizar la relación entre dos variables junto con sus distribuciones univariadas.\n",
        "\n",
        "```python\n",
        "# Crear un jointplot\n",
        "sns.jointplot(x='sepal_length', y='sepal_width', data=iris, kind='scatter')\n",
        "plt.show()\n",
        "```\n",
        "\n",
        "- **7. PairGrid:**\n",
        "`PairGrid` ofrece un control más granular sobre la creación de gráficos pareados.\n",
        "\n",
        "```python\n",
        "# Crear un PairGrid\n",
        "g = sns.PairGrid(iris)\n",
        "g.map_upper(sns.scatterplot)\n",
        "g.map_lower(sns.kdeplot, cmap='Blues_d')\n",
        "g.map_diag(sns.histplot, kde=True)\n",
        "plt.show()\n",
        "```\n",
        "\n",
        "###**Consideraciones:**\n",
        "\n",
        "1. **Consistencia de Estilo**: Usa una paleta de colores coherente a lo largo de tus gráficos para mantener una presentación profesional y visualmente atractiva.\n",
        "2. **Legibilidad**: Asegúrate de que las etiquetas, títulos y leyendas sean claras y descriptivas.\n",
        "3. **Ajuste de Parámetros**: Aprovecha los parámetros adicionales que ofrecen las funciones de Seaborn para personalizar los gráficos según las necesidades específicas de tu análisis.\n",
        "4. **Contexto y Temas**: Usa `set_context` y `set_style` para ajustar la estética de los gráficos según el contexto (por ejemplo, presentaciones, informes).\n",
        "\n",
        "```python\n",
        "# Ajustar el contexto y el estilo\n",
        "sns.set_context('talk')\n",
        "sns.set_style('whitegrid')\n",
        "\n",
        "# Crear un gráfico con los ajustes de estilo\n",
        "sns.violinplot(x='species', y='petal_length', data=iris)\n",
        "plt.title('Distribución de Longitud de Pétalo por Especie')\n",
        "plt.show()\n",
        "```"
      ],
      "metadata": {
        "id": "FRyQgPD5nk5B"
      }
    },
    {
      "cell_type": "markdown",
      "source": [
        "##**Ejercicios:**"
      ],
      "metadata": {
        "id": "XIC9G6YNuPdf"
      }
    },
    {
      "cell_type": "code",
      "execution_count": null,
      "metadata": {
        "colab": {
          "base_uri": "https://localhost:8080/",
          "height": 206
        },
        "id": "xSYcQEm4kQzu",
        "outputId": "336dc3bd-e8a4-4918-ea06-5a56d1b8eeb1"
      },
      "outputs": [
        {
          "output_type": "execute_result",
          "data": {
            "text/plain": [
              "   ID_Transacción                      Fecha    Cliente    Monto  \\\n",
              "0               1 2024-06-27 21:01:06.697184  Cliente_1  4985.71   \n",
              "1               2 2024-05-23 21:01:06.697184  Cliente_2  4179.16   \n",
              "2               3 2024-03-12 21:01:06.697184  Cliente_3   473.47   \n",
              "3               4 2024-05-19 21:01:06.697184  Cliente_4  1078.77   \n",
              "4               5 2023-09-07 21:01:06.697184  Cliente_5  3366.77   \n",
              "\n",
              "  Tipo de Transacción      Método de Pago      Estado  \n",
              "0              Retiro  Tarjeta de Crédito   Pendiente  \n",
              "1              Retiro  Tarjeta de Crédito     Fallida  \n",
              "2              Retiro  Tarjeta de Crédito     Fallida  \n",
              "3       Transferencia            Efectivo  Completada  \n",
              "4       Transferencia  Tarjeta de Crédito  Completada  "
            ],
            "text/html": [
              "\n",
              "  <div id=\"df-2d0d6658-4675-4f9b-8982-5ab962442e6c\" class=\"colab-df-container\">\n",
              "    <div>\n",
              "<style scoped>\n",
              "    .dataframe tbody tr th:only-of-type {\n",
              "        vertical-align: middle;\n",
              "    }\n",
              "\n",
              "    .dataframe tbody tr th {\n",
              "        vertical-align: top;\n",
              "    }\n",
              "\n",
              "    .dataframe thead th {\n",
              "        text-align: right;\n",
              "    }\n",
              "</style>\n",
              "<table border=\"1\" class=\"dataframe\">\n",
              "  <thead>\n",
              "    <tr style=\"text-align: right;\">\n",
              "      <th></th>\n",
              "      <th>ID_Transacción</th>\n",
              "      <th>Fecha</th>\n",
              "      <th>Cliente</th>\n",
              "      <th>Monto</th>\n",
              "      <th>Tipo de Transacción</th>\n",
              "      <th>Método de Pago</th>\n",
              "      <th>Estado</th>\n",
              "    </tr>\n",
              "  </thead>\n",
              "  <tbody>\n",
              "    <tr>\n",
              "      <th>0</th>\n",
              "      <td>1</td>\n",
              "      <td>2024-06-27 21:01:06.697184</td>\n",
              "      <td>Cliente_1</td>\n",
              "      <td>4985.71</td>\n",
              "      <td>Retiro</td>\n",
              "      <td>Tarjeta de Crédito</td>\n",
              "      <td>Pendiente</td>\n",
              "    </tr>\n",
              "    <tr>\n",
              "      <th>1</th>\n",
              "      <td>2</td>\n",
              "      <td>2024-05-23 21:01:06.697184</td>\n",
              "      <td>Cliente_2</td>\n",
              "      <td>4179.16</td>\n",
              "      <td>Retiro</td>\n",
              "      <td>Tarjeta de Crédito</td>\n",
              "      <td>Fallida</td>\n",
              "    </tr>\n",
              "    <tr>\n",
              "      <th>2</th>\n",
              "      <td>3</td>\n",
              "      <td>2024-03-12 21:01:06.697184</td>\n",
              "      <td>Cliente_3</td>\n",
              "      <td>473.47</td>\n",
              "      <td>Retiro</td>\n",
              "      <td>Tarjeta de Crédito</td>\n",
              "      <td>Fallida</td>\n",
              "    </tr>\n",
              "    <tr>\n",
              "      <th>3</th>\n",
              "      <td>4</td>\n",
              "      <td>2024-05-19 21:01:06.697184</td>\n",
              "      <td>Cliente_4</td>\n",
              "      <td>1078.77</td>\n",
              "      <td>Transferencia</td>\n",
              "      <td>Efectivo</td>\n",
              "      <td>Completada</td>\n",
              "    </tr>\n",
              "    <tr>\n",
              "      <th>4</th>\n",
              "      <td>5</td>\n",
              "      <td>2023-09-07 21:01:06.697184</td>\n",
              "      <td>Cliente_5</td>\n",
              "      <td>3366.77</td>\n",
              "      <td>Transferencia</td>\n",
              "      <td>Tarjeta de Crédito</td>\n",
              "      <td>Completada</td>\n",
              "    </tr>\n",
              "  </tbody>\n",
              "</table>\n",
              "</div>\n",
              "    <div class=\"colab-df-buttons\">\n",
              "\n",
              "  <div class=\"colab-df-container\">\n",
              "    <button class=\"colab-df-convert\" onclick=\"convertToInteractive('df-2d0d6658-4675-4f9b-8982-5ab962442e6c')\"\n",
              "            title=\"Convert this dataframe to an interactive table.\"\n",
              "            style=\"display:none;\">\n",
              "\n",
              "  <svg xmlns=\"http://www.w3.org/2000/svg\" height=\"24px\" viewBox=\"0 -960 960 960\">\n",
              "    <path d=\"M120-120v-720h720v720H120Zm60-500h600v-160H180v160Zm220 220h160v-160H400v160Zm0 220h160v-160H400v160ZM180-400h160v-160H180v160Zm440 0h160v-160H620v160ZM180-180h160v-160H180v160Zm440 0h160v-160H620v160Z\"/>\n",
              "  </svg>\n",
              "    </button>\n",
              "\n",
              "  <style>\n",
              "    .colab-df-container {\n",
              "      display:flex;\n",
              "      gap: 12px;\n",
              "    }\n",
              "\n",
              "    .colab-df-convert {\n",
              "      background-color: #E8F0FE;\n",
              "      border: none;\n",
              "      border-radius: 50%;\n",
              "      cursor: pointer;\n",
              "      display: none;\n",
              "      fill: #1967D2;\n",
              "      height: 32px;\n",
              "      padding: 0 0 0 0;\n",
              "      width: 32px;\n",
              "    }\n",
              "\n",
              "    .colab-df-convert:hover {\n",
              "      background-color: #E2EBFA;\n",
              "      box-shadow: 0px 1px 2px rgba(60, 64, 67, 0.3), 0px 1px 3px 1px rgba(60, 64, 67, 0.15);\n",
              "      fill: #174EA6;\n",
              "    }\n",
              "\n",
              "    .colab-df-buttons div {\n",
              "      margin-bottom: 4px;\n",
              "    }\n",
              "\n",
              "    [theme=dark] .colab-df-convert {\n",
              "      background-color: #3B4455;\n",
              "      fill: #D2E3FC;\n",
              "    }\n",
              "\n",
              "    [theme=dark] .colab-df-convert:hover {\n",
              "      background-color: #434B5C;\n",
              "      box-shadow: 0px 1px 3px 1px rgba(0, 0, 0, 0.15);\n",
              "      filter: drop-shadow(0px 1px 2px rgba(0, 0, 0, 0.3));\n",
              "      fill: #FFFFFF;\n",
              "    }\n",
              "  </style>\n",
              "\n",
              "    <script>\n",
              "      const buttonEl =\n",
              "        document.querySelector('#df-2d0d6658-4675-4f9b-8982-5ab962442e6c button.colab-df-convert');\n",
              "      buttonEl.style.display =\n",
              "        google.colab.kernel.accessAllowed ? 'block' : 'none';\n",
              "\n",
              "      async function convertToInteractive(key) {\n",
              "        const element = document.querySelector('#df-2d0d6658-4675-4f9b-8982-5ab962442e6c');\n",
              "        const dataTable =\n",
              "          await google.colab.kernel.invokeFunction('convertToInteractive',\n",
              "                                                    [key], {});\n",
              "        if (!dataTable) return;\n",
              "\n",
              "        const docLinkHtml = 'Like what you see? Visit the ' +\n",
              "          '<a target=\"_blank\" href=https://colab.research.google.com/notebooks/data_table.ipynb>data table notebook</a>'\n",
              "          + ' to learn more about interactive tables.';\n",
              "        element.innerHTML = '';\n",
              "        dataTable['output_type'] = 'display_data';\n",
              "        await google.colab.output.renderOutput(dataTable, element);\n",
              "        const docLink = document.createElement('div');\n",
              "        docLink.innerHTML = docLinkHtml;\n",
              "        element.appendChild(docLink);\n",
              "      }\n",
              "    </script>\n",
              "  </div>\n",
              "\n",
              "\n",
              "<div id=\"df-60ca79b0-eb9b-4ebf-ba6a-212fde9d1ece\">\n",
              "  <button class=\"colab-df-quickchart\" onclick=\"quickchart('df-60ca79b0-eb9b-4ebf-ba6a-212fde9d1ece')\"\n",
              "            title=\"Suggest charts\"\n",
              "            style=\"display:none;\">\n",
              "\n",
              "<svg xmlns=\"http://www.w3.org/2000/svg\" height=\"24px\"viewBox=\"0 0 24 24\"\n",
              "     width=\"24px\">\n",
              "    <g>\n",
              "        <path d=\"M19 3H5c-1.1 0-2 .9-2 2v14c0 1.1.9 2 2 2h14c1.1 0 2-.9 2-2V5c0-1.1-.9-2-2-2zM9 17H7v-7h2v7zm4 0h-2V7h2v10zm4 0h-2v-4h2v4z\"/>\n",
              "    </g>\n",
              "</svg>\n",
              "  </button>\n",
              "\n",
              "<style>\n",
              "  .colab-df-quickchart {\n",
              "      --bg-color: #E8F0FE;\n",
              "      --fill-color: #1967D2;\n",
              "      --hover-bg-color: #E2EBFA;\n",
              "      --hover-fill-color: #174EA6;\n",
              "      --disabled-fill-color: #AAA;\n",
              "      --disabled-bg-color: #DDD;\n",
              "  }\n",
              "\n",
              "  [theme=dark] .colab-df-quickchart {\n",
              "      --bg-color: #3B4455;\n",
              "      --fill-color: #D2E3FC;\n",
              "      --hover-bg-color: #434B5C;\n",
              "      --hover-fill-color: #FFFFFF;\n",
              "      --disabled-bg-color: #3B4455;\n",
              "      --disabled-fill-color: #666;\n",
              "  }\n",
              "\n",
              "  .colab-df-quickchart {\n",
              "    background-color: var(--bg-color);\n",
              "    border: none;\n",
              "    border-radius: 50%;\n",
              "    cursor: pointer;\n",
              "    display: none;\n",
              "    fill: var(--fill-color);\n",
              "    height: 32px;\n",
              "    padding: 0;\n",
              "    width: 32px;\n",
              "  }\n",
              "\n",
              "  .colab-df-quickchart:hover {\n",
              "    background-color: var(--hover-bg-color);\n",
              "    box-shadow: 0 1px 2px rgba(60, 64, 67, 0.3), 0 1px 3px 1px rgba(60, 64, 67, 0.15);\n",
              "    fill: var(--button-hover-fill-color);\n",
              "  }\n",
              "\n",
              "  .colab-df-quickchart-complete:disabled,\n",
              "  .colab-df-quickchart-complete:disabled:hover {\n",
              "    background-color: var(--disabled-bg-color);\n",
              "    fill: var(--disabled-fill-color);\n",
              "    box-shadow: none;\n",
              "  }\n",
              "\n",
              "  .colab-df-spinner {\n",
              "    border: 2px solid var(--fill-color);\n",
              "    border-color: transparent;\n",
              "    border-bottom-color: var(--fill-color);\n",
              "    animation:\n",
              "      spin 1s steps(1) infinite;\n",
              "  }\n",
              "\n",
              "  @keyframes spin {\n",
              "    0% {\n",
              "      border-color: transparent;\n",
              "      border-bottom-color: var(--fill-color);\n",
              "      border-left-color: var(--fill-color);\n",
              "    }\n",
              "    20% {\n",
              "      border-color: transparent;\n",
              "      border-left-color: var(--fill-color);\n",
              "      border-top-color: var(--fill-color);\n",
              "    }\n",
              "    30% {\n",
              "      border-color: transparent;\n",
              "      border-left-color: var(--fill-color);\n",
              "      border-top-color: var(--fill-color);\n",
              "      border-right-color: var(--fill-color);\n",
              "    }\n",
              "    40% {\n",
              "      border-color: transparent;\n",
              "      border-right-color: var(--fill-color);\n",
              "      border-top-color: var(--fill-color);\n",
              "    }\n",
              "    60% {\n",
              "      border-color: transparent;\n",
              "      border-right-color: var(--fill-color);\n",
              "    }\n",
              "    80% {\n",
              "      border-color: transparent;\n",
              "      border-right-color: var(--fill-color);\n",
              "      border-bottom-color: var(--fill-color);\n",
              "    }\n",
              "    90% {\n",
              "      border-color: transparent;\n",
              "      border-bottom-color: var(--fill-color);\n",
              "    }\n",
              "  }\n",
              "</style>\n",
              "\n",
              "  <script>\n",
              "    async function quickchart(key) {\n",
              "      const quickchartButtonEl =\n",
              "        document.querySelector('#' + key + ' button');\n",
              "      quickchartButtonEl.disabled = true;  // To prevent multiple clicks.\n",
              "      quickchartButtonEl.classList.add('colab-df-spinner');\n",
              "      try {\n",
              "        const charts = await google.colab.kernel.invokeFunction(\n",
              "            'suggestCharts', [key], {});\n",
              "      } catch (error) {\n",
              "        console.error('Error during call to suggestCharts:', error);\n",
              "      }\n",
              "      quickchartButtonEl.classList.remove('colab-df-spinner');\n",
              "      quickchartButtonEl.classList.add('colab-df-quickchart-complete');\n",
              "    }\n",
              "    (() => {\n",
              "      let quickchartButtonEl =\n",
              "        document.querySelector('#df-60ca79b0-eb9b-4ebf-ba6a-212fde9d1ece button');\n",
              "      quickchartButtonEl.style.display =\n",
              "        google.colab.kernel.accessAllowed ? 'block' : 'none';\n",
              "    })();\n",
              "  </script>\n",
              "</div>\n",
              "\n",
              "    </div>\n",
              "  </div>\n"
            ],
            "application/vnd.google.colaboratory.intrinsic+json": {
              "type": "dataframe",
              "variable_name": "df",
              "summary": "{\n  \"name\": \"df\",\n  \"rows\": 500,\n  \"fields\": [\n    {\n      \"column\": \"ID_Transacci\\u00f3n\",\n      \"properties\": {\n        \"dtype\": \"number\",\n        \"std\": 144,\n        \"min\": 1,\n        \"max\": 500,\n        \"num_unique_values\": 500,\n        \"samples\": [\n          362,\n          74,\n          375\n        ],\n        \"semantic_type\": \"\",\n        \"description\": \"\"\n      }\n    },\n    {\n      \"column\": \"Fecha\",\n      \"properties\": {\n        \"dtype\": \"date\",\n        \"min\": \"2023-08-02 21:01:06.697184\",\n        \"max\": \"2024-08-01 21:01:06.697184\",\n        \"num_unique_values\": 265,\n        \"samples\": [\n          \"2024-06-17 21:01:06.697184\",\n          \"2023-09-20 21:01:06.697184\",\n          \"2024-01-19 21:01:06.697184\"\n        ],\n        \"semantic_type\": \"\",\n        \"description\": \"\"\n      }\n    },\n    {\n      \"column\": \"Cliente\",\n      \"properties\": {\n        \"dtype\": \"string\",\n        \"num_unique_values\": 500,\n        \"samples\": [\n          \"Cliente_362\",\n          \"Cliente_74\",\n          \"Cliente_375\"\n        ],\n        \"semantic_type\": \"\",\n        \"description\": \"\"\n      }\n    },\n    {\n      \"column\": \"Monto\",\n      \"properties\": {\n        \"dtype\": \"number\",\n        \"std\": 1488.5748532790483,\n        \"min\": 102.98,\n        \"max\": 4993.41,\n        \"num_unique_values\": 500,\n        \"samples\": [\n          1007.35,\n          1190.77,\n          1820.67\n        ],\n        \"semantic_type\": \"\",\n        \"description\": \"\"\n      }\n    },\n    {\n      \"column\": \"Tipo de Transacci\\u00f3n\",\n      \"properties\": {\n        \"dtype\": \"category\",\n        \"num_unique_values\": 3,\n        \"samples\": [\n          \"Retiro\",\n          \"Transferencia\",\n          \"Dep\\u00f3sito\"\n        ],\n        \"semantic_type\": \"\",\n        \"description\": \"\"\n      }\n    },\n    {\n      \"column\": \"M\\u00e9todo de Pago\",\n      \"properties\": {\n        \"dtype\": \"category\",\n        \"num_unique_values\": 3,\n        \"samples\": [\n          \"Tarjeta de Cr\\u00e9dito\",\n          \"Efectivo\",\n          \"Transferencia\"\n        ],\n        \"semantic_type\": \"\",\n        \"description\": \"\"\n      }\n    },\n    {\n      \"column\": \"Estado\",\n      \"properties\": {\n        \"dtype\": \"category\",\n        \"num_unique_values\": 3,\n        \"samples\": [\n          \"Pendiente\",\n          \"Fallida\",\n          \"Completada\"\n        ],\n        \"semantic_type\": \"\",\n        \"description\": \"\"\n      }\n    }\n  ]\n}"
            }
          },
          "metadata": {},
          "execution_count": 1
        }
      ],
      "source": [
        "import pandas as pd\n",
        "import numpy as np\n",
        "import random\n",
        "from datetime import datetime, timedelta\n",
        "\n",
        "# Parámetros para la generación de datos\n",
        "num_rows = 500\n",
        "start_date = datetime.now() - timedelta(days=365)\n",
        "end_date = datetime.now()\n",
        "\n",
        "# Función para generar una fecha aleatoria\n",
        "def random_date(start, end):\n",
        "    return start + timedelta(days=random.randint(0, (end - start).days))\n",
        "\n",
        "# Generar datos\n",
        "data = {\n",
        "    'ID_Transacción': [i for i in range(1, num_rows + 1)],\n",
        "    'Fecha': [random_date(start_date, end_date) for _ in range(num_rows)],\n",
        "    'Cliente': [f'Cliente_{i}' for i in range(1, num_rows + 1)],\n",
        "    'Monto': [round(random.uniform(100, 5000), 2) for _ in range(num_rows)],\n",
        "    'Tipo de Transacción': [random.choice(['Depósito', 'Retiro', 'Transferencia']) for _ in range(num_rows)],\n",
        "    'Método de Pago': [random.choice(['Efectivo', 'Tarjeta de Crédito', 'Transferencia']) for _ in range(num_rows)],\n",
        "    'Estado': [random.choice(['Completada', 'Pendiente', 'Fallida']) for _ in range(num_rows)]\n",
        "}\n",
        "\n",
        "# Crear el DataFrame\n",
        "df = pd.DataFrame(data)\n",
        "\n",
        "# Mostrar las primeras filas del DataFrame\n",
        "df.head()"
      ]
    },
    {
      "cell_type": "markdown",
      "source": [
        "###**Ejercicio 1: Pairplot**\n",
        "**Objetivo:** Visualizar la relación entre las variables numéricas y las distribuciones de montos de transacción según el estado de la transacción."
      ],
      "metadata": {
        "id": "EVoHLjvcuTyw"
      }
    },
    {
      "cell_type": "code",
      "source": [],
      "metadata": {
        "id": "_nV5W5dIuTmj"
      },
      "execution_count": null,
      "outputs": []
    },
    {
      "cell_type": "markdown",
      "source": [
        "###**Ejercicio 2: Heatmap**\n",
        "**Objetivo:** Visualizar la matriz de correlación de las variables numéricas."
      ],
      "metadata": {
        "id": "yIjksxC1uTfD"
      }
    },
    {
      "source": [],
      "cell_type": "code",
      "metadata": {
        "id": "9GDcpxGtwGJG"
      },
      "execution_count": null,
      "outputs": []
    },
    {
      "cell_type": "markdown",
      "source": [
        "###**Ejercicio 3: Violinplot**\n",
        "**Objetivo:** Comparar la distribución de montos entre diferentes tipos de transacción."
      ],
      "metadata": {
        "id": "QlQakjFnuTSh"
      }
    },
    {
      "cell_type": "code",
      "source": [],
      "metadata": {
        "id": "oneLfvXkuTMe"
      },
      "execution_count": null,
      "outputs": []
    },
    {
      "cell_type": "markdown",
      "source": [
        "###**Ejercicio 4: Boxenplot**\n",
        "**Objetivo:** Comparar la distribución de montos entre diferentes estados de transacción."
      ],
      "metadata": {
        "id": "JLxGEwehuTGA"
      }
    },
    {
      "cell_type": "code",
      "source": [],
      "metadata": {
        "id": "n9Cq9sXkuTAf"
      },
      "execution_count": null,
      "outputs": []
    },
    {
      "cell_type": "markdown",
      "source": [
        "###**Ejercicio 5: Jointplot**\n",
        "**Objetivo:** Visualizar la relación entre el monto de las transacciones y la fecha."
      ],
      "metadata": {
        "id": "hank-3iNuS6J"
      }
    },
    {
      "cell_type": "code",
      "source": [],
      "metadata": {
        "id": "WcoyS863uSz9"
      },
      "execution_count": null,
      "outputs": []
    },
    {
      "cell_type": "markdown",
      "source": [
        "###**Ejercicio 6: PairGrid**\n",
        "**Objetivo:** Visualizar la relación entre las variables numéricas con diferentes tipos de gráficos en una cuadrícula."
      ],
      "metadata": {
        "id": "6faqJxDAuStQ"
      }
    },
    {
      "cell_type": "code",
      "source": [],
      "metadata": {
        "id": "iyJXuKskuSly"
      },
      "execution_count": null,
      "outputs": []
    },
    {
      "cell_type": "markdown",
      "source": [
        "###**Ejercicio 7: FacetGrid**\n",
        "**Objetivo:** Visualizar la distribución de montos por tipo de transacción y método de pago."
      ],
      "metadata": {
        "id": "JAgj72BGuRr9"
      }
    },
    {
      "cell_type": "code",
      "source": [],
      "metadata": {
        "id": "jTY-HjtCuRf7"
      },
      "execution_count": null,
      "outputs": []
    },
    {
      "cell_type": "markdown",
      "source": [
        "###**Ejercicio 8: Heatmap con Pivot Table**\n",
        "**Objetivo:** Visualizar el monto total de transacciones completadas por día y método de pago."
      ],
      "metadata": {
        "id": "IZv2KlqIuRDM"
      }
    },
    {
      "cell_type": "code",
      "source": [],
      "metadata": {
        "id": "ewLdA7wquWgi"
      },
      "execution_count": null,
      "outputs": []
    },
    {
      "cell_type": "markdown",
      "source": [
        "###**Ejercicio 9: Gráfico de Líneas con FacetGrid**\n",
        "**Problema:** Visualizar la tendencia de montos de transacciones completadas a lo largo del tiempo para cada tipo de transacción."
      ],
      "metadata": {
        "id": "5zC1R8uMuWqY"
      }
    },
    {
      "cell_type": "code",
      "source": [],
      "metadata": {
        "id": "VocMxDe6uQwn"
      },
      "execution_count": null,
      "outputs": []
    }
  ]
}