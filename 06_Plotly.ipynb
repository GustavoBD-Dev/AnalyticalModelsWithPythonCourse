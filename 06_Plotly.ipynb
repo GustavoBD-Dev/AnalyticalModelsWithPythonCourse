{
  "nbformat": 4,
  "nbformat_minor": 0,
  "metadata": {
    "colab": {
      "provenance": [],
      "include_colab_link": true
    },
    "kernelspec": {
      "name": "python3",
      "display_name": "Python 3"
    },
    "language_info": {
      "name": "python"
    }
  },
  "cells": [
    {
      "cell_type": "markdown",
      "metadata": {
        "id": "view-in-github",
        "colab_type": "text"
      },
      "source": [
        "<a href=\"https://colab.research.google.com/github/GustavoBD-Dev/AnalyticalModelsWithPythonCourse/blob/Session-2/06_Plotly.ipynb\" target=\"_parent\"><img src=\"https://colab.research.google.com/assets/colab-badge.svg\" alt=\"Open In Colab\"/></a>"
      ]
    },
    {
      "cell_type": "markdown",
      "source": [
        "#**Plotly**"
      ],
      "metadata": {
        "id": "JwfU8slUntHq"
      }
    },
    {
      "cell_type": "markdown",
      "source": [
        "Plotly es una biblioteca interactiva de gráficos que permite crear visualizaciones ricas y dinámicas. A continuación, se presentan algunas de las funciones avanzadas más útiles de Plotly, junto con ejemplos y consideraciones esenciales.\n",
        "\n",
        "### **1. Gráficos 3D**\n",
        "\n",
        "Plotly facilita la creación de gráficos 3D interactivos, como gráficos de dispersión y superficies.\n",
        "\n",
        "- **Gráfico de Dispersión 3D**\n",
        "```python\n",
        "import plotly.graph_objects as go\n",
        "import numpy as np\n",
        "# Datos de ejemplo\n",
        "x = np.random.randn(100)\n",
        "y = np.random.randn(100)\n",
        "z = np.random.randn(100)\n",
        "# Crear gráfico de dispersión 3D\n",
        "fig = go.Figure(data=[go.Scatter3d(x=x, y=y, z=z, mode='markers')])\n",
        "fig.update_layout(title='Gráfico de Dispersión 3D')\n",
        "fig.show()\n",
        "```\n",
        "\n",
        "- **Gráfico de Superficie**\n",
        "```python\n",
        "# Datos de ejemplo\n",
        "x = np.linspace(-5, 5, 100)\n",
        "y = np.linspace(-5, 5, 100)\n",
        "X, Y = np.meshgrid(x, y)\n",
        "Z = np.sin(np.sqrt(X**2 + Y**2))\n",
        "# Crear gráfico de superficie\n",
        "fig = go.Figure(data=[go.Surface(z=Z, x=X, y=Y)])\n",
        "fig.update_layout(title='Gráfico de Superficie 3D', scene=dict(zaxis=dict(nticks=4, range=[-1,1])))\n",
        "fig.show()\n",
        "```\n",
        "\n",
        "### **2. Gráficos de Mapa**\n",
        "\n",
        "Plotly permite crear gráficos de mapa detallados y interactivos, ideales para visualizaciones geográficas.\n",
        "\n",
        "```python\n",
        "import plotly.express as px\n",
        "\n",
        "# Datos de ejemplo\n",
        "df = px.data.gapminder().query(\"year == 2007\")\n",
        "\n",
        "# Crear gráfico de mapa\n",
        "fig = px.scatter_geo(df, locations=\"iso_alpha\", color=\"continent\",\n",
        "                     hover_name=\"country\", size=\"pop\", projection=\"natural earth\")\n",
        "fig.update_layout(title='Gráfico de Mapa Interactivo')\n",
        "fig.show()\n",
        "```\n",
        "\n",
        "### **3. Subplots**\n",
        "\n",
        "Crear múltiples gráficos en una sola figura usando `make_subplots`.\n",
        "\n",
        "```python\n",
        "from plotly.subplots import make_subplots\n",
        "\n",
        "# Crear subplots\n",
        "fig = make_subplots(rows=1, cols=2, subplot_titles=(\"Gráfico 1\", \"Gráfico 2\"))\n",
        "\n",
        "# Añadir datos a los subplots\n",
        "fig.add_trace(go.Scatter(x=[1, 2, 3], y=[4, 5, 6]), row=1, col=1)\n",
        "fig.add_trace(go.Bar(x=[1, 2, 3], y=[6, 5, 4]), row=1, col=2)\n",
        "\n",
        "fig.update_layout(title='Subplots en Plotly')\n",
        "fig.show()\n",
        "```\n",
        "\n",
        "### **4. Gráficos de Series Temporales**\n",
        "\n",
        "Plotly facilita la visualización de series temporales con soporte para gráficos interactivos.\n",
        "\n",
        "```python\n",
        "import pandas as pd\n",
        "\n",
        "# Datos de ejemplo\n",
        "dates = pd.date_range(start='2020-01-01', periods=100)\n",
        "data = np.random.randn(100).cumsum()\n",
        "\n",
        "# Crear gráfico de serie temporal\n",
        "fig = go.Figure([go.Scatter(x=dates, y=data)])\n",
        "fig.update_layout(title='Gráfico de Serie Temporal')\n",
        "fig.show()\n",
        "```\n",
        "\n",
        "### **5. Personalización de Gráficos**\n",
        "\n",
        "Plotly permite una amplia personalización de gráficos, desde colores y estilos hasta la configuración de elementos interactivos.\n",
        "\n",
        "```python\n",
        "# Datos de ejemplo\n",
        "x = np.linspace(0, 10, 100)\n",
        "y = np.sin(x)\n",
        "\n",
        "# Crear gráfico con personalización\n",
        "fig = go.Figure(data=[go.Scatter(x=x, y=y, mode='lines', line=dict(color='firebrick', width=2))])\n",
        "fig.update_layout(title='Gráfico Personalizado',\n",
        "                  xaxis_title='Eje X',\n",
        "                  yaxis_title='Eje Y',\n",
        "                  template='plotly_dark')\n",
        "fig.show()\n",
        "```\n",
        "\n",
        "###**Consideraciones:**\n",
        "\n",
        "1. **Interactividad**: Aprovecha las capacidades interactivas de Plotly, como el zoom, la panorámica y las anotaciones.\n",
        "2. **Consistencia Visual**: Mantén una paleta de colores y estilos coherentes para una mejor presentación.\n",
        "3. **Ajustes de Diseño**: Usa `update_layout` y otros métodos de personalización para ajustar la apariencia y funcionalidad de tus gráficos.\n",
        "4. **Exportación**: Plotly permite exportar gráficos a varios formatos, incluidos PNG, PDF y HTML, asegurando que tus visualizaciones sean accesibles en diferentes plataformas.\n",
        "\n",
        "```python\n",
        "# Exportar gráfico a HTML\n",
        "fig.write_html('grafico_interactivo.html')\n",
        "```"
      ],
      "metadata": {
        "id": "GIB-XucrntEf"
      }
    },
    {
      "cell_type": "markdown",
      "source": [
        "##**Ejercicios:**"
      ],
      "metadata": {
        "id": "NjJ9Iyq2xKIh"
      }
    },
    {
      "cell_type": "code",
      "execution_count": null,
      "metadata": {
        "colab": {
          "base_uri": "https://localhost:8080/",
          "height": 206
        },
        "id": "cDR0uicmkYvW",
        "outputId": "46272d3e-66cb-4e49-e430-32a697575346"
      },
      "outputs": [
        {
          "output_type": "execute_result",
          "data": {
            "text/plain": [
              "   ID_Transacción                      Fecha    Cliente    Monto  \\\n",
              "0               1 2024-07-20 21:13:55.374303  Cliente_1   270.08   \n",
              "1               2 2024-01-21 21:13:55.374303  Cliente_2  2395.69   \n",
              "2               3 2024-06-27 21:13:55.374303  Cliente_3  2348.17   \n",
              "3               4 2023-12-12 21:13:55.374303  Cliente_4  3679.88   \n",
              "4               5 2023-11-25 21:13:55.374303  Cliente_5  1608.24   \n",
              "\n",
              "  Tipo de Transacción      Método de Pago      Estado  \n",
              "0              Retiro       Transferencia     Fallida  \n",
              "1            Depósito  Tarjeta de Crédito  Completada  \n",
              "2            Depósito  Tarjeta de Crédito  Completada  \n",
              "3            Depósito       Transferencia     Fallida  \n",
              "4       Transferencia            Efectivo     Fallida  "
            ],
            "text/html": [
              "\n",
              "  <div id=\"df-f8b6b431-44a1-4879-bd55-6e31c4f8556b\" class=\"colab-df-container\">\n",
              "    <div>\n",
              "<style scoped>\n",
              "    .dataframe tbody tr th:only-of-type {\n",
              "        vertical-align: middle;\n",
              "    }\n",
              "\n",
              "    .dataframe tbody tr th {\n",
              "        vertical-align: top;\n",
              "    }\n",
              "\n",
              "    .dataframe thead th {\n",
              "        text-align: right;\n",
              "    }\n",
              "</style>\n",
              "<table border=\"1\" class=\"dataframe\">\n",
              "  <thead>\n",
              "    <tr style=\"text-align: right;\">\n",
              "      <th></th>\n",
              "      <th>ID_Transacción</th>\n",
              "      <th>Fecha</th>\n",
              "      <th>Cliente</th>\n",
              "      <th>Monto</th>\n",
              "      <th>Tipo de Transacción</th>\n",
              "      <th>Método de Pago</th>\n",
              "      <th>Estado</th>\n",
              "    </tr>\n",
              "  </thead>\n",
              "  <tbody>\n",
              "    <tr>\n",
              "      <th>0</th>\n",
              "      <td>1</td>\n",
              "      <td>2024-07-20 21:13:55.374303</td>\n",
              "      <td>Cliente_1</td>\n",
              "      <td>270.08</td>\n",
              "      <td>Retiro</td>\n",
              "      <td>Transferencia</td>\n",
              "      <td>Fallida</td>\n",
              "    </tr>\n",
              "    <tr>\n",
              "      <th>1</th>\n",
              "      <td>2</td>\n",
              "      <td>2024-01-21 21:13:55.374303</td>\n",
              "      <td>Cliente_2</td>\n",
              "      <td>2395.69</td>\n",
              "      <td>Depósito</td>\n",
              "      <td>Tarjeta de Crédito</td>\n",
              "      <td>Completada</td>\n",
              "    </tr>\n",
              "    <tr>\n",
              "      <th>2</th>\n",
              "      <td>3</td>\n",
              "      <td>2024-06-27 21:13:55.374303</td>\n",
              "      <td>Cliente_3</td>\n",
              "      <td>2348.17</td>\n",
              "      <td>Depósito</td>\n",
              "      <td>Tarjeta de Crédito</td>\n",
              "      <td>Completada</td>\n",
              "    </tr>\n",
              "    <tr>\n",
              "      <th>3</th>\n",
              "      <td>4</td>\n",
              "      <td>2023-12-12 21:13:55.374303</td>\n",
              "      <td>Cliente_4</td>\n",
              "      <td>3679.88</td>\n",
              "      <td>Depósito</td>\n",
              "      <td>Transferencia</td>\n",
              "      <td>Fallida</td>\n",
              "    </tr>\n",
              "    <tr>\n",
              "      <th>4</th>\n",
              "      <td>5</td>\n",
              "      <td>2023-11-25 21:13:55.374303</td>\n",
              "      <td>Cliente_5</td>\n",
              "      <td>1608.24</td>\n",
              "      <td>Transferencia</td>\n",
              "      <td>Efectivo</td>\n",
              "      <td>Fallida</td>\n",
              "    </tr>\n",
              "  </tbody>\n",
              "</table>\n",
              "</div>\n",
              "    <div class=\"colab-df-buttons\">\n",
              "\n",
              "  <div class=\"colab-df-container\">\n",
              "    <button class=\"colab-df-convert\" onclick=\"convertToInteractive('df-f8b6b431-44a1-4879-bd55-6e31c4f8556b')\"\n",
              "            title=\"Convert this dataframe to an interactive table.\"\n",
              "            style=\"display:none;\">\n",
              "\n",
              "  <svg xmlns=\"http://www.w3.org/2000/svg\" height=\"24px\" viewBox=\"0 -960 960 960\">\n",
              "    <path d=\"M120-120v-720h720v720H120Zm60-500h600v-160H180v160Zm220 220h160v-160H400v160Zm0 220h160v-160H400v160ZM180-400h160v-160H180v160Zm440 0h160v-160H620v160ZM180-180h160v-160H180v160Zm440 0h160v-160H620v160Z\"/>\n",
              "  </svg>\n",
              "    </button>\n",
              "\n",
              "  <style>\n",
              "    .colab-df-container {\n",
              "      display:flex;\n",
              "      gap: 12px;\n",
              "    }\n",
              "\n",
              "    .colab-df-convert {\n",
              "      background-color: #E8F0FE;\n",
              "      border: none;\n",
              "      border-radius: 50%;\n",
              "      cursor: pointer;\n",
              "      display: none;\n",
              "      fill: #1967D2;\n",
              "      height: 32px;\n",
              "      padding: 0 0 0 0;\n",
              "      width: 32px;\n",
              "    }\n",
              "\n",
              "    .colab-df-convert:hover {\n",
              "      background-color: #E2EBFA;\n",
              "      box-shadow: 0px 1px 2px rgba(60, 64, 67, 0.3), 0px 1px 3px 1px rgba(60, 64, 67, 0.15);\n",
              "      fill: #174EA6;\n",
              "    }\n",
              "\n",
              "    .colab-df-buttons div {\n",
              "      margin-bottom: 4px;\n",
              "    }\n",
              "\n",
              "    [theme=dark] .colab-df-convert {\n",
              "      background-color: #3B4455;\n",
              "      fill: #D2E3FC;\n",
              "    }\n",
              "\n",
              "    [theme=dark] .colab-df-convert:hover {\n",
              "      background-color: #434B5C;\n",
              "      box-shadow: 0px 1px 3px 1px rgba(0, 0, 0, 0.15);\n",
              "      filter: drop-shadow(0px 1px 2px rgba(0, 0, 0, 0.3));\n",
              "      fill: #FFFFFF;\n",
              "    }\n",
              "  </style>\n",
              "\n",
              "    <script>\n",
              "      const buttonEl =\n",
              "        document.querySelector('#df-f8b6b431-44a1-4879-bd55-6e31c4f8556b button.colab-df-convert');\n",
              "      buttonEl.style.display =\n",
              "        google.colab.kernel.accessAllowed ? 'block' : 'none';\n",
              "\n",
              "      async function convertToInteractive(key) {\n",
              "        const element = document.querySelector('#df-f8b6b431-44a1-4879-bd55-6e31c4f8556b');\n",
              "        const dataTable =\n",
              "          await google.colab.kernel.invokeFunction('convertToInteractive',\n",
              "                                                    [key], {});\n",
              "        if (!dataTable) return;\n",
              "\n",
              "        const docLinkHtml = 'Like what you see? Visit the ' +\n",
              "          '<a target=\"_blank\" href=https://colab.research.google.com/notebooks/data_table.ipynb>data table notebook</a>'\n",
              "          + ' to learn more about interactive tables.';\n",
              "        element.innerHTML = '';\n",
              "        dataTable['output_type'] = 'display_data';\n",
              "        await google.colab.output.renderOutput(dataTable, element);\n",
              "        const docLink = document.createElement('div');\n",
              "        docLink.innerHTML = docLinkHtml;\n",
              "        element.appendChild(docLink);\n",
              "      }\n",
              "    </script>\n",
              "  </div>\n",
              "\n",
              "\n",
              "<div id=\"df-b25c8e46-78d3-4fde-bd11-aff8c39730d1\">\n",
              "  <button class=\"colab-df-quickchart\" onclick=\"quickchart('df-b25c8e46-78d3-4fde-bd11-aff8c39730d1')\"\n",
              "            title=\"Suggest charts\"\n",
              "            style=\"display:none;\">\n",
              "\n",
              "<svg xmlns=\"http://www.w3.org/2000/svg\" height=\"24px\"viewBox=\"0 0 24 24\"\n",
              "     width=\"24px\">\n",
              "    <g>\n",
              "        <path d=\"M19 3H5c-1.1 0-2 .9-2 2v14c0 1.1.9 2 2 2h14c1.1 0 2-.9 2-2V5c0-1.1-.9-2-2-2zM9 17H7v-7h2v7zm4 0h-2V7h2v10zm4 0h-2v-4h2v4z\"/>\n",
              "    </g>\n",
              "</svg>\n",
              "  </button>\n",
              "\n",
              "<style>\n",
              "  .colab-df-quickchart {\n",
              "      --bg-color: #E8F0FE;\n",
              "      --fill-color: #1967D2;\n",
              "      --hover-bg-color: #E2EBFA;\n",
              "      --hover-fill-color: #174EA6;\n",
              "      --disabled-fill-color: #AAA;\n",
              "      --disabled-bg-color: #DDD;\n",
              "  }\n",
              "\n",
              "  [theme=dark] .colab-df-quickchart {\n",
              "      --bg-color: #3B4455;\n",
              "      --fill-color: #D2E3FC;\n",
              "      --hover-bg-color: #434B5C;\n",
              "      --hover-fill-color: #FFFFFF;\n",
              "      --disabled-bg-color: #3B4455;\n",
              "      --disabled-fill-color: #666;\n",
              "  }\n",
              "\n",
              "  .colab-df-quickchart {\n",
              "    background-color: var(--bg-color);\n",
              "    border: none;\n",
              "    border-radius: 50%;\n",
              "    cursor: pointer;\n",
              "    display: none;\n",
              "    fill: var(--fill-color);\n",
              "    height: 32px;\n",
              "    padding: 0;\n",
              "    width: 32px;\n",
              "  }\n",
              "\n",
              "  .colab-df-quickchart:hover {\n",
              "    background-color: var(--hover-bg-color);\n",
              "    box-shadow: 0 1px 2px rgba(60, 64, 67, 0.3), 0 1px 3px 1px rgba(60, 64, 67, 0.15);\n",
              "    fill: var(--button-hover-fill-color);\n",
              "  }\n",
              "\n",
              "  .colab-df-quickchart-complete:disabled,\n",
              "  .colab-df-quickchart-complete:disabled:hover {\n",
              "    background-color: var(--disabled-bg-color);\n",
              "    fill: var(--disabled-fill-color);\n",
              "    box-shadow: none;\n",
              "  }\n",
              "\n",
              "  .colab-df-spinner {\n",
              "    border: 2px solid var(--fill-color);\n",
              "    border-color: transparent;\n",
              "    border-bottom-color: var(--fill-color);\n",
              "    animation:\n",
              "      spin 1s steps(1) infinite;\n",
              "  }\n",
              "\n",
              "  @keyframes spin {\n",
              "    0% {\n",
              "      border-color: transparent;\n",
              "      border-bottom-color: var(--fill-color);\n",
              "      border-left-color: var(--fill-color);\n",
              "    }\n",
              "    20% {\n",
              "      border-color: transparent;\n",
              "      border-left-color: var(--fill-color);\n",
              "      border-top-color: var(--fill-color);\n",
              "    }\n",
              "    30% {\n",
              "      border-color: transparent;\n",
              "      border-left-color: var(--fill-color);\n",
              "      border-top-color: var(--fill-color);\n",
              "      border-right-color: var(--fill-color);\n",
              "    }\n",
              "    40% {\n",
              "      border-color: transparent;\n",
              "      border-right-color: var(--fill-color);\n",
              "      border-top-color: var(--fill-color);\n",
              "    }\n",
              "    60% {\n",
              "      border-color: transparent;\n",
              "      border-right-color: var(--fill-color);\n",
              "    }\n",
              "    80% {\n",
              "      border-color: transparent;\n",
              "      border-right-color: var(--fill-color);\n",
              "      border-bottom-color: var(--fill-color);\n",
              "    }\n",
              "    90% {\n",
              "      border-color: transparent;\n",
              "      border-bottom-color: var(--fill-color);\n",
              "    }\n",
              "  }\n",
              "</style>\n",
              "\n",
              "  <script>\n",
              "    async function quickchart(key) {\n",
              "      const quickchartButtonEl =\n",
              "        document.querySelector('#' + key + ' button');\n",
              "      quickchartButtonEl.disabled = true;  // To prevent multiple clicks.\n",
              "      quickchartButtonEl.classList.add('colab-df-spinner');\n",
              "      try {\n",
              "        const charts = await google.colab.kernel.invokeFunction(\n",
              "            'suggestCharts', [key], {});\n",
              "      } catch (error) {\n",
              "        console.error('Error during call to suggestCharts:', error);\n",
              "      }\n",
              "      quickchartButtonEl.classList.remove('colab-df-spinner');\n",
              "      quickchartButtonEl.classList.add('colab-df-quickchart-complete');\n",
              "    }\n",
              "    (() => {\n",
              "      let quickchartButtonEl =\n",
              "        document.querySelector('#df-b25c8e46-78d3-4fde-bd11-aff8c39730d1 button');\n",
              "      quickchartButtonEl.style.display =\n",
              "        google.colab.kernel.accessAllowed ? 'block' : 'none';\n",
              "    })();\n",
              "  </script>\n",
              "</div>\n",
              "\n",
              "    </div>\n",
              "  </div>\n"
            ],
            "application/vnd.google.colaboratory.intrinsic+json": {
              "type": "dataframe",
              "variable_name": "df",
              "summary": "{\n  \"name\": \"df\",\n  \"rows\": 500,\n  \"fields\": [\n    {\n      \"column\": \"ID_Transacci\\u00f3n\",\n      \"properties\": {\n        \"dtype\": \"number\",\n        \"std\": 144,\n        \"min\": 1,\n        \"max\": 500,\n        \"num_unique_values\": 500,\n        \"samples\": [\n          362,\n          74,\n          375\n        ],\n        \"semantic_type\": \"\",\n        \"description\": \"\"\n      }\n    },\n    {\n      \"column\": \"Fecha\",\n      \"properties\": {\n        \"dtype\": \"date\",\n        \"min\": \"2023-08-03 21:13:55.374303\",\n        \"max\": \"2024-08-01 21:13:55.374303\",\n        \"num_unique_values\": 270,\n        \"samples\": [\n          \"2024-03-28 21:13:55.374303\",\n          \"2024-07-21 21:13:55.374303\",\n          \"2023-11-12 21:13:55.374303\"\n        ],\n        \"semantic_type\": \"\",\n        \"description\": \"\"\n      }\n    },\n    {\n      \"column\": \"Cliente\",\n      \"properties\": {\n        \"dtype\": \"string\",\n        \"num_unique_values\": 500,\n        \"samples\": [\n          \"Cliente_362\",\n          \"Cliente_74\",\n          \"Cliente_375\"\n        ],\n        \"semantic_type\": \"\",\n        \"description\": \"\"\n      }\n    },\n    {\n      \"column\": \"Monto\",\n      \"properties\": {\n        \"dtype\": \"number\",\n        \"std\": 1416.38278011585,\n        \"min\": 109.22,\n        \"max\": 4966.95,\n        \"num_unique_values\": 500,\n        \"samples\": [\n          699.89,\n          4337.42,\n          4779.04\n        ],\n        \"semantic_type\": \"\",\n        \"description\": \"\"\n      }\n    },\n    {\n      \"column\": \"Tipo de Transacci\\u00f3n\",\n      \"properties\": {\n        \"dtype\": \"category\",\n        \"num_unique_values\": 3,\n        \"samples\": [\n          \"Retiro\",\n          \"Dep\\u00f3sito\",\n          \"Transferencia\"\n        ],\n        \"semantic_type\": \"\",\n        \"description\": \"\"\n      }\n    },\n    {\n      \"column\": \"M\\u00e9todo de Pago\",\n      \"properties\": {\n        \"dtype\": \"category\",\n        \"num_unique_values\": 3,\n        \"samples\": [\n          \"Transferencia\",\n          \"Tarjeta de Cr\\u00e9dito\",\n          \"Efectivo\"\n        ],\n        \"semantic_type\": \"\",\n        \"description\": \"\"\n      }\n    },\n    {\n      \"column\": \"Estado\",\n      \"properties\": {\n        \"dtype\": \"category\",\n        \"num_unique_values\": 3,\n        \"samples\": [\n          \"Fallida\",\n          \"Completada\",\n          \"Pendiente\"\n        ],\n        \"semantic_type\": \"\",\n        \"description\": \"\"\n      }\n    }\n  ]\n}"
            }
          },
          "metadata": {},
          "execution_count": 1
        }
      ],
      "source": [
        "import pandas as pd\n",
        "import numpy as np\n",
        "import random\n",
        "from datetime import datetime, timedelta\n",
        "\n",
        "# Parámetros para la generación de datos\n",
        "num_rows = 500\n",
        "start_date = datetime.now() - timedelta(days=365)\n",
        "end_date = datetime.now()\n",
        "\n",
        "# Función para generar una fecha aleatoria\n",
        "def random_date(start, end):\n",
        "    return start + timedelta(days=random.randint(0, (end - start).days))\n",
        "\n",
        "# Generar datos\n",
        "data = {\n",
        "    'ID_Transacción': [i for i in range(1, num_rows + 1)],\n",
        "    'Fecha': [random_date(start_date, end_date) for _ in range(num_rows)],\n",
        "    'Cliente': [f'Cliente_{i}' for i in range(1, num_rows + 1)],\n",
        "    'Monto': [round(random.uniform(100, 5000), 2) for _ in range(num_rows)],\n",
        "    'Tipo de Transacción': [random.choice(['Depósito', 'Retiro', 'Transferencia']) for _ in range(num_rows)],\n",
        "    'Método de Pago': [random.choice(['Efectivo', 'Tarjeta de Crédito', 'Transferencia']) for _ in range(num_rows)],\n",
        "    'Estado': [random.choice(['Completada', 'Pendiente', 'Fallida']) for _ in range(num_rows)]\n",
        "}\n",
        "\n",
        "# Crear el DataFrame\n",
        "df = pd.DataFrame(data)\n",
        "\n",
        "# Mostrar las primeras filas del DataFrame\n",
        "df.head()"
      ]
    },
    {
      "cell_type": "markdown",
      "source": [
        "###**Ejercicio 1: Gráfico de Dispersión Interactivo**\n",
        "**Objetivo:** Visualizar la relación entre el monto de las transacciones y el tipo de transacción, coloreado por estado."
      ],
      "metadata": {
        "id": "eKPOJKu4xRXf"
      }
    },
    {
      "cell_type": "code",
      "source": [],
      "metadata": {
        "id": "-_1vjPr9xRR_"
      },
      "execution_count": null,
      "outputs": []
    },
    {
      "cell_type": "markdown",
      "source": [
        "###**Ejercicio 2: Gráfico de Barras Apiladas**\n",
        "**Objetivo:** Comparar el número de transacciones por estado y método de pago."
      ],
      "metadata": {
        "id": "aEjSO7UmxRMK"
      }
    },
    {
      "cell_type": "code",
      "source": [],
      "metadata": {
        "id": "J7u0JDo9xRGn"
      },
      "execution_count": null,
      "outputs": []
    },
    {
      "cell_type": "markdown",
      "source": [
        "###**Ejercicio 3: Gráfico de Caja**\n",
        "**Objetivo:** Comparar la distribución de montos entre diferentes métodos de pago."
      ],
      "metadata": {
        "id": "ZYksS9hwxRBO"
      }
    },
    {
      "cell_type": "code",
      "source": [],
      "metadata": {
        "id": "GpzIPJr_xQ7Y"
      },
      "execution_count": null,
      "outputs": []
    },
    {
      "cell_type": "markdown",
      "source": [
        "###**Ejercicio 4: Gráfico de Línea Interactivo**\n",
        "**Objetivo:** Visualizar el monto total de transacciones completadas a lo largo del tiempo."
      ],
      "metadata": {
        "id": "PAXQk_OmxQ2G"
      }
    },
    {
      "cell_type": "code",
      "source": [],
      "metadata": {
        "id": "az6K9RhaxQwW"
      },
      "execution_count": null,
      "outputs": []
    },
    {
      "cell_type": "markdown",
      "source": [
        "###**Ejercicio 5: Gráfico de Histograma**\n",
        "**Objetivo:** Visualizar la distribución de montos de transacciones según el estado."
      ],
      "metadata": {
        "id": "5AWEPuDwxQq2"
      }
    },
    {
      "cell_type": "code",
      "source": [],
      "metadata": {
        "id": "MkntYf2-xQko"
      },
      "execution_count": null,
      "outputs": []
    },
    {
      "cell_type": "markdown",
      "source": [
        "###**Ejercicio 6: Gráfico de Heatmap**\n",
        "**Objetivo:** Visualizar la matriz de correlación de las variables numéricas."
      ],
      "metadata": {
        "id": "QoDPZ_MPxQff"
      }
    },
    {
      "cell_type": "code",
      "source": [],
      "metadata": {
        "id": "7Mlg7SB0xQZa"
      },
      "execution_count": null,
      "outputs": []
    },
    {
      "cell_type": "markdown",
      "source": [
        "###**Ejercicio 7: Gráfico de Violin**\n",
        "**Objetivo:** Comparar la distribución de montos entre diferentes tipos de transacción."
      ],
      "metadata": {
        "id": "DeoBNUiKxQTa"
      }
    },
    {
      "cell_type": "code",
      "source": [],
      "metadata": {
        "id": "NHyR21QUxQNx"
      },
      "execution_count": null,
      "outputs": []
    },
    {
      "cell_type": "markdown",
      "source": [
        "###**Ejercicio 8: Gráfico de Superficie 3D**\n",
        "**Objetivo:** Visualizar una superficie 3D que represente el monto de las transacciones por día del mes y tipo de transacción."
      ],
      "metadata": {
        "id": "Da2bC5rLxQHl"
      }
    },
    {
      "cell_type": "code",
      "source": [],
      "metadata": {
        "id": "vUStFSzNxQBA"
      },
      "execution_count": null,
      "outputs": []
    },
    {
      "cell_type": "markdown",
      "source": [
        "###**Ejercicio 9: Gráfico de Líneas con Facetas**\n",
        "**Objetivo:** Visualizar la tendencia de montos de transacciones completadas a lo largo del tiempo para cada tipo de transacción."
      ],
      "metadata": {
        "id": "ZjTx34lBxP6H"
      }
    },
    {
      "cell_type": "code",
      "source": [],
      "metadata": {
        "id": "JQ32RFLSxPxU"
      },
      "execution_count": null,
      "outputs": []
    }
  ]
}