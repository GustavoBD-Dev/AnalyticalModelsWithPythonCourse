{
  "nbformat": 4,
  "nbformat_minor": 0,
  "metadata": {
    "colab": {
      "provenance": [],
      "include_colab_link": true
    },
    "kernelspec": {
      "name": "python3",
      "display_name": "Python 3"
    },
    "language_info": {
      "name": "python"
    }
  },
  "cells": [
    {
      "cell_type": "markdown",
      "metadata": {
        "id": "view-in-github",
        "colab_type": "text"
      },
      "source": [
        "<a href=\"https://colab.research.google.com/github/GustavoBD-Dev/AnalyticalModelsWithPythonCourse/blob/Session-3/07_Measures.ipynb\" target=\"_parent\"><img src=\"https://colab.research.google.com/assets/colab-badge.svg\" alt=\"Open In Colab\"/></a>"
      ]
    },
    {
      "cell_type": "markdown",
      "source": [
        "#**Medidas de tendencia central y dispersión**"
      ],
      "metadata": {
        "id": "B3oXdcTA51k7"
      }
    },
    {
      "cell_type": "markdown",
      "source": [
        "Las medidas de tendencia central y dispersión son esenciales en el análisis estadístico de datos. Permiten resumir un conjunto de datos y comprender sus características principales, tales como la ubicación central de los datos y su variabilidad.\n",
        "\n",
        "####**Medidas de Tendencia Central**\n",
        "\n",
        "1. **Media (Promedio)**\n",
        "- **Fórmula:** Media = (Suma de todos los valores) / (Número de valores)\n",
        "- **Ejemplo:**\n",
        "     ```python\n",
        "     import numpy as np\n",
        "     datos = [10, 15, 20, 25, 30]\n",
        "     media = np.mean(datos)\n",
        "     print(\"Media:\", media)\n",
        "     ```\n",
        "- **Interpretación:** La media representa el valor promedio de un conjunto de datos. Es útil cuando los datos no tienen valores atípicos extremos, ya que puede ser influenciada por estos.\n",
        "- **Consideración:** La media es sensible a valores atípicos (outliers), que pueden distorsionar el promedio.\n",
        "\n",
        "2. **Mediana**\n",
        "- **Fórmula:** Si el número de observaciones es impar, la mediana es el valor central. Si es par, es el promedio de los dos valores centrales.\n",
        "- **Ejemplo:**\n",
        "     ```python\n",
        "     mediana = np.median(datos)\n",
        "     print(\"Mediana:\", mediana)\n",
        "     ```\n",
        "- **Interpretación:** La mediana es el valor que divide al conjunto de datos en dos partes iguales. Es útil en distribuciones asimétricas o cuando hay valores atípicos, ya que no se ve afectada por ellos.\n",
        "- **Consideración:** La mediana proporciona una medida más robusta de tendencia central en presencia de valores atípicos.\n",
        "\n",
        "3. **Moda**\n",
        "- **Fórmula:** La moda es el valor que más se repite en un conjunto de datos.\n",
        "- **Ejemplo:**\n",
        "     ```python\n",
        "     from scipy import stats\n",
        "     moda = stats.mode(datos)\n",
        "     print(\"Moda:\", moda.mode[0])\n",
        "     ```\n",
        "- **Interpretación:** La moda es el valor más frecuente en un conjunto de datos. Es útil para datos categóricos o cuando se desea identificar el valor más común.\n",
        "- **Consideración:** Un conjunto de datos puede ser unimodal (una moda), bimodal (dos modas) o multimodal (más de dos modas).\n",
        "\n",
        "#### Medidas de Dispersión\n",
        "\n",
        "1. **Rango**\n",
        "- **Fórmula:** Rango = Valor máximo - Valor mínimo\n",
        "- **Ejemplo:**\n",
        "     ```python\n",
        "     rango = np.ptp(datos)\n",
        "     print(\"Rango:\", rango)\n",
        "     ```\n",
        "- **Interpretación:** El rango indica la amplitud de los datos, es decir, la diferencia entre el valor más alto y el más bajo. Es útil para obtener una idea rápida de la dispersión de los datos.\n",
        "- **Consideración:** El rango solo considera los valores extremos y no proporciona información sobre la dispersión interna de los datos.\n",
        "\n",
        "2. **Varianza**\n",
        "- **Fórmula:** Varianza = Suma de las diferencias al cuadrado de cada valor respecto a la media / Número de valores\n",
        "- **Ejemplo:**\n",
        "     ```python\n",
        "     varianza = np.var(datos)\n",
        "     print(\"Varianza:\", varianza)\n",
        "     ```\n",
        "- **Interpretación:** La varianza mide la dispersión de los datos respecto a la media. Un valor alto de varianza indica que los datos están muy dispersos.\n",
        "- **Consideración:** La varianza está en unidades al cuadrado de los datos originales, lo que puede dificultar su interpretación directa.\n",
        "\n",
        "3. **Desviación Estándar**\n",
        "- **Fórmula:** Desviación Estándar = Raíz cuadrada de la varianza\n",
        "- **Ejemplo:**\n",
        "     ```python\n",
        "     desviacion_estandar = np.std(datos)\n",
        "     print(\"Desviación Estándar:\", desviacion_estandar)\n",
        "     ```\n",
        "- **Interpretación:** La desviación estándar es la raíz cuadrada de la varianza y proporciona una medida de dispersión en las mismas unidades que los datos originales. Es útil para comparar la dispersión entre diferentes conjuntos de datos.\n",
        "- **Consideración:** La desviación estándar es sensible a valores atípicos, al igual que la varianza.\n",
        "\n",
        "4. **Coeficiente de Variación**\n",
        "- **Fórmula:** Coeficiente de Variación = (Desviación Estándar / Media) x 100\n",
        "- **Ejemplo:**\n",
        "     ```python\n",
        "     coeficiente_variacion = (desviacion_estandar / media) * 100\n",
        "     print(\"Coeficiente de Variación:\", coeficiente_variacion)\n",
        "     ```\n",
        "- **Interpretación:** El coeficiente de variación es una medida relativa de dispersión que se expresa como un porcentaje de la media. Es útil para comparar la variabilidad entre conjuntos de datos con diferentes unidades o medias.\n",
        "- **Consideración:** El coeficiente de variación es útil cuando se comparan datasets con diferentes unidades o escalas, ya que proporciona una medida de dispersión normalizada.\n",
        "\n",
        "###**Ejemplo**\n",
        "\n",
        "Consideremos un conjunto de datos de transacciones bancarias:\n",
        "\n",
        "```python\n",
        "import pandas as pd\n",
        "import numpy as np\n",
        "\n",
        "# Generar datos ficticios\n",
        "datos = {\n",
        "    'Monto': [150, 200, 300, 400, 500, 600, 700, 800, 1000, 1200]\n",
        "}\n",
        "\n",
        "df = pd.DataFrame(datos)\n",
        "\n",
        "# Calcular medidas de tendencia central\n",
        "media = df['Monto'].mean()\n",
        "mediana = df['Monto'].median()\n",
        "moda = df['Monto'].mode()[0]\n",
        "\n",
        "# Calcular medidas de dispersión\n",
        "rango = df['Monto'].max() - df['Monto'].min()\n",
        "varianza = df['Monto'].var()\n",
        "desviacion_estandar = df['Monto'].std()\n",
        "coeficiente_variacion = (desviacion_estandar / media) * 100\n",
        "\n",
        "print(\"Medidas de Tendencia Central:\")\n",
        "print(\"Media:\", media)\n",
        "print(\"Mediana:\", mediana)\n",
        "print(\"Moda:\", moda)\n",
        "\n",
        "print(\"\\nMedidas de Dispersión:\")\n",
        "print(\"Rango:\", rango)\n",
        "print(\"Varianza:\", varianza)\n",
        "print(\"Desviación Estándar:\", desviacion_estandar)\n",
        "print(\"Coeficiente de Variación:\", coeficiente_variacion)\n",
        "```\n",
        "\n",
        "###**Consideraciones:**\n",
        "\n",
        "- **Valores Atípicos:** Pueden distorsionar la media y la desviación estándar, por lo que es importante analizarlos por separado.\n",
        "- **Distribución de Datos:** La mediana es más representativa en distribuciones asimétricas.\n",
        "- **Comparación de Variabilidad:** El coeficiente de variación es útil cuando se comparan datasets con diferentes unidades o escalas."
      ],
      "metadata": {
        "id": "i2XKrex151f1"
      }
    },
    {
      "cell_type": "markdown",
      "source": [
        "##**Ejercicios**"
      ],
      "metadata": {
        "id": "vNcO70-iAcvk"
      }
    },
    {
      "cell_type": "markdown",
      "source": [
        "###**Ejercicio 1: Media, Mediana y Moda**\n",
        "**Objetivo:** Dado el archivo .csv con datos financieros de empresas, calcular la media, mediana y moda de la columna ROA(C) before interest and depreciation before interest."
      ],
      "metadata": {
        "id": "L5Njk8yVAlsJ"
      }
    },
    {
      "cell_type": "code",
      "execution_count": null,
      "metadata": {
        "colab": {
          "base_uri": "https://localhost:8080/"
        },
        "id": "gjUixSBg5Peu",
        "outputId": "4675d785-b4b0-4d43-a185-3c3a4e3d1d36"
      },
      "outputs": [
        {
          "output_type": "stream",
          "name": "stdout",
          "text": [
            "Drive already mounted at /content/drive; to attempt to forcibly remount, call drive.mount(\"/content/drive\", force_remount=True).\n",
            "   Bankrupt?   ROA(C) before interest and depreciation before interest  \\\n",
            "0          1                                           0.370594          \n",
            "1          1                                           0.464291          \n",
            "2          1                                           0.426071          \n",
            "3          1                                           0.399844          \n",
            "4          1                                           0.465022          \n",
            "\n",
            "    ROA(A) before interest and % after tax  \\\n",
            "0                                 0.424389   \n",
            "1                                 0.538214   \n",
            "2                                 0.499019   \n",
            "3                                 0.451265   \n",
            "4                                 0.538432   \n",
            "\n",
            "    ROA(B) before interest and depreciation after tax  \\\n",
            "0                                           0.405750    \n",
            "1                                           0.516730    \n",
            "2                                           0.472295    \n",
            "3                                           0.457733    \n",
            "4                                           0.522298    \n",
            "\n",
            "    Operating Gross Margin   Realized Sales Gross Margin  \\\n",
            "0                 0.601457                      0.601457   \n",
            "1                 0.610235                      0.610235   \n",
            "2                 0.601450                      0.601364   \n",
            "3                 0.583541                      0.583541   \n",
            "4                 0.598783                      0.598783   \n",
            "\n",
            "    Operating Profit Rate   Pre-tax net Interest Rate  \\\n",
            "0                0.998969                    0.796887   \n",
            "1                0.998946                    0.797380   \n",
            "2                0.998857                    0.796403   \n",
            "3                0.998700                    0.796967   \n",
            "4                0.998973                    0.797366   \n",
            "\n",
            "    After-tax net Interest Rate   Non-industry income and expenditure/revenue  \\\n",
            "0                      0.808809                                      0.302646   \n",
            "1                      0.809301                                      0.303556   \n",
            "2                      0.808388                                      0.302035   \n",
            "3                      0.808966                                      0.303350   \n",
            "4                      0.809304                                      0.303475   \n",
            "\n",
            "   ...   Net Income to Total Assets   Total assets to GNP price  \\\n",
            "0  ...                     0.716845                    0.009219   \n",
            "1  ...                     0.795297                    0.008323   \n",
            "2  ...                     0.774670                    0.040003   \n",
            "3  ...                     0.739555                    0.003252   \n",
            "4  ...                     0.795016                    0.003878   \n",
            "\n",
            "    No-credit Interval   Gross Profit to Sales  \\\n",
            "0             0.622879                0.601453   \n",
            "1             0.623652                0.610237   \n",
            "2             0.623841                0.601449   \n",
            "3             0.622929                0.583538   \n",
            "4             0.623521                0.598782   \n",
            "\n",
            "    Net Income to Stockholder's Equity   Liability to Equity  \\\n",
            "0                             0.827890              0.290202   \n",
            "1                             0.839969              0.283846   \n",
            "2                             0.836774              0.290189   \n",
            "3                             0.834697              0.281721   \n",
            "4                             0.839973              0.278514   \n",
            "\n",
            "    Degree of Financial Leverage (DFL)  \\\n",
            "0                             0.026601   \n",
            "1                             0.264577   \n",
            "2                             0.026555   \n",
            "3                             0.026697   \n",
            "4                             0.024752   \n",
            "\n",
            "    Interest Coverage Ratio (Interest expense to EBIT)   Net Income Flag  \\\n",
            "0                                           0.564050                   1   \n",
            "1                                           0.570175                   1   \n",
            "2                                           0.563706                   1   \n",
            "3                                           0.564663                   1   \n",
            "4                                           0.575617                   1   \n",
            "\n",
            "    Equity to Liability  \n",
            "0              0.016469  \n",
            "1              0.020794  \n",
            "2              0.016474  \n",
            "3              0.023982  \n",
            "4              0.035490  \n",
            "\n",
            "[5 rows x 96 columns]\n",
            "Column names: Index(['Bankrupt?', ' ROA(C) before interest and depreciation before interest',\n",
            "       ' ROA(A) before interest and % after tax',\n",
            "       ' ROA(B) before interest and depreciation after tax',\n",
            "       ' Operating Gross Margin', ' Realized Sales Gross Margin',\n",
            "       ' Operating Profit Rate', ' Pre-tax net Interest Rate',\n",
            "       ' After-tax net Interest Rate',\n",
            "       ' Non-industry income and expenditure/revenue',\n",
            "       ' Continuous interest rate (after tax)', ' Operating Expense Rate',\n",
            "       ' Research and development expense rate', ' Cash flow rate',\n",
            "       ' Interest-bearing debt interest rate', ' Tax rate (A)',\n",
            "       ' Net Value Per Share (B)', ' Net Value Per Share (A)',\n",
            "       ' Net Value Per Share (C)', ' Persistent EPS in the Last Four Seasons',\n",
            "       ' Cash Flow Per Share', ' Revenue Per Share (Yuan ¥)',\n",
            "       ' Operating Profit Per Share (Yuan ¥)',\n",
            "       ' Per Share Net profit before tax (Yuan ¥)',\n",
            "       ' Realized Sales Gross Profit Growth Rate',\n",
            "       ' Operating Profit Growth Rate', ' After-tax Net Profit Growth Rate',\n",
            "       ' Regular Net Profit Growth Rate', ' Continuous Net Profit Growth Rate',\n",
            "       ' Total Asset Growth Rate', ' Net Value Growth Rate',\n",
            "       ' Total Asset Return Growth Rate Ratio', ' Cash Reinvestment %',\n",
            "       ' Current Ratio', ' Quick Ratio', ' Interest Expense Ratio',\n",
            "       ' Total debt/Total net worth', ' Debt ratio %', ' Net worth/Assets',\n",
            "       ' Long-term fund suitability ratio (A)', ' Borrowing dependency',\n",
            "       ' Contingent liabilities/Net worth',\n",
            "       ' Operating profit/Paid-in capital',\n",
            "       ' Net profit before tax/Paid-in capital',\n",
            "       ' Inventory and accounts receivable/Net value', ' Total Asset Turnover',\n",
            "       ' Accounts Receivable Turnover', ' Average Collection Days',\n",
            "       ' Inventory Turnover Rate (times)', ' Fixed Assets Turnover Frequency',\n",
            "       ' Net Worth Turnover Rate (times)', ' Revenue per person',\n",
            "       ' Operating profit per person', ' Allocation rate per person',\n",
            "       ' Working Capital to Total Assets', ' Quick Assets/Total Assets',\n",
            "       ' Current Assets/Total Assets', ' Cash/Total Assets',\n",
            "       ' Quick Assets/Current Liability', ' Cash/Current Liability',\n",
            "       ' Current Liability to Assets', ' Operating Funds to Liability',\n",
            "       ' Inventory/Working Capital', ' Inventory/Current Liability',\n",
            "       ' Current Liabilities/Liability', ' Working Capital/Equity',\n",
            "       ' Current Liabilities/Equity', ' Long-term Liability to Current Assets',\n",
            "       ' Retained Earnings to Total Assets', ' Total income/Total expense',\n",
            "       ' Total expense/Assets', ' Current Asset Turnover Rate',\n",
            "       ' Quick Asset Turnover Rate', ' Working capitcal Turnover Rate',\n",
            "       ' Cash Turnover Rate', ' Cash Flow to Sales', ' Fixed Assets to Assets',\n",
            "       ' Current Liability to Liability', ' Current Liability to Equity',\n",
            "       ' Equity to Long-term Liability', ' Cash Flow to Total Assets',\n",
            "       ' Cash Flow to Liability', ' CFO to Assets', ' Cash Flow to Equity',\n",
            "       ' Current Liability to Current Assets', ' Liability-Assets Flag',\n",
            "       ' Net Income to Total Assets', ' Total assets to GNP price',\n",
            "       ' No-credit Interval', ' Gross Profit to Sales',\n",
            "       ' Net Income to Stockholder's Equity', ' Liability to Equity',\n",
            "       ' Degree of Financial Leverage (DFL)',\n",
            "       ' Interest Coverage Ratio (Interest expense to EBIT)',\n",
            "       ' Net Income Flag', ' Equity to Liability'],\n",
            "      dtype='object')\n",
            "Columna 'ROA(C) before interest and depreciation before interest' no encontrada en el CSV.\n"
          ]
        }
      ],
      "source": [
        "from google.colab import drive\n",
        "drive.mount('/content/drive')\n",
        "import pandas as pd\n",
        "from scipy import stats\n",
        "\n",
        "url = 'https://drive.google.com/uc?id=13V1yuYcvuXfXGYL4lJHlPXNgI3MZDjVe'\n",
        "\n",
        "try:\n",
        "    # Leer el archivo CSV\n",
        "    data = pd.read_csv(url, sep=',', on_bad_lines='warn')\n",
        "    # Imprimir las primeras filas para verificar el contenido\n",
        "    print(data.head())\n",
        "    # Imprimir los nombres de las columnas para verificar la existencia de la columna deseada\n",
        "    print(\"Column names:\", data.columns)\n",
        "except pd.errors.ParserError as e:\n",
        "    print(f\"Error reading CSV: {e}\")\n",
        "    data = None\n",
        "\n",
        "# Verificar si el DataFrame se cargó correctamente\n",
        "if data is not None:\n",
        "    # Usa el nombre de columna exacto que encontraste\n",
        "    column_name = 'ROA(C) before interest and depreciation before interest'  # Ajusta este nombre según el archivo\n",
        "\n",
        "    if column_name in data.columns:\n",
        "        # Calcular la media, mediana y moda\n",
        "        mean_roa_c = data[column_name].mean()\n",
        "        median_roa_c = data[column_name].median()\n",
        "        mode_roa_c = data[column_name].mode()\n",
        "\n",
        "        # Imprimir los resultados\n",
        "        print(\"Media:\", mean_roa_c)\n",
        "        print(\"Mediana:\", median_roa_c)\n",
        "        print(\"Moda:\", mode_roa_c[0])  # mode() devuelve una Serie, se toma el primer valor\n",
        "    else:\n",
        "        print(f\"Columna '{column_name}' no encontrada en el CSV.\")\n",
        "else:\n",
        "    print(\"No se pudo cargar el DataFrame.\")\n"
      ]
    },
    {
      "cell_type": "markdown",
      "source": [
        "###**Ejercicio 2: Rango**\n",
        "**Objetivo:** Calcular el rango de la columna Operating Gross Margin."
      ],
      "metadata": {
        "id": "ItdQ11LrA1il"
      }
    },
    {
      "cell_type": "code",
      "source": [
        "range_operating_gross_margin = data[' Operating Gross Margin'].max() - data[' Operating Gross Margin'].min()\n",
        "print(\"Rango:\", range_operating_gross_margin)"
      ],
      "metadata": {
        "colab": {
          "base_uri": "https://localhost:8080/"
        },
        "id": "umZsVyb4A01e",
        "outputId": "aec172cc-e049-49a1-e2f4-4fa9e6c9250a"
      },
      "execution_count": null,
      "outputs": [
        {
          "output_type": "stream",
          "name": "stdout",
          "text": [
            "Rango: 1.0\n"
          ]
        }
      ]
    },
    {
      "cell_type": "markdown",
      "source": [
        "###**Ejercicio 3: Varianza y Desviación Estándar**\n",
        "**Objetivo:** Calcular la varianza y la desviación estándar de la columna After-tax net Interest Rate."
      ],
      "metadata": {
        "id": "Edm39QJpA1Fa"
      }
    },
    {
      "cell_type": "code",
      "source": [
        "variance_after_tax_net_interest = data[' After-tax net Interest Rate'].var()\n",
        "std_dev_after_tax_net_interest = data[' After-tax net Interest Rate'].std()\n",
        "\n",
        "variance_after_tax_net_interest, std_dev_after_tax_net_interest"
      ],
      "metadata": {
        "colab": {
          "base_uri": "https://localhost:8080/"
        },
        "id": "D9ndHhYQA1-B",
        "outputId": "2fa62cb8-3042-4be1-a1be-f1646a697f16"
      },
      "execution_count": null,
      "outputs": [
        {
          "output_type": "execute_result",
          "data": {
            "text/plain": [
              "(0.00018497778773569825, 0.013600653945149043)"
            ]
          },
          "metadata": {},
          "execution_count": 24
        }
      ]
    },
    {
      "cell_type": "markdown",
      "source": [
        "###**Ejercicio 4: Coeficiente de Variación**\n",
        "**Objetivo:** Calcular el coeficiente de variación de la columna Operating Profit Rate."
      ],
      "metadata": {
        "id": "tNyZNZh-A4w1"
      }
    },
    {
      "cell_type": "code",
      "source": [
        "mean_operating_profit_rate = data[' Operating Profit Rate'].mean()\n",
        "std_dev_operating_profit_rate = data[' Operating Profit Rate'].std()\n",
        "cv_operating_profit_rate = (std_dev_operating_profit_rate / mean_operating_profit_rate) * 100\n",
        "\n",
        "cv_operating_profit_rate"
      ],
      "metadata": {
        "colab": {
          "base_uri": "https://localhost:8080/"
        },
        "id": "W7ToOWNvA4pV",
        "outputId": "3ab4182b-0a11-47b2-9aec-8664c10d197c"
      },
      "execution_count": null,
      "outputs": [
        {
          "output_type": "execute_result",
          "data": {
            "text/plain": [
              "1.3026241098527866"
            ]
          },
          "metadata": {},
          "execution_count": 25
        }
      ]
    },
    {
      "cell_type": "markdown",
      "source": [
        "###**Ejercicio 5: Percentiles**\n",
        "**Objetivo:** Calcular el percentil 25, 50 (mediana) y 75 de la columna Net Value Per Share (A)."
      ],
      "metadata": {
        "id": "Nm1KNN2aA4iU"
      }
    },
    {
      "cell_type": "code",
      "source": [],
      "metadata": {
        "id": "f07SNlfpA4bv"
      },
      "execution_count": null,
      "outputs": []
    },
    {
      "cell_type": "markdown",
      "source": [
        "###**Ejercicio 6: Sesgo**\n",
        "**Objetivo:** Calcular el sesgo de la columna Revenue Per Share (Yuan Â¥)."
      ],
      "metadata": {
        "id": "WPS0HVXUA4V6"
      }
    },
    {
      "cell_type": "code",
      "source": [],
      "metadata": {
        "id": "l_MK-SEFA4PV"
      },
      "execution_count": null,
      "outputs": []
    },
    {
      "cell_type": "markdown",
      "source": [
        "###**Ejercicio 7: Curtosis**\n",
        "**Objetivo:** Calcular la curtosis de la columna Total Asset Growth Rate."
      ],
      "metadata": {
        "id": "eXRFhMB8A4JA"
      }
    },
    {
      "cell_type": "code",
      "source": [],
      "metadata": {
        "id": "lzof1bgcA4CI"
      },
      "execution_count": null,
      "outputs": []
    },
    {
      "cell_type": "markdown",
      "source": [
        "###**Ejercicio 8: Intervalo Intercuartílico (IQR)**\n",
        "**Objetivo:** Calcular el intervalo intercuartílico (IQR) de la columna Cash Flow Per Share."
      ],
      "metadata": {
        "id": "mVr77Ek9A37h"
      }
    },
    {
      "cell_type": "code",
      "source": [],
      "metadata": {
        "id": "XmXHy1XyA3yv"
      },
      "execution_count": null,
      "outputs": []
    },
    {
      "cell_type": "markdown",
      "source": [
        "###**Ejercicio 9: Box Plot y Outliers**\n",
        "**Objetivo:** Crear un box plot para la columna Operating Profit Growth Rate y determinar los outliers."
      ],
      "metadata": {
        "id": "smKxu8nzA3nH"
      }
    },
    {
      "cell_type": "code",
      "source": [],
      "metadata": {
        "id": "Jz6o441YA3XL"
      },
      "execution_count": null,
      "outputs": []
    }
  ]
}