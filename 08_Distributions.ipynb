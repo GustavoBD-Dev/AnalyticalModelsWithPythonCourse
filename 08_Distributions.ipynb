{
  "nbformat": 4,
  "nbformat_minor": 0,
  "metadata": {
    "colab": {
      "provenance": [],
      "include_colab_link": true
    },
    "kernelspec": {
      "name": "python3",
      "display_name": "Python 3"
    },
    "language_info": {
      "name": "python"
    }
  },
  "cells": [
    {
      "cell_type": "markdown",
      "metadata": {
        "id": "view-in-github",
        "colab_type": "text"
      },
      "source": [
        "<a href=\"https://colab.research.google.com/github/GustavoBD-Dev/AnalyticalModelsWithPythonCourse/blob/Session-3/08_Distributions.ipynb\" target=\"_parent\"><img src=\"https://colab.research.google.com/assets/colab-badge.svg\" alt=\"Open In Colab\"/></a>"
      ]
    },
    {
      "cell_type": "markdown",
      "source": [
        "#**Distribuciones de probabilidad**"
      ],
      "metadata": {
        "id": "38227LZC58PG"
      }
    },
    {
      "cell_type": "markdown",
      "source": [
        "Las distribuciones de probabilidad describen cómo se distribuyen los valores de una variable aleatoria. En análisis de datos y modelos analíticos, entender estas distribuciones es crucial para hacer inferencias y tomar decisiones basadas en datos.\n",
        "\n",
        "####**Distribución Uniforme**\n",
        "\n",
        "1. **Distribución Uniforme Discreta**\n",
        "- **Descripción:** Todos los valores posibles tienen la misma probabilidad de ocurrencia.\n",
        "- **Fórmula:** P(X = x) = 1 / n, donde n es el número total de posibles valores.\n",
        "- **Ejemplo:**\n",
        "     ```python\n",
        "     import numpy as np\n",
        "     valores = np.arange(1, 7)  # Dados de seis caras\n",
        "     probabilidades = np.ones(6) / 6\n",
        "     print(\"Valores:\", valores)\n",
        "     print(\"Probabilidades:\", probabilidades)\n",
        "     ```\n",
        "- **Interpretación:** En el lanzamiento de un dado justo de seis caras, cada cara tiene una probabilidad de 1/6.\n",
        "- **Consideración:** Útil en situaciones donde todos los eventos son igualmente probables.\n",
        "\n",
        "2. **Distribución Uniforme Continua**\n",
        "- **Descripción:** La probabilidad está uniformemente distribuida en un intervalo continuo [a, b].\n",
        "- **Fórmula:** f(x) = 1 / (b - a) para a <= x <= b.\n",
        "- **Ejemplo:**\n",
        "     ```python\n",
        "     a, b = 0, 1\n",
        "     muestra = np.random.uniform(a, b, 1000)\n",
        "     ```\n",
        "- **Interpretación:** Cada valor en el intervalo tiene la misma probabilidad de ocurrir.\n",
        "- **Consideración:** Utilizada en simulaciones y análisis donde se asume que todos los valores en un rango son igualmente probables.\n",
        "\n",
        "####**Distribución Normal**\n",
        "\n",
        "- **Descripción:** Describe datos que se distribuyen de manera simétrica alrededor de la media, formando una \"campana\" (curva de Gauss).\n",
        "- **Fórmula:** f(x) = (1 / (desviación estándar * raíz cuadrada de 2 * pi)) * e^(-(x - media)^2 / (2 * desviación estándar^2)).\n",
        "- **Ejemplo:**\n",
        "  ```python\n",
        "  import matplotlib.pyplot as plt\n",
        "  media, desviacion_estandar = 0, 1\n",
        "  muestra = np.random.normal(media, desviacion_estandar, 1000)\n",
        "  plt.hist(muestra, bins=30, density=True)\n",
        "  plt.show()\n",
        "  ```\n",
        "- **Interpretación:** La mayoría de los valores están cerca de la media, y la probabilidad disminuye simétricamente a medida que se alejan de ella.\n",
        "- **Consideración:** Muchas variables naturales y de comportamiento siguen una distribución normal.\n",
        "\n",
        "####**Distribución Binomial**\n",
        "\n",
        "- **Descripción:** Describe el número de éxitos en una secuencia de n ensayos de Bernoulli independientes, cada uno con probabilidad de éxito p.\n",
        "- **Fórmula:** P(X = k) = (n sobre k) * p^k * (1 - p)^(n - k).\n",
        "- **Ejemplo:**\n",
        "  ```python\n",
        "  from scipy.stats import binom\n",
        "  n, p = 10, 0.5\n",
        "  x = np.arange(0, n + 1)\n",
        "  probabilidades = binom.pmf(x, n, p)\n",
        "  plt.bar(x, probabilidades)\n",
        "  plt.show()\n",
        "  ```\n",
        "- **Interpretación:** Utilizada para modelar el número de éxitos en un número fijo de ensayos independientes.\n",
        "- **Consideración:** Aplicable en situaciones con dos posibles resultados (éxito o fracaso) en cada ensayo.\n",
        "\n",
        "####**Distribución de Poisson**\n",
        "\n",
        "- **Descripción:** Describe el número de eventos que ocurren en un intervalo de tiempo o espacio fijo.\n",
        "- **Fórmula:** P(X = k) = (lambda^k * e^(-lambda)) / k!, donde lambda es el número promedio de eventos.\n",
        "- **Ejemplo:**\n",
        "  ```python\n",
        "  from scipy.stats import poisson\n",
        "  lambda_ = 5\n",
        "  x = np.arange(0, 15)\n",
        "  probabilidades = poisson.pmf(x, lambda_)\n",
        "  plt.bar(x, probabilidades)\n",
        "  plt.show()\n",
        "  ```\n",
        "- **Interpretación:** Utilizada para modelar eventos raros en un intervalo fijo.\n",
        "- **Consideración:** Apropiada cuando los eventos ocurren independientemente y la tasa de ocurrencia es constante.\n",
        "\n",
        "###**Ejemplo**\n",
        "\n",
        "Consideremos una empresa que analiza el tiempo de espera en una fila:\n",
        "\n",
        "```python\n",
        "import numpy as np\n",
        "import matplotlib.pyplot as plt\n",
        "\n",
        "# Distribución uniforme continua\n",
        "a, b = 5, 15\n",
        "muestra_uniforme = np.random.uniform(a, b, 1000)\n",
        "plt.hist(muestra_uniforme, bins=30, density=True, alpha=0.5, color='g')\n",
        "plt.title('Distribución Uniforme Continua')\n",
        "plt.show()\n",
        "\n",
        "# Distribución normal\n",
        "media, desviacion_estandar = 10, 2\n",
        "muestra_normal = np.random.normal(media, desviacion_estandar, 1000)\n",
        "plt.hist(muestra_normal, bins=30, density=True, alpha=0.5, color='b')\n",
        "plt.title('Distribución Normal')\n",
        "plt.show()\n",
        "\n",
        "# Distribución binomial\n",
        "from scipy.stats import binom\n",
        "n, p = 10, 0.5\n",
        "x = np.arange(0, n + 1)\n",
        "probabilidades_binomiales = binom.pmf(x, n, p)\n",
        "plt.bar(x, probabilidades_binomiales, alpha=0.5, color='r')\n",
        "plt.title('Distribución Binomial')\n",
        "plt.show()\n",
        "\n",
        "# Distribución de Poisson\n",
        "from scipy.stats import poisson\n",
        "lambda_ = 5\n",
        "x = np.arange(0, 15)\n",
        "probabilidades_poisson = poisson.pmf(x, lambda_)\n",
        "plt.bar(x, probabilidades_poisson, alpha=0.5, color='y')\n",
        "plt.title('Distribución de Poisson')\n",
        "plt.show()\n",
        "```\n",
        "\n",
        "###**Consideraciones:**\n",
        "\n",
        "- **Distribución Uniforme:** Útil en situaciones donde todos los resultados son igualmente probables. Es sencilla pero rara en la práctica real.\n",
        "- **Distribución Normal:** Frecuente en datos naturales y de comportamiento. Importante en estadística debido al teorema central del límite.\n",
        "- **Distribución Binomial:** Adecuada para experimentos con dos posibles resultados (éxito o fracaso). Útil en encuestas y estudios clínicos.\n",
        "- **Distribución de Poisson:** Ideal para modelar eventos raros en intervalos de tiempo o espacio. Útil en telecomunicaciones y biología."
      ],
      "metadata": {
        "id": "ycbFonyg58Ma"
      }
    },
    {
      "cell_type": "markdown",
      "source": [
        "##**Ejercicios**"
      ],
      "metadata": {
        "id": "EXRaQ6-eD97B"
      }
    },
    {
      "cell_type": "markdown",
      "source": [
        "###**Ejercicio 1: Distribución Normal**\n",
        "**Objetivo:** Calcula la media y la desviación estándar de una columna del DataFrame y ajusta una distribución normal. Grafica el histograma de la columna y la distribución normal ajustada."
      ],
      "metadata": {
        "id": "JXwuFSRfD9xI"
      }
    },
    {
      "cell_type": "code",
      "execution_count": null,
      "metadata": {
        "colab": {
          "base_uri": "https://localhost:8080/",
          "height": 453
        },
        "id": "LTyfo_RO5mXg",
        "outputId": "1f913db3-ca4b-4cd3-f1ac-e39c2938ebdf"
      },
      "outputs": [
        {
          "output_type": "display_data",
          "data": {
            "text/plain": [
              "<Figure size 640x480 with 1 Axes>"
            ],
            "image/png": "[encoded data removed]"
          },
          "metadata": {}
        }
      ],
      "source": [
        "import numpy as np\n",
        "import matplotlib.pyplot as plt\n",
        "from scipy.stats import norm\n",
        "\n",
        "# Ejemplo con la columna 'ROA(C) before interest and depreciation before interest'\n",
        "data = df[' ROA(C) before interest and depreciation before interest'].dropna()\n",
        "mean, std_dev = np.mean(data), np.std(data)\n",
        "\n",
        "# Graficar histograma y distribución normal ajustada\n",
        "plt.hist(data, bins=30, density=True, alpha=0.6, color='g')\n",
        "\n",
        "xmin, xmax = plt.xlim()\n",
        "x = np.linspace(xmin, xmax, 100)\n",
        "p = norm.pdf(x, mean, std_dev)\n",
        "plt.plot(x, p, 'k', linewidth=2)\n",
        "\n",
        "plt.title('Distribución Normal Ajustada')\n",
        "plt.show()"
      ]
    },
    {
      "cell_type": "markdown",
      "source": [
        "###**Ejercicio 2: Distribución Exponencial**\n",
        "**Objetivo:** Ajusta una distribución exponencial a una columna del DataFrame y grafica el histograma de los datos junto con la distribución exponencial ajustada."
      ],
      "metadata": {
        "id": "id_Dt-70EAjd"
      }
    },
    {
      "cell_type": "code",
      "source": [
        "from scipy.stats import expon\n",
        "\n",
        "# Ejemplo con la columna 'Operating Expense Rate'\n",
        "data = df[' Operating Expense Rate'].dropna()\n",
        "loc, scale = expon.fit(data)\n",
        "\n",
        "# Graficar histograma y distribución exponencial ajustada\n",
        "plt.hist(data, bins=30, density=True, alpha=0.6, color='b')\n",
        "\n",
        "x = np.linspace(0, np.max(data), 100)\n",
        "p = expon.pdf(x, loc, scale)\n",
        "plt.plot(x, p, 'r', linewidth=2)\n",
        "\n",
        "plt.title('Distribución Exponencial Ajustada')\n",
        "plt.show()"
      ],
      "metadata": {
        "colab": {
          "base_uri": "https://localhost:8080/",
          "height": 471
        },
        "id": "5HOndWFcEAdB",
        "outputId": "fea8771c-4f53-4e8e-d199-e5f2cc48c618"
      },
      "execution_count": null,
      "outputs": [
        {
          "output_type": "display_data",
          "data": {
            "text/plain": [
              "<Figure size 640x480 with 1 Axes>"
            ],
            "image/png": "[encoded data removed]"
          },
          "metadata": {}
        }
      ]
    },
    {
      "cell_type": "markdown",
      "source": [
        "###**Ejercicio 3: Distribución de Poisson**\n",
        "**Objetivo:** Ajusta una distribución de Poisson a una columna que representa conteos y grafica el histograma con la distribución ajustada."
      ],
      "metadata": {
        "id": "CHyptY4iEAXX"
      }
    },
    {
      "cell_type": "code",
      "source": [
        "from google.colab import drive\n",
        "drive.mount('/content/drive')\n",
        "from scipy.stats import poisson\n",
        "import pandas as pd\n",
        "import numpy as np\n",
        "import matplotlib.pyplot as plt\n",
        "\n",
        "url = 'https://drive.google.com/uc?id=13V1yuYcvuXfXGYL4lJHlPXNgI3MZDjVe'\n",
        "data = pd.read_csv(url, sep=',', on_bad_lines='warn')\n",
        "df = data\n",
        "# Ejemplo con la columna 'Revenue Per Share (Yuan Â¥)'\n",
        "data = df[' Revenue Per Share (Yuan ¥)'].dropna()\n",
        "mean = np.mean(data)\n",
        "\n",
        "# Graficar histograma y distribución de Poisson ajustada\n",
        "plt.hist(data, bins=30, density=True, alpha=0.6, color='c')\n",
        "\n",
        "x = np.arange(0, np.max(data) + 1)\n",
        "p = poisson.pmf(x, mean)\n",
        "plt.stem(x, p, 'r', linewidth=2)\n",
        "\n",
        "plt.title('Distribución de Poisson Ajustada')\n",
        "plt.show()"
      ],
      "metadata": {
        "colab": {
          "base_uri": "https://localhost:8080/"
        },
        "id": "8GFDUMzoEARn",
        "outputId": "1e6ea1fa-6346-4d73-c05e-cd56c435ee44"
      },
      "execution_count": null,
      "outputs": [
        {
          "output_type": "stream",
          "name": "stdout",
          "text": [
            "Drive already mounted at /content/drive; to attempt to forcibly remount, call drive.mount(\"/content/drive\", force_remount=True).\n"
          ]
        }
      ]
    },
    {
      "cell_type": "markdown",
      "source": [
        "###**Ejercicio 4: Distribución Binomial**\n",
        "**Objetivo:** Ajusta una distribución binomial a una columna que representa una tasa de éxito y grafica el histograma con la distribución binomial ajustada."
      ],
      "metadata": {
        "id": "sM2ugUohEAL4"
      }
    },
    {
      "cell_type": "code",
      "source": [
        "from scipy.stats import binom\n",
        "from google.colab import drive\n",
        "drive.mount('/content/drive')\n",
        "from scipy.stats import poisson\n",
        "import pandas as pd\n",
        "import numpy as np\n",
        "import matplotlib.pyplot as plt\n",
        "\n",
        "url = 'https://drive.google.com/uc?id=13V1yuYcvuXfXGYL4lJHlPXNgI3MZDjVe'\n",
        "data = pd.read_csv(url, sep=',', on_bad_lines='warn')\n",
        "df = data\n",
        "# Ejemplo con la columna 'Cash Flow Per Share'\n",
        "data = df[' Cash Flow Per Share'].dropna()\n",
        "n = len(data)  # Número de ensayos\n",
        "p = np.mean(data)  # Probabilidad de éxito\n",
        "\n",
        "# Graficar histograma y distribución binomial ajustada\n",
        "plt.hist(data, bins=30, density=True, alpha=0.6, color='m')\n",
        "\n",
        "x = np.arange(0, np.max(data) + 1)\n",
        "p = binom.pmf(x, n, p)\n",
        "plt.stem(x, p, 'r', linewidth=2)\n",
        "\n",
        "plt.title('Distribución Binomial Ajustada')\n",
        "plt.show()"
      ],
      "metadata": {
        "colab": {
          "base_uri": "https://localhost:8080/",
          "height": 779
        },
        "id": "IPAgBpJ8EAGZ",
        "outputId": "7399629d-de31-4224-855f-54ce55879554"
      },
      "execution_count": null,
      "outputs": [
        {
          "output_type": "stream",
          "name": "stdout",
          "text": [
            "Drive already mounted at /content/drive; to attempt to forcibly remount, call drive.mount(\"/content/drive\", force_remount=True).\n"
          ]
        },
        {
          "output_type": "error",
          "ename": "TypeError",
          "evalue": "stem() got an unexpected keyword argument 'linewidth'",
          "traceback": [
            "\u001b[0;31m---------------------------------------------------------------------------\u001b[0m",
            "\u001b[0;31mTypeError\u001b[0m                                 Traceback (most recent call last)",
            "\u001b[0;32m<ipython-input-3-0eecb401e766>\u001b[0m in \u001b[0;36m<cell line: 22>\u001b[0;34m()\u001b[0m\n\u001b[1;32m     20\u001b[0m \u001b[0mx\u001b[0m \u001b[0;34m=\u001b[0m \u001b[0mnp\u001b[0m\u001b[0;34m.\u001b[0m\u001b[0marange\u001b[0m\u001b[0;34m(\u001b[0m\u001b[0;36m0\u001b[0m\u001b[0;34m,\u001b[0m \u001b[0mnp\u001b[0m\u001b[0;34m.\u001b[0m\u001b[0mmax\u001b[0m\u001b[0;34m(\u001b[0m\u001b[0mdata\u001b[0m\u001b[0;34m)\u001b[0m \u001b[0;34m+\u001b[0m \u001b[0;36m1\u001b[0m\u001b[0;34m)\u001b[0m\u001b[0;34m\u001b[0m\u001b[0;34m\u001b[0m\u001b[0m\n\u001b[1;32m     21\u001b[0m \u001b[0mp\u001b[0m \u001b[0;34m=\u001b[0m \u001b[0mbinom\u001b[0m\u001b[0;34m.\u001b[0m\u001b[0mpmf\u001b[0m\u001b[0;34m(\u001b[0m\u001b[0mx\u001b[0m\u001b[0;34m,\u001b[0m \u001b[0mn\u001b[0m\u001b[0;34m,\u001b[0m \u001b[0mp\u001b[0m\u001b[0;34m)\u001b[0m\u001b[0;34m\u001b[0m\u001b[0;34m\u001b[0m\u001b[0m\n\u001b[0;32m---> 22\u001b[0;31m \u001b[0mplt\u001b[0m\u001b[0;34m.\u001b[0m\u001b[0mstem\u001b[0m\u001b[0;34m(\u001b[0m\u001b[0mx\u001b[0m\u001b[0;34m,\u001b[0m \u001b[0mp\u001b[0m\u001b[0;34m,\u001b[0m \u001b[0;34m'r'\u001b[0m\u001b[0;34m,\u001b[0m \u001b[0mlinewidth\u001b[0m\u001b[0;34m=\u001b[0m\u001b[0;36m2\u001b[0m\u001b[0;34m)\u001b[0m\u001b[0;34m\u001b[0m\u001b[0;34m\u001b[0m\u001b[0m\n\u001b[0m\u001b[1;32m     23\u001b[0m \u001b[0;34m\u001b[0m\u001b[0m\n\u001b[1;32m     24\u001b[0m \u001b[0mplt\u001b[0m\u001b[0;34m.\u001b[0m\u001b[0mtitle\u001b[0m\u001b[0;34m(\u001b[0m\u001b[0;34m'Distribución Binomial Ajustada'\u001b[0m\u001b[0;34m)\u001b[0m\u001b[0;34m\u001b[0m\u001b[0;34m\u001b[0m\u001b[0m\n",
            "\u001b[0;32m/usr/local/lib/python3.10/dist-packages/matplotlib/_api/deprecation.py\u001b[0m in \u001b[0;36mwrapper\u001b[0;34m(*inner_args, **inner_kwargs)\u001b[0m\n\u001b[1;32m    382\u001b[0m             \u001b[0;31m# Early return in the simple, non-deprecated case (much faster than\u001b[0m\u001b[0;34m\u001b[0m\u001b[0;34m\u001b[0m\u001b[0m\n\u001b[1;32m    383\u001b[0m             \u001b[0;31m# calling bind()).\u001b[0m\u001b[0;34m\u001b[0m\u001b[0;34m\u001b[0m\u001b[0m\n\u001b[0;32m--> 384\u001b[0;31m             \u001b[0;32mreturn\u001b[0m \u001b[0mfunc\u001b[0m\u001b[0;34m(\u001b[0m\u001b[0;34m*\u001b[0m\u001b[0minner_args\u001b[0m\u001b[0;34m,\u001b[0m \u001b[0;34m**\u001b[0m\u001b[0minner_kwargs\u001b[0m\u001b[0;34m)\u001b[0m\u001b[0;34m\u001b[0m\u001b[0;34m\u001b[0m\u001b[0m\n\u001b[0m\u001b[1;32m    385\u001b[0m         \u001b[0marguments\u001b[0m \u001b[0;34m=\u001b[0m \u001b[0msignature\u001b[0m\u001b[0;34m.\u001b[0m\u001b[0mbind\u001b[0m\u001b[0;34m(\u001b[0m\u001b[0;34m*\u001b[0m\u001b[0minner_args\u001b[0m\u001b[0;34m,\u001b[0m \u001b[0;34m**\u001b[0m\u001b[0minner_kwargs\u001b[0m\u001b[0;34m)\u001b[0m\u001b[0;34m.\u001b[0m\u001b[0marguments\u001b[0m\u001b[0;34m\u001b[0m\u001b[0;34m\u001b[0m\u001b[0m\n\u001b[1;32m    386\u001b[0m         \u001b[0;32mif\u001b[0m \u001b[0mis_varargs\u001b[0m \u001b[0;32mand\u001b[0m \u001b[0marguments\u001b[0m\u001b[0;34m.\u001b[0m\u001b[0mget\u001b[0m\u001b[0;34m(\u001b[0m\u001b[0mname\u001b[0m\u001b[0;34m)\u001b[0m\u001b[0;34m:\u001b[0m\u001b[0;34m\u001b[0m\u001b[0;34m\u001b[0m\u001b[0m\n",
            "\u001b[0;31mTypeError\u001b[0m: stem() got an unexpected keyword argument 'linewidth'"
          ]
        },
        {
          "output_type": "display_data",
          "data": {
            "text/plain": [
              "<Figure size 640x480 with 1 Axes>"
            ],
            "image/png": "[encoded data removed]"
          },
          "metadata": {}
        }
      ]
    },
    {
      "cell_type": "markdown",
      "source": [
        "###**Ejercicio 5: Distribución Gamma**\n",
        "Problema: Ajusta una distribución Gamma a una columna del DataFrame y grafica el histograma con la distribución Gamma ajustada."
      ],
      "metadata": {
        "id": "vYxD-TrsD__V"
      }
    },
    {
      "cell_type": "code",
      "source": [],
      "metadata": {
        "id": "om1xjkvDD_6L"
      },
      "execution_count": null,
      "outputs": []
    },
    {
      "cell_type": "markdown",
      "source": [
        "###**Ejercicio 6: Distribución Beta**\n",
        "**Objetivo:** Ajusta una distribución Beta a una columna que contiene valores entre 0 y 1 y grafica el histograma con la distribución Beta ajustada."
      ],
      "metadata": {
        "id": "WVPF27t7D_zR"
      }
    },
    {
      "cell_type": "code",
      "source": [],
      "metadata": {
        "id": "i8A8GZB1D_tT"
      },
      "execution_count": null,
      "outputs": []
    },
    {
      "cell_type": "markdown",
      "source": [
        "###**Ejercicio 7: Distribución de Cauchy**\n",
        "**Objetivo:** Ajusta una distribución de Cauchy a una columna del DataFrame y grafica el histograma con la distribución Cauchy ajustada."
      ],
      "metadata": {
        "id": "Od5C_A6MD_nj"
      }
    },
    {
      "cell_type": "code",
      "source": [],
      "metadata": {
        "id": "9QDzLiG4D_hu"
      },
      "execution_count": null,
      "outputs": []
    },
    {
      "cell_type": "markdown",
      "source": [
        "###**Ejercicio 8: Distribución Log-Normal**\n",
        "**Objetivo:** Ajusta una distribución Log-Normal a una columna del DataFrame y grafica el histograma con la distribución Log-Normal ajustada."
      ],
      "metadata": {
        "id": "5tHvGJhdD_aa"
      }
    },
    {
      "cell_type": "code",
      "source": [],
      "metadata": {
        "id": "VbTcxrU1D_TY"
      },
      "execution_count": null,
      "outputs": []
    },
    {
      "cell_type": "markdown",
      "source": [
        "###**Ejercicio 9: Distribución Weibull**\n",
        "**Objetivo:** Ajusta una distribución Weibull a una columna del DataFrame y grafica el histograma con la distribución Weibull ajustada."
      ],
      "metadata": {
        "id": "CAJXwy7gD-6i"
      }
    },
    {
      "cell_type": "code",
      "source": [],
      "metadata": {
        "id": "L8jheVB8D-ia"
      },
      "execution_count": null,
      "outputs": []
    }
  ]
}