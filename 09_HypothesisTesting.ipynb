{
  "nbformat": 4,
  "nbformat_minor": 0,
  "metadata": {
    "colab": {
      "provenance": [],
      "include_colab_link": true
    },
    "kernelspec": {
      "name": "python3",
      "display_name": "Python 3"
    },
    "language_info": {
      "name": "python"
    }
  },
  "cells": [
    {
      "cell_type": "markdown",
      "metadata": {
        "id": "view-in-github",
        "colab_type": "text"
      },
      "source": [
        "<a href=\"https://colab.research.google.com/github/GustavoBD-Dev/AnalyticalModelsWithPythonCourse/blob/Session-3/09_HypothesisTesting.ipynb\" target=\"_parent\"><img src=\"https://colab.research.google.com/assets/colab-badge.svg\" alt=\"Open In Colab\"/></a>"
      ]
    },
    {
      "cell_type": "markdown",
      "source": [
        "#**Pruebas de hipótesis**"
      ],
      "metadata": {
        "id": "dbSuzBNd6Efg"
      }
    },
    {
      "cell_type": "markdown",
      "source": [
        "Las pruebas de hipótesis son una herramienta estadística utilizada para tomar decisiones basadas en datos. Estas pruebas permiten evaluar si una afirmación sobre una población es consistente con la evidencia proporcionada por una muestra de datos.\n",
        "\n",
        "####**Conceptos Clave**\n",
        "\n",
        "1. **Hipótesis Nula (H0):** Es la hipótesis que se quiere probar. Generalmente, es una afirmación de \"no efecto\" o \"no diferencia\".\n",
        "2. **Hipótesis Alternativa (H1):** Es la hipótesis que se acepta si se rechaza la hipótesis nula. Indica la presencia de un efecto o una diferencia.\n",
        "3. **Nivel de Significancia (α):** Es la probabilidad de rechazar la hipótesis nula cuando es verdadera. Comúnmente se usa 0.05.\n",
        "4. **Valor p:** Es la probabilidad de obtener un resultado al menos tan extremo como el observado, asumiendo que la hipótesis nula es verdadera. Si el valor p es menor que α, se rechaza la hipótesis nula.\n",
        "5. **Estadístico de Prueba:** Es una medida calculada a partir de los datos de la muestra que se utiliza para tomar la decisión sobre la hipótesis.\n",
        "\n",
        "####**Tipos de Pruebas de Hipótesis**\n",
        "\n",
        "1. **Prueba z (para medias)**\n",
        "- **Fórmula:** z = (X̄ - μ0) / (σ / √n)\n",
        "- Donde X̄ es la media muestral, μ0 es la media poblacional bajo H0, σ es la desviación estándar poblacional, y n es el tamaño de la muestra.\n",
        "- **Ejemplo:**\n",
        "     ```python\n",
        "     import numpy as np\n",
        "     from scipy import stats\n",
        "\n",
        "     datos = [12, 15, 14, 10, 13, 14, 15, 12, 14, 13]\n",
        "     media_muestral = np.mean(datos)\n",
        "     media_poblacional = 12\n",
        "     desviacion_estandar = 2\n",
        "     n = len(datos)\n",
        "\n",
        "     z = (media_muestral - media_poblacional) / (desviacion_estandar / np.sqrt(n))\n",
        "     valor_p = stats.norm.sf(abs(z)) * 2  # Doble del valor de una cola\n",
        "\n",
        "     print(\"Estadístico z:\", z)\n",
        "     print(\"Valor p:\", valor_p)\n",
        "     ```\n",
        "- **Interpretación:** Si el valor p es menor que el nivel de significancia (por ejemplo, 0.05), se rechaza la hipótesis nula y se concluye que hay suficiente evidencia para afirmar que la media poblacional es diferente de 12.\n",
        "- **Consideración:** La prueba z es adecuada cuando se conoce la desviación estándar poblacional y la muestra es suficientemente grande (n > 30).\n",
        "\n",
        "2. **Prueba t (para medias)**\n",
        "- **Fórmula:** t = (X̄ - μ0) / (s / √n)\n",
        "- Donde X̄ es la media muestral, μ0 es la media poblacional bajo H0, s es la desviación estándar muestral, y n es el tamaño de la muestra.\n",
        "- **Ejemplo:**\n",
        "     ```python\n",
        "     s = np.std(datos, ddof=1)\n",
        "     t = (media_muestral - media_poblacional) / (s / np.sqrt(n))\n",
        "     valor_p = stats.t.sf(abs(t), df=n-1) * 2  # Doble del valor de una cola\n",
        "\n",
        "     print(\"Estadístico t:\", t)\n",
        "     print(\"Valor p:\", valor_p)\n",
        "     ```\n",
        "- **Interpretación:** Similar a la prueba z, se rechaza la hipótesis nula si el valor p es menor que el nivel de significancia.\n",
        "- **Consideración:** La prueba t es adecuada cuando no se conoce la desviación estándar poblacional y/o la muestra es pequeña (n <= 30).\n",
        "\n",
        "3. **Prueba chi-cuadrado (para varianzas)**\n",
        "- **Fórmula:** χ² = (n - 1) * s² / σ0²\n",
        "- Donde s² es la varianza muestral, σ0² es la varianza poblacional bajo H0, y n es el tamaño de la muestra.\n",
        "- **Ejemplo:**\n",
        "     ```python\n",
        "     varianza_muestral = np.var(datos, ddof=1)\n",
        "     varianza_poblacional = 4\n",
        "\n",
        "     chi2 = (n - 1) * varianza_muestral / varianza_poblacional\n",
        "     valor_p = stats.chi2.sf(chi2, df=n-1)\n",
        "\n",
        "     print(\"Estadístico chi-cuadrado:\", chi2)\n",
        "     print(\"Valor p:\", valor_p)\n",
        "     ```\n",
        "- **Interpretación:** Si el valor p es menor que el nivel de significancia, se rechaza la hipótesis nula y se concluye que la varianza poblacional es diferente de 4.\n",
        "- **Consideración:** La prueba chi-cuadrado es adecuada para datos categóricos y cuando se analiza la varianza.\n",
        "\n",
        "4. **Prueba ANOVA (para comparar medias de varios grupos)**\n",
        "- **Fórmula:** F = (SST / k - 1) / (SSE / n - k)\n",
        "- Donde SST es la suma de cuadrados total, SSE es la suma de cuadrados del error, k es el número de grupos, y n es el número total de observaciones.\n",
        "- **Ejemplo:**\n",
        "     ```python\n",
        "     datos_grupos = [np.random.normal(10, 2, 30),\n",
        "                     np.random.normal(12, 2, 30),\n",
        "                     np.random.normal(11, 2, 30)]\n",
        "\n",
        "     F, valor_p = stats.f_oneway(*datos_grupos)\n",
        "\n",
        "     print(\"Estadístico F:\", F)\n",
        "     print(\"Valor p:\", valor_p)\n",
        "     ```\n",
        "- **Interpretación:** Si el valor p es menor que el nivel de significancia, se rechaza la hipótesis nula y se concluye que al menos una de las medias de los grupos es diferente.\n",
        "- **Consideración:** ANOVA es adecuada para comparar más de dos grupos y asume que las varianzas de los grupos son iguales y las observaciones son independientes.\n",
        "\n",
        "### Ejemplo Práctico Completo\n",
        "\n",
        "Imaginemos que un banco quiere saber si la media del monto de transacciones es diferente de un valor específico ($2000). Se toma una muestra de 30 transacciones.\n",
        "\n",
        "```python\n",
        "import numpy as np\n",
        "from scipy import stats\n",
        "\n",
        "# Generar muestra de datos\n",
        "np.random.seed(0)\n",
        "muestra = np.random.normal(2000, 500, 30)\n",
        "\n",
        "# Calcular estadísticas descriptivas\n",
        "media_muestral = np.mean(muestra)\n",
        "desviacion_estandar = np.std(muestra, ddof=1)\n",
        "n = len(muestra)\n",
        "\n",
        "# Prueba t\n",
        "media_poblacional = 2000\n",
        "t = (media_muestral - media_poblacional) / (desviacion_estandar / np.sqrt(n))\n",
        "valor_p = stats.t.sf(abs(t), df=n-1) * 2\n",
        "\n",
        "print(\"Estadístico t:\", t)\n",
        "print(\"Valor p:\", valor_p)\n",
        "\n",
        "# Interpretación\n",
        "if valor_p < 0.05:\n",
        "    print(\"Rechazamos la hipótesis nula: la media del monto de transacciones es diferente de $2000\")\n",
        "else:\n",
        "    print(\"No rechazamos la hipótesis nula: no hay evidencia suficiente para afirmar que la media del monto de transacciones es diferente de $2000\")\n",
        "```\n",
        "\n",
        "###**Consideraciones:**\n",
        "\n",
        "- **Asumir Normalidad:** Muchas pruebas de hipótesis asumen que los datos siguen una distribución normal. Es crucial verificar esta suposición o utilizar pruebas no paramétricas si no se cumple.\n",
        "- **Tamaño de la Muestra:** El tamaño de la muestra influye en la potencia de la prueba. Muestras pequeñas pueden no detectar diferencias significativas.\n",
        "- **Valor p:** Un valor p bajo no necesariamente implica un efecto grande; solo indica que el efecto es estadísticamente significativo.\n",
        "- **Errores Tipo I y II:** Rechazar una hipótesis nula verdadera (Error Tipo I) y no rechazar una hipótesis nula falsa (Error Tipo II) son riesgos siempre presentes en pruebas de hipótesis."
      ],
      "metadata": {
        "id": "dfXMA_YE6EcH"
      }
    },
    {
      "cell_type": "markdown",
      "source": [
        "##**Ejercicios**"
      ],
      "metadata": {
        "id": "Xo7h4LO_Fkn4"
      }
    },
    {
      "cell_type": "markdown",
      "source": [
        "###**Ejercicio 1: Prueba T para la Media de una Muestra**\n",
        "**Objetivo:** Supón que deseas determinar si la tasa de margen bruto operativo (Operating Gross Margin) en el dataset es significativamente diferente de 0.5."
      ],
      "metadata": {
        "id": "e-15_MSdFj7v"
      }
    },
    {
      "cell_type": "code",
      "execution_count": null,
      "metadata": {
        "id": "ASdW5lIR5tig"
      },
      "outputs": [],
      "source": []
    },
    {
      "cell_type": "markdown",
      "source": [
        "###**Ejercicio 2: Prueba T para la Media de Dos Muestras Independientes**\n",
        "**Objetivo:** Compara si el margen bruto operativo (Operating Gross Margin) difiere entre empresas que están en bancarrota y las que no."
      ],
      "metadata": {
        "id": "qcghEIKOFshU"
      }
    },
    {
      "cell_type": "code",
      "source": [],
      "metadata": {
        "id": "Op4l3vSMFsYU"
      },
      "execution_count": null,
      "outputs": []
    },
    {
      "cell_type": "markdown",
      "source": [
        "###**Ejercicio 3: Prueba de Normalidad (Shapiro-Wilk)**\n",
        "**Objetivo:** Verifica si la tasa de crecimiento de ganancias después de impuestos (After-tax Net Profit Growth Rate) sigue una distribución normal."
      ],
      "metadata": {
        "id": "_A3ijjH_FsRu"
      }
    },
    {
      "cell_type": "code",
      "source": [],
      "metadata": {
        "id": "DsdJNUsuFsJS"
      },
      "execution_count": null,
      "outputs": []
    },
    {
      "cell_type": "markdown",
      "source": [
        "###**Ejercicio 4: Prueba de Chi-Cuadrado para Independencia**\n",
        "**Objetivo:** Determina si hay una relación significativa entre la quiebra (Bankrupt?) y la tasa de margen bruto operativo (Operating Gross Margin), considerando categorías de margen bruto operativo."
      ],
      "metadata": {
        "id": "wKOjzzXXFsAI"
      }
    },
    {
      "cell_type": "code",
      "source": [],
      "metadata": {
        "id": "XKUNk2fkFr1u"
      },
      "execution_count": null,
      "outputs": []
    },
    {
      "cell_type": "markdown",
      "source": [
        "###**Ejercicio 5: Prueba de Kolmogorov-Smirnov**\n",
        "**Objetivo:** Comprueba si la tasa de retorno de activos (ROA(A) before interest and % after tax) se distribuye de la misma manera que una distribución normal."
      ],
      "metadata": {
        "id": "SeMYWnQ5FrvQ"
      }
    },
    {
      "cell_type": "code",
      "source": [],
      "metadata": {
        "id": "0CnCZXu7FrpD"
      },
      "execution_count": null,
      "outputs": []
    },
    {
      "cell_type": "markdown",
      "source": [
        "###**Ejercicio 6: Prueba de Wilcoxon para Dos Muestras**\n",
        "**Objetivo:** Compara la tasa de crecimiento de ganancias operativas (Operating Profit Growth Rate) antes y después de un cambio en las políticas de inversión."
      ],
      "metadata": {
        "id": "6HO7eGRBFrif"
      }
    },
    {
      "cell_type": "code",
      "source": [],
      "metadata": {
        "id": "mAmown87Frca"
      },
      "execution_count": null,
      "outputs": []
    },
    {
      "cell_type": "markdown",
      "source": [
        "###**Ejercicio 7: Prueba de Mann-Whitney U**\n",
        "**Objetivo:** Verifica si la tasa de gasto en investigación y desarrollo (Research and development expense rate) difiere entre empresas en bancarrota y no en bancarrota usando la prueba de Mann-Whitney U."
      ],
      "metadata": {
        "id": "Okyw6NxuFrVv"
      }
    },
    {
      "cell_type": "code",
      "source": [],
      "metadata": {
        "id": "ZgYW82AyFrPE"
      },
      "execution_count": null,
      "outputs": []
    },
    {
      "cell_type": "markdown",
      "source": [
        "###**Ejercicio 8: Prueba de Levene para Igualdad de Varianzas**\n",
        "**Objetivo:** Compara las varianzas de la tasa de retorno de activos (ROA(B) before interest and depreciation after tax) entre empresas en bancarrota y no en bancarrota."
      ],
      "metadata": {
        "id": "Xx9ARK66FrIe"
      }
    },
    {
      "cell_type": "code",
      "source": [],
      "metadata": {
        "id": "JTc5YUF2FrBy"
      },
      "execution_count": null,
      "outputs": []
    },
    {
      "cell_type": "markdown",
      "source": [
        "###**Ejercicio 9: Prueba de Kruskal-Wallis**\n",
        "**Objetivo:** Determina si la tasa de crecimiento de los activos totales (Total Asset Growth Rate) difiere entre tres categorías de empresas basadas en el margen bruto operativo."
      ],
      "metadata": {
        "id": "vdRzVCJsFq5t"
      }
    },
    {
      "cell_type": "code",
      "source": [],
      "metadata": {
        "id": "WWUUVuUKFquz"
      },
      "execution_count": null,
      "outputs": []
    }
  ]
}