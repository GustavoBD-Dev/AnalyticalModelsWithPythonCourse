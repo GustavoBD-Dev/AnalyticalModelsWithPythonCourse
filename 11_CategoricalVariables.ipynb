{
  "nbformat": 4,
  "nbformat_minor": 0,
  "metadata": {
    "colab": {
      "provenance": [],
      "include_colab_link": true
    },
    "kernelspec": {
      "name": "python3",
      "display_name": "Python 3"
    },
    "language_info": {
      "name": "python"
    }
  },
  "cells": [
    {
      "cell_type": "markdown",
      "metadata": {
        "id": "view-in-github",
        "colab_type": "text"
      },
      "source": [
        "<a href=\"https://colab.research.google.com/github/GustavoBD-Dev/AnalyticalModelsWithPythonCourse/blob/Session-4/11_CategoricalVariables.ipynb\" target=\"_parent\"><img src=\"https://colab.research.google.com/assets/colab-badge.svg\" alt=\"Open In Colab\"/></a>"
      ]
    },
    {
      "cell_type": "markdown",
      "source": [
        "#**Codificación de variables categóricas**"
      ],
      "metadata": {
        "id": "Q2fjQE9KKqVH"
      }
    },
    {
      "cell_type": "markdown",
      "source": [
        "### Codificación de Variables Categóricas\n",
        "\n",
        "Las variables categóricas son aquellas que toman un conjunto limitado de valores discretos, como colores, categorías de productos o tipos de vivienda. Al construir modelos analíticos, es esencial convertir estas variables categóricas en una representación numérica adecuada, ya que la mayoría de los algoritmos de machine learning trabajan mejor con datos numéricos.\n",
        "\n",
        "#### Técnicas Comunes de Codificación\n",
        "\n",
        "1. **One-Hot Encoding:**\n",
        "   Esta técnica convierte cada categoría en una nueva columna binaria (0 o 1). Es ideal cuando la variable categórica no tiene un orden inherente.\n",
        "   \n",
        "   **Ejemplo:**\n",
        "   ```python\n",
        "   import pandas as pd\n",
        "   from sklearn.preprocessing import OneHotEncoder\n",
        "   \n",
        "   df = pd.DataFrame({'color': ['rojo', 'azul', 'verde']})\n",
        "   encoder = OneHotEncoder(sparse=False)\n",
        "   encoded_data = encoder.fit_transform(df[['color']])\n",
        "   one_hot_df = pd.DataFrame(encoded_data, columns=encoder.get_feature_names_out())\n",
        "   print(one_hot_df)\n",
        "   ```\n",
        "   Esto genera un DataFrame con columnas como `color_rojo`, `color_azul` y `color_verde`.\n",
        "\n",
        "**Consideraciones:**\n",
        "- Aumenta la dimensionalidad, lo que puede ser ineficiente para variables con muchas categorías.\n",
        "- No asume ninguna relación de orden entre las categorías.\n",
        "\n",
        "2. **Label Encoding:**\n",
        "   Asigna un valor numérico entero a cada categoría. Es adecuado cuando existe un orden natural entre las categorías (e.g., bajo, medio, alto).\n",
        "   \n",
        "   **Ejemplo:**\n",
        "   ```python\n",
        "   from sklearn.preprocessing import LabelEncoder\n",
        "\n",
        "   df = pd.DataFrame({'tamaño': ['bajo', 'medio', 'alto']})\n",
        "   encoder = LabelEncoder()\n",
        "   df['tamaño_encoded'] = encoder.fit_transform(df['tamaño'])\n",
        "   print(df)\n",
        "   ```\n",
        "   Aquí, `bajo` puede ser codificado como 0, `medio` como 1, y `alto` como 2.\n",
        "\n",
        "**Consideraciones:**\n",
        "- Introduce un supuesto de orden entre las categorías. No es recomendable para variables sin orden inherente, ya que podría inducir relaciones espurias en el modelo.\n",
        "\n",
        "3. **Target Encoding:**\n",
        "   Asigna a cada categoría el valor medio de la variable objetivo (target) para las observaciones correspondientes. Es útil para variables categóricas con muchas categorías, pero debe manejarse con cuidado para evitar el sobreajuste.\n",
        "   \n",
        "   **Ejemplo:**\n",
        "   ```python\n",
        "   import pandas as pd\n",
        "   \n",
        "   df = pd.DataFrame({\n",
        "       'barrio': ['A', 'B', 'C', 'A', 'B', 'C'],\n",
        "       'precio': [300, 200, 250, 400, 300, 350]\n",
        "   })\n",
        "   \n",
        "   mean_target_encoding = df.groupby('barrio')['precio'].mean().to_dict()\n",
        "   df['barrio_encoded'] = df['barrio'].map(mean_target_encoding)\n",
        "   print(df)\n",
        "   ```\n",
        "   Esto genera una codificación basada en la media del precio por barrio.\n",
        "\n",
        "**Consideraciones:**\n",
        "- Riesgo de sobreajuste, especialmente en datasets pequeños. Se recomienda usar técnicas de validación cruzada para mitigar este riesgo.\n",
        "- Es sensible a la distribución de la variable objetivo.\n",
        "\n",
        "#### Mejores Prácticas\n",
        "\n",
        "- **Análisis previo:** Antes de seleccionar una técnica de codificación, analiza la distribución y el significado de las categorías. Determina si las categorías tienen un orden inherente y la cantidad de categorías únicas.\n",
        "  \n",
        "- **Evaluación de impacto en el modelo:** Prueba diferentes métodos de codificación y evalúa el impacto en el rendimiento del modelo, utilizando métricas de validación.\n",
        "  \n",
        "- **Evitar alta dimensionalidad:** Al usar One-Hot Encoding en variables con muchas categorías, considera reducir la dimensionalidad o combinar categorías poco frecuentes.\n",
        "\n",
        "- **Regularización:** Cuando uses técnicas como Target Encoding, aplica regularización para evitar el sobreajuste, especialmente en conjuntos de datos pequeños.\n",
        "\n",
        "- **Transformaciones específicas para algoritmos:** Algunos algoritmos, como los árboles de decisión, pueden manejar directamente variables categóricas sin codificación. Es importante conocer las características del algoritmo que se va a utilizar antes de decidir la técnica de codificación."
      ],
      "metadata": {
        "id": "bLjqKAVQKqR6"
      }
    },
    {
      "cell_type": "markdown",
      "source": [
        "##**Ejercicios**"
      ],
      "metadata": {
        "id": "LjfJqfUsPD-V"
      }
    },
    {
      "cell_type": "code",
      "source": [
        "from google.colab import drive\n",
        "drive.mount('/content/drive')\n",
        "\n",
        "file_id = '1GxFpnjaEPauGQ0PRe-YTzjhDaCwd-wTN'\n",
        "raw_url = f'https://drive.google.com/uc?id={file_id}&export=download'\n",
        "\n",
        "import pandas as pd\n",
        "data = pd.read_csv(raw_url)\n",
        "\n",
        "print(data.head())"
      ],
      "metadata": {
        "id": "r3BvdMDiWW1T",
        "colab": {
          "base_uri": "https://localhost:8080/"
        },
        "outputId": "71329065-a768-43b7-8895-557cd0c56d0b"
      },
      "execution_count": null,
      "outputs": [
        {
          "output_type": "stream",
          "name": "stdout",
          "text": [
            "Mounted at /content/drive\n",
            "   User_ID Product_ID Gender   Age  Occupation City_Category  \\\n",
            "0  1000001  P00069042      F  0-17          10             A   \n",
            "1  1000001  P00248942      F  0-17          10             A   \n",
            "2  1000001  P00087842      F  0-17          10             A   \n",
            "3  1000001  P00085442      F  0-17          10             A   \n",
            "4  1000002  P00285442      M   55+          16             C   \n",
            "\n",
            "  Stay_In_Current_City_Years  Marital_Status  Product_Category_1  \\\n",
            "0                          2               0                   3   \n",
            "1                          2               0                   1   \n",
            "2                          2               0                  12   \n",
            "3                          2               0                  12   \n",
            "4                         4+               0                   8   \n",
            "\n",
            "   Product_Category_2  Product_Category_3  Purchase  \n",
            "0                 NaN                 NaN      8370  \n",
            "1                 6.0                14.0     15200  \n",
            "2                 NaN                 NaN      1422  \n",
            "3                14.0                 NaN      1057  \n",
            "4                 NaN                 NaN      7969  \n"
          ]
        }
      ]
    },
    {
      "cell_type": "markdown",
      "source": [
        "####**Ejercicio 1: Codificación One-Hot para una Variable**\n",
        "**Objetivo:** Aplicar la codificación one-hot a la columna Gender."
      ],
      "metadata": {
        "id": "N2brpGVFQLQf"
      }
    },
    {
      "cell_type": "code",
      "source": [
        "import pandas as pd\n",
        "from sklearn.preprocessing import OneHotEncoder\n",
        "\n",
        "df = pd.DataFrame({'color': ['rojo', 'azul', 'verde']})\n",
        "encoder = OneHotEncoder(sparse=False)\n",
        "encoded_data = encoder.fit_transform(df[['color']])\n",
        "one_hot_df = pd.DataFrame(encoded_data, columns=encoder.get_feature_names_out())\n",
        "print(one_hot_df)"
      ],
      "metadata": {
        "id": "bbHE-n8J1S_X",
        "outputId": "af8aebe9-b775-4ac2-96a3-40a380117f56",
        "colab": {
          "base_uri": "https://localhost:8080/"
        }
      },
      "execution_count": null,
      "outputs": [
        {
          "output_type": "stream",
          "name": "stdout",
          "text": [
            "   color_azul  color_rojo  color_verde\n",
            "0         0.0         1.0          0.0\n",
            "1         1.0         0.0          0.0\n",
            "2         0.0         0.0          1.0\n"
          ]
        },
        {
          "output_type": "stream",
          "name": "stderr",
          "text": [
            "/usr/local/lib/python3.10/dist-packages/sklearn/preprocessing/_encoders.py:975: FutureWarning: `sparse` was renamed to `sparse_output` in version 1.2 and will be removed in 1.4. `sparse_output` is ignored unless you leave `sparse` to its default value.\n",
            "  warnings.warn(\n"
          ]
        }
      ]
    },
    {
      "cell_type": "code",
      "source": [
        "from sklearn.preprocessing import OneHotEncoder\n",
        "encoder = OneHotEncoder(sparse=False)\n",
        "encoded_data = encoder.fit_transform(data[['Gender']])\n",
        "one_hot_df = pd.DataFrame(encoded_data, columns=encoder.get_feature_names_out())"
      ],
      "metadata": {
        "id": "GMmLgn1EQLDj",
        "colab": {
          "base_uri": "https://localhost:8080/"
        },
        "outputId": "8851f9f3-23a4-4773-a91d-a3cf9755f31a"
      },
      "execution_count": null,
      "outputs": [
        {
          "output_type": "stream",
          "name": "stderr",
          "text": [
            "/usr/local/lib/python3.10/dist-packages/sklearn/preprocessing/_encoders.py:975: FutureWarning: `sparse` was renamed to `sparse_output` in version 1.2 and will be removed in 1.4. `sparse_output` is ignored unless you leave `sparse` to its default value.\n",
            "  warnings.warn(\n"
          ]
        }
      ]
    },
    {
      "cell_type": "code",
      "source": [
        "one_hot_df"
      ],
      "metadata": {
        "colab": {
          "base_uri": "https://localhost:8080/",
          "height": 424
        },
        "id": "rAOM0AiC1Nwk",
        "outputId": "e219aa96-d53b-4241-f727-f91d137b5fb9"
      },
      "execution_count": null,
      "outputs": [
        {
          "output_type": "execute_result",
          "data": {
            "text/plain": [
              "        Gender_F  Gender_M\n",
              "0            1.0       0.0\n",
              "1            1.0       0.0\n",
              "2            1.0       0.0\n",
              "3            1.0       0.0\n",
              "4            0.0       1.0\n",
              "...          ...       ...\n",
              "550063       0.0       1.0\n",
              "550064       1.0       0.0\n",
              "550065       1.0       0.0\n",
              "550066       1.0       0.0\n",
              "550067       1.0       0.0\n",
              "\n",
              "[550068 rows x 2 columns]"
            ],
            "text/html": [
              "\n",
              "  <div id=\"df-bb79e91e-b75a-4b16-acf0-7bc95dda56f9\" class=\"colab-df-container\">\n",
              "    <div>\n",
              "<style scoped>\n",
              "    .dataframe tbody tr th:only-of-type {\n",
              "        vertical-align: middle;\n",
              "    }\n",
              "\n",
              "    .dataframe tbody tr th {\n",
              "        vertical-align: top;\n",
              "    }\n",
              "\n",
              "    .dataframe thead th {\n",
              "        text-align: right;\n",
              "    }\n",
              "</style>\n",
              "<table border=\"1\" class=\"dataframe\">\n",
              "  <thead>\n",
              "    <tr style=\"text-align: right;\">\n",
              "      <th></th>\n",
              "      <th>Gender_F</th>\n",
              "      <th>Gender_M</th>\n",
              "    </tr>\n",
              "  </thead>\n",
              "  <tbody>\n",
              "    <tr>\n",
              "      <th>0</th>\n",
              "      <td>1.0</td>\n",
              "      <td>0.0</td>\n",
              "    </tr>\n",
              "    <tr>\n",
              "      <th>1</th>\n",
              "      <td>1.0</td>\n",
              "      <td>0.0</td>\n",
              "    </tr>\n",
              "    <tr>\n",
              "      <th>2</th>\n",
              "      <td>1.0</td>\n",
              "      <td>0.0</td>\n",
              "    </tr>\n",
              "    <tr>\n",
              "      <th>3</th>\n",
              "      <td>1.0</td>\n",
              "      <td>0.0</td>\n",
              "    </tr>\n",
              "    <tr>\n",
              "      <th>4</th>\n",
              "      <td>0.0</td>\n",
              "      <td>1.0</td>\n",
              "    </tr>\n",
              "    <tr>\n",
              "      <th>...</th>\n",
              "      <td>...</td>\n",
              "      <td>...</td>\n",
              "    </tr>\n",
              "    <tr>\n",
              "      <th>550063</th>\n",
              "      <td>0.0</td>\n",
              "      <td>1.0</td>\n",
              "    </tr>\n",
              "    <tr>\n",
              "      <th>550064</th>\n",
              "      <td>1.0</td>\n",
              "      <td>0.0</td>\n",
              "    </tr>\n",
              "    <tr>\n",
              "      <th>550065</th>\n",
              "      <td>1.0</td>\n",
              "      <td>0.0</td>\n",
              "    </tr>\n",
              "    <tr>\n",
              "      <th>550066</th>\n",
              "      <td>1.0</td>\n",
              "      <td>0.0</td>\n",
              "    </tr>\n",
              "    <tr>\n",
              "      <th>550067</th>\n",
              "      <td>1.0</td>\n",
              "      <td>0.0</td>\n",
              "    </tr>\n",
              "  </tbody>\n",
              "</table>\n",
              "<p>550068 rows × 2 columns</p>\n",
              "</div>\n",
              "    <div class=\"colab-df-buttons\">\n",
              "\n",
              "  <div class=\"colab-df-container\">\n",
              "    <button class=\"colab-df-convert\" onclick=\"convertToInteractive('df-bb79e91e-b75a-4b16-acf0-7bc95dda56f9')\"\n",
              "            title=\"Convert this dataframe to an interactive table.\"\n",
              "            style=\"display:none;\">\n",
              "\n",
              "  <svg xmlns=\"http://www.w3.org/2000/svg\" height=\"24px\" viewBox=\"0 -960 960 960\">\n",
              "    <path d=\"M120-120v-720h720v720H120Zm60-500h600v-160H180v160Zm220 220h160v-160H400v160Zm0 220h160v-160H400v160ZM180-400h160v-160H180v160Zm440 0h160v-160H620v160ZM180-180h160v-160H180v160Zm440 0h160v-160H620v160Z\"/>\n",
              "  </svg>\n",
              "    </button>\n",
              "\n",
              "  <style>\n",
              "    .colab-df-container {\n",
              "      display:flex;\n",
              "      gap: 12px;\n",
              "    }\n",
              "\n",
              "    .colab-df-convert {\n",
              "      background-color: #E8F0FE;\n",
              "      border: none;\n",
              "      border-radius: 50%;\n",
              "      cursor: pointer;\n",
              "      display: none;\n",
              "      fill: #1967D2;\n",
              "      height: 32px;\n",
              "      padding: 0 0 0 0;\n",
              "      width: 32px;\n",
              "    }\n",
              "\n",
              "    .colab-df-convert:hover {\n",
              "      background-color: #E2EBFA;\n",
              "      box-shadow: 0px 1px 2px rgba(60, 64, 67, 0.3), 0px 1px 3px 1px rgba(60, 64, 67, 0.15);\n",
              "      fill: #174EA6;\n",
              "    }\n",
              "\n",
              "    .colab-df-buttons div {\n",
              "      margin-bottom: 4px;\n",
              "    }\n",
              "\n",
              "    [theme=dark] .colab-df-convert {\n",
              "      background-color: #3B4455;\n",
              "      fill: #D2E3FC;\n",
              "    }\n",
              "\n",
              "    [theme=dark] .colab-df-convert:hover {\n",
              "      background-color: #434B5C;\n",
              "      box-shadow: 0px 1px 3px 1px rgba(0, 0, 0, 0.15);\n",
              "      filter: drop-shadow(0px 1px 2px rgba(0, 0, 0, 0.3));\n",
              "      fill: #FFFFFF;\n",
              "    }\n",
              "  </style>\n",
              "\n",
              "    <script>\n",
              "      const buttonEl =\n",
              "        document.querySelector('#df-bb79e91e-b75a-4b16-acf0-7bc95dda56f9 button.colab-df-convert');\n",
              "      buttonEl.style.display =\n",
              "        google.colab.kernel.accessAllowed ? 'block' : 'none';\n",
              "\n",
              "      async function convertToInteractive(key) {\n",
              "        const element = document.querySelector('#df-bb79e91e-b75a-4b16-acf0-7bc95dda56f9');\n",
              "        const dataTable =\n",
              "          await google.colab.kernel.invokeFunction('convertToInteractive',\n",
              "                                                    [key], {});\n",
              "        if (!dataTable) return;\n",
              "\n",
              "        const docLinkHtml = 'Like what you see? Visit the ' +\n",
              "          '<a target=\"_blank\" href=https://colab.research.google.com/notebooks/data_table.ipynb>data table notebook</a>'\n",
              "          + ' to learn more about interactive tables.';\n",
              "        element.innerHTML = '';\n",
              "        dataTable['output_type'] = 'display_data';\n",
              "        await google.colab.output.renderOutput(dataTable, element);\n",
              "        const docLink = document.createElement('div');\n",
              "        docLink.innerHTML = docLinkHtml;\n",
              "        element.appendChild(docLink);\n",
              "      }\n",
              "    </script>\n",
              "  </div>\n",
              "\n",
              "\n",
              "<div id=\"df-62731741-f62f-47c4-b836-92f22fb23143\">\n",
              "  <button class=\"colab-df-quickchart\" onclick=\"quickchart('df-62731741-f62f-47c4-b836-92f22fb23143')\"\n",
              "            title=\"Suggest charts\"\n",
              "            style=\"display:none;\">\n",
              "\n",
              "<svg xmlns=\"http://www.w3.org/2000/svg\" height=\"24px\"viewBox=\"0 0 24 24\"\n",
              "     width=\"24px\">\n",
              "    <g>\n",
              "        <path d=\"M19 3H5c-1.1 0-2 .9-2 2v14c0 1.1.9 2 2 2h14c1.1 0 2-.9 2-2V5c0-1.1-.9-2-2-2zM9 17H7v-7h2v7zm4 0h-2V7h2v10zm4 0h-2v-4h2v4z\"/>\n",
              "    </g>\n",
              "</svg>\n",
              "  </button>\n",
              "\n",
              "<style>\n",
              "  .colab-df-quickchart {\n",
              "      --bg-color: #E8F0FE;\n",
              "      --fill-color: #1967D2;\n",
              "      --hover-bg-color: #E2EBFA;\n",
              "      --hover-fill-color: #174EA6;\n",
              "      --disabled-fill-color: #AAA;\n",
              "      --disabled-bg-color: #DDD;\n",
              "  }\n",
              "\n",
              "  [theme=dark] .colab-df-quickchart {\n",
              "      --bg-color: #3B4455;\n",
              "      --fill-color: #D2E3FC;\n",
              "      --hover-bg-color: #434B5C;\n",
              "      --hover-fill-color: #FFFFFF;\n",
              "      --disabled-bg-color: #3B4455;\n",
              "      --disabled-fill-color: #666;\n",
              "  }\n",
              "\n",
              "  .colab-df-quickchart {\n",
              "    background-color: var(--bg-color);\n",
              "    border: none;\n",
              "    border-radius: 50%;\n",
              "    cursor: pointer;\n",
              "    display: none;\n",
              "    fill: var(--fill-color);\n",
              "    height: 32px;\n",
              "    padding: 0;\n",
              "    width: 32px;\n",
              "  }\n",
              "\n",
              "  .colab-df-quickchart:hover {\n",
              "    background-color: var(--hover-bg-color);\n",
              "    box-shadow: 0 1px 2px rgba(60, 64, 67, 0.3), 0 1px 3px 1px rgba(60, 64, 67, 0.15);\n",
              "    fill: var(--button-hover-fill-color);\n",
              "  }\n",
              "\n",
              "  .colab-df-quickchart-complete:disabled,\n",
              "  .colab-df-quickchart-complete:disabled:hover {\n",
              "    background-color: var(--disabled-bg-color);\n",
              "    fill: var(--disabled-fill-color);\n",
              "    box-shadow: none;\n",
              "  }\n",
              "\n",
              "  .colab-df-spinner {\n",
              "    border: 2px solid var(--fill-color);\n",
              "    border-color: transparent;\n",
              "    border-bottom-color: var(--fill-color);\n",
              "    animation:\n",
              "      spin 1s steps(1) infinite;\n",
              "  }\n",
              "\n",
              "  @keyframes spin {\n",
              "    0% {\n",
              "      border-color: transparent;\n",
              "      border-bottom-color: var(--fill-color);\n",
              "      border-left-color: var(--fill-color);\n",
              "    }\n",
              "    20% {\n",
              "      border-color: transparent;\n",
              "      border-left-color: var(--fill-color);\n",
              "      border-top-color: var(--fill-color);\n",
              "    }\n",
              "    30% {\n",
              "      border-color: transparent;\n",
              "      border-left-color: var(--fill-color);\n",
              "      border-top-color: var(--fill-color);\n",
              "      border-right-color: var(--fill-color);\n",
              "    }\n",
              "    40% {\n",
              "      border-color: transparent;\n",
              "      border-right-color: var(--fill-color);\n",
              "      border-top-color: var(--fill-color);\n",
              "    }\n",
              "    60% {\n",
              "      border-color: transparent;\n",
              "      border-right-color: var(--fill-color);\n",
              "    }\n",
              "    80% {\n",
              "      border-color: transparent;\n",
              "      border-right-color: var(--fill-color);\n",
              "      border-bottom-color: var(--fill-color);\n",
              "    }\n",
              "    90% {\n",
              "      border-color: transparent;\n",
              "      border-bottom-color: var(--fill-color);\n",
              "    }\n",
              "  }\n",
              "</style>\n",
              "\n",
              "  <script>\n",
              "    async function quickchart(key) {\n",
              "      const quickchartButtonEl =\n",
              "        document.querySelector('#' + key + ' button');\n",
              "      quickchartButtonEl.disabled = true;  // To prevent multiple clicks.\n",
              "      quickchartButtonEl.classList.add('colab-df-spinner');\n",
              "      try {\n",
              "        const charts = await google.colab.kernel.invokeFunction(\n",
              "            'suggestCharts', [key], {});\n",
              "      } catch (error) {\n",
              "        console.error('Error during call to suggestCharts:', error);\n",
              "      }\n",
              "      quickchartButtonEl.classList.remove('colab-df-spinner');\n",
              "      quickchartButtonEl.classList.add('colab-df-quickchart-complete');\n",
              "    }\n",
              "    (() => {\n",
              "      let quickchartButtonEl =\n",
              "        document.querySelector('#df-62731741-f62f-47c4-b836-92f22fb23143 button');\n",
              "      quickchartButtonEl.style.display =\n",
              "        google.colab.kernel.accessAllowed ? 'block' : 'none';\n",
              "    })();\n",
              "  </script>\n",
              "</div>\n",
              "\n",
              "  <div id=\"id_0432a800-7216-4365-80f9-f82ab8120b9d\">\n",
              "    <style>\n",
              "      .colab-df-generate {\n",
              "        background-color: #E8F0FE;\n",
              "        border: none;\n",
              "        border-radius: 50%;\n",
              "        cursor: pointer;\n",
              "        display: none;\n",
              "        fill: #1967D2;\n",
              "        height: 32px;\n",
              "        padding: 0 0 0 0;\n",
              "        width: 32px;\n",
              "      }\n",
              "\n",
              "      .colab-df-generate:hover {\n",
              "        background-color: #E2EBFA;\n",
              "        box-shadow: 0px 1px 2px rgba(60, 64, 67, 0.3), 0px 1px 3px 1px rgba(60, 64, 67, 0.15);\n",
              "        fill: #174EA6;\n",
              "      }\n",
              "\n",
              "      [theme=dark] .colab-df-generate {\n",
              "        background-color: #3B4455;\n",
              "        fill: #D2E3FC;\n",
              "      }\n",
              "\n",
              "      [theme=dark] .colab-df-generate:hover {\n",
              "        background-color: #434B5C;\n",
              "        box-shadow: 0px 1px 3px 1px rgba(0, 0, 0, 0.15);\n",
              "        filter: drop-shadow(0px 1px 2px rgba(0, 0, 0, 0.3));\n",
              "        fill: #FFFFFF;\n",
              "      }\n",
              "    </style>\n",
              "    <button class=\"colab-df-generate\" onclick=\"generateWithVariable('one_hot_df')\"\n",
              "            title=\"Generate code using this dataframe.\"\n",
              "            style=\"display:none;\">\n",
              "\n",
              "  <svg xmlns=\"http://www.w3.org/2000/svg\" height=\"24px\"viewBox=\"0 0 24 24\"\n",
              "       width=\"24px\">\n",
              "    <path d=\"M7,19H8.4L18.45,9,17,7.55,7,17.6ZM5,21V16.75L18.45,3.32a2,2,0,0,1,2.83,0l1.4,1.43a1.91,1.91,0,0,1,.58,1.4,1.91,1.91,0,0,1-.58,1.4L9.25,21ZM18.45,9,17,7.55Zm-12,3A5.31,5.31,0,0,0,4.9,8.1,5.31,5.31,0,0,0,1,6.5,5.31,5.31,0,0,0,4.9,4.9,5.31,5.31,0,0,0,6.5,1,5.31,5.31,0,0,0,8.1,4.9,5.31,5.31,0,0,0,12,6.5,5.46,5.46,0,0,0,6.5,12Z\"/>\n",
              "  </svg>\n",
              "    </button>\n",
              "    <script>\n",
              "      (() => {\n",
              "      const buttonEl =\n",
              "        document.querySelector('#id_0432a800-7216-4365-80f9-f82ab8120b9d button.colab-df-generate');\n",
              "      buttonEl.style.display =\n",
              "        google.colab.kernel.accessAllowed ? 'block' : 'none';\n",
              "\n",
              "      buttonEl.onclick = () => {\n",
              "        google.colab.notebook.generateWithVariable('one_hot_df');\n",
              "      }\n",
              "      })();\n",
              "    </script>\n",
              "  </div>\n",
              "\n",
              "    </div>\n",
              "  </div>\n"
            ],
            "application/vnd.google.colaboratory.intrinsic+json": {
              "type": "dataframe",
              "variable_name": "one_hot_df"
            }
          },
          "metadata": {},
          "execution_count": 4
        }
      ]
    },
    {
      "cell_type": "markdown",
      "source": [
        "####**Ejercicio 2: Codificación Ordinal de la Edad**\n",
        "**Objetivo:** Codificar la columna Age como una variable ordinal, asignando valores numéricos según el rango de edad."
      ],
      "metadata": {
        "id": "ti0azWj6QK2l"
      }
    },
    {
      "cell_type": "code",
      "source": [
        "age_mapping = {'0-17': 0, '18-25': 1, '26-35': 2, '36-45': 3, '46-50': 4, '51-55': 5, '56-65': 6, '66+': 7}\n",
        "data['Age_encoded'] = data['Age'].map(age_mapping)\n",
        "print(data[['Age', 'Age_encoded']])"
      ],
      "metadata": {
        "id": "mhV-MeHlQKod",
        "colab": {
          "base_uri": "https://localhost:8080/"
        },
        "outputId": "7fb2ffc2-3f26-4c9e-ee3e-d3e89a7cc51e"
      },
      "execution_count": null,
      "outputs": [
        {
          "output_type": "stream",
          "name": "stdout",
          "text": [
            "          Age  Age_encoded\n",
            "0        0-17          0.0\n",
            "1        0-17          0.0\n",
            "2        0-17          0.0\n",
            "3        0-17          0.0\n",
            "4         55+          NaN\n",
            "...       ...          ...\n",
            "550063  51-55          5.0\n",
            "550064  26-35          2.0\n",
            "550065  26-35          2.0\n",
            "550066    55+          NaN\n",
            "550067  46-50          4.0\n",
            "\n",
            "[550068 rows x 2 columns]\n"
          ]
        }
      ]
    },
    {
      "cell_type": "markdown",
      "source": [
        "####**Ejercicio 3: Codificación de la Variable City_Category usando Target Encoding**\n",
        "**Objetivo:** Codificar la columna City_Category usando target encoding, basándose en la media de la columna Purchase."
      ],
      "metadata": {
        "id": "XeVeUXPXQKby"
      }
    },
    {
      "cell_type": "code",
      "source": [],
      "metadata": {
        "id": "-TzgCpRlQKO-"
      },
      "execution_count": null,
      "outputs": []
    },
    {
      "cell_type": "markdown",
      "source": [
        "####**Ejercicio 4: Codificación Frecuencial de Occupation**\n",
        "**Objetivo:** Codificar la columna Occupation según la frecuencia de aparición de cada ocupación."
      ],
      "metadata": {
        "id": "LBFDdV-eQKC9"
      }
    },
    {
      "cell_type": "code",
      "source": [],
      "metadata": {
        "id": "naFYNkZMQJ1e"
      },
      "execution_count": null,
      "outputs": []
    },
    {
      "cell_type": "markdown",
      "source": [
        "####**Ejercicio 5: Codificación de Stay_In_Current_City_Years usando Label Encoding**\n",
        "**Objetivo:** Codificar la columna Stay_In_Current_City_Years usando label encoding."
      ],
      "metadata": {
        "id": "9Fh6m1q_QJnK"
      }
    },
    {
      "cell_type": "code",
      "source": [],
      "metadata": {
        "id": "eq3OPrRBQJYh"
      },
      "execution_count": null,
      "outputs": []
    },
    {
      "cell_type": "markdown",
      "source": [
        "####**Ejercicio 6: Aplicar Codificación de Variables Cruzadas (Interaction Features)**\n",
        "**Objetivo:** Crear una nueva columna que represente la interacción entre Gender y Age."
      ],
      "metadata": {
        "id": "y6DxYi-YQJLV"
      }
    },
    {
      "cell_type": "code",
      "source": [],
      "metadata": {
        "id": "vDqFPJXGQI9u"
      },
      "execution_count": null,
      "outputs": []
    },
    {
      "cell_type": "markdown",
      "source": [
        "####**Ejercicio 7: Codificación One-Hot con Limitación de Categorías**\n",
        "**Objetivo:** Realizar una codificación one-hot de la columna Product_ID pero limitando el número de categorías a las 5 más frecuentes."
      ],
      "metadata": {
        "id": "UiyZ8aIKQIv_"
      }
    },
    {
      "cell_type": "code",
      "source": [],
      "metadata": {
        "id": "Uf2-V2-4QIhJ"
      },
      "execution_count": null,
      "outputs": []
    },
    {
      "cell_type": "markdown",
      "source": [
        "####**Ejercicio 8: Codificación Binaria de Marital_Status**\n",
        "**Objetivo:** Codificar la columna Marital_Status como una variable binaria."
      ],
      "metadata": {
        "id": "5uVk5yLPQISm"
      }
    },
    {
      "cell_type": "code",
      "source": [],
      "metadata": {
        "id": "C5vt1JjBQIFC"
      },
      "execution_count": null,
      "outputs": []
    },
    {
      "cell_type": "markdown",
      "source": [
        "####**Ejercicio 9: Codificación Basada en Agrupaciones Personalizadas**\n",
        "**Objetivo:** Agrupar las categorías de Product_Category_1 en grupos personalizados y asignarles códigos."
      ],
      "metadata": {
        "id": "DREdb3fKQH08"
      }
    },
    {
      "cell_type": "code",
      "execution_count": null,
      "metadata": {
        "id": "KfzqCMPyKZJd"
      },
      "outputs": [],
      "source": []
    }
  ]
}