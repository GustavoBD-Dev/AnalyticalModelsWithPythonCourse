{
  "nbformat": 4,
  "nbformat_minor": 0,
  "metadata": {
    "colab": {
      "provenance": [],
      "include_colab_link": true
    },
    "kernelspec": {
      "name": "python3",
      "display_name": "Python 3"
    },
    "language_info": {
      "name": "python"
    }
  },
  "cells": [
    {
      "cell_type": "markdown",
      "metadata": {
        "id": "view-in-github",
        "colab_type": "text"
      },
      "source": [
        "<a href=\"https://colab.research.google.com/github/GustavoBD-Dev/AnalyticalModelsWithPythonCourse/blob/Session-5/13_MachineLearning.ipynb\" target=\"_parent\"><img src=\"https://colab.research.google.com/assets/colab-badge.svg\" alt=\"Open In Colab\"/></a>"
      ]
    },
    {
      "cell_type": "markdown",
      "source": [
        "#**¿Qué es el aprendizaje automático?**"
      ],
      "metadata": {
        "id": "26CFDgIFtSRJ"
      }
    },
    {
      "cell_type": "markdown",
      "source": [
        "El **aprendizaje automático (Machine Learning)** es un subcampo de la inteligencia artificial que se centra en desarrollar algoritmos y modelos que permiten a las computadoras aprender y tomar decisiones a partir de datos, sin estar programadas explícitamente para realizar una tarea específica. A través del aprendizaje automático, las máquinas mejoran su rendimiento con el tiempo al adaptarse a nuevos datos.\n",
        "\n",
        "### Tipos de Aprendizaje Automático\n",
        "\n",
        "1. **Aprendizaje Supervisado**:\n",
        "- **Definición**: El modelo es entrenado con un conjunto de datos etiquetados, donde el objetivo es aprender la relación entre las entradas (features) y las salidas (targets o labels).\n",
        "- **Ejemplo**: Clasificación de correos electrónicos en \"spam\" o \"no spam\". Aquí, los correos electrónicos etiquetados como \"spam\" o \"no spam\" son usados para entrenar el modelo.\n",
        "- **Prácticas recomendadas**:\n",
        "     - Dividir los datos en conjuntos de entrenamiento y prueba para evaluar el modelo.\n",
        "     - Preprocesar los datos, asegurando que las entradas estén normalizadas o estandarizadas.\n",
        "\n",
        "2. **Aprendizaje No Supervisado**:\n",
        "- **Definición**: El modelo trabaja con datos no etiquetados y busca patrones o estructuras ocultas sin una guía específica.\n",
        "- **Ejemplo**: Agrupación de clientes en segmentos según sus hábitos de compra utilizando clustering.\n",
        "- **Prácticas recomendadas**:\n",
        "     - Escoger el número adecuado de clusters usando métodos como el \"Elbow Method\" para algoritmos como K-Means.\n",
        "     - Interpretar adecuadamente los clusters resultantes para obtener insights valiosos.\n",
        "\n",
        "3. **Aprendizaje por Refuerzo**:\n",
        "- **Definición**: El modelo aprende mediante la interacción con un entorno, tomando acciones y recibiendo recompensas o penalizaciones. El objetivo es maximizar la recompensa total a lo largo del tiempo.\n",
        "- **Ejemplo**: Entrenamiento de un agente para jugar videojuegos, donde cada movimiento se traduce en puntos (recompensas).\n",
        "- **Prácticas recomendadas**:\n",
        "     - Ajustar adecuadamente las políticas de exploración y explotación para evitar que el agente se quede atascado en una solución subóptima.\n",
        "     - Definir recompensas de manera que incentiven comportamientos deseables.\n",
        "\n",
        "### Componentes Clave\n",
        "\n",
        "1. **Modelo**:\n",
        "   - Una función matemática que intenta predecir la salida (output) a partir de las entradas (input).\n",
        "   - **Ejemplo**: En regresión lineal, el modelo predice un valor continuo como el precio de una casa basado en características como el tamaño y la ubicación.\n",
        "\n",
        "2. **Función de Costo**:\n",
        "   - Evalúa qué tan bien el modelo está haciendo predicciones comparando las predicciones con los valores reales. El objetivo es minimizar esta función durante el entrenamiento.\n",
        "   - **Ejemplo**: En la regresión lineal, el error cuadrático medio (MSE) es una función de costo común.\n",
        "\n",
        "3. **Algoritmo de Optimización**:\n",
        "   - Ajusta los parámetros del modelo para minimizar la función de costo. Un método común es el descenso de gradiente.\n",
        "   - **Ejemplo**: El descenso de gradiente ajusta los coeficientes en la regresión lineal para minimizar el MSE.\n",
        "\n",
        "### Mejores Prácticas\n",
        "\n",
        "- **Preparación de Datos**: Los datos deben ser limpios, completos y apropiadamente escalados o transformados antes de ser usados en modelos de aprendizaje automático.\n",
        "- **Validación Cruzada**: Utilizar técnicas como la validación cruzada para garantizar que el modelo generaliza bien a datos no vistos.\n",
        "- **Ajuste de Hiperparámetros**: Realizar la selección y ajuste de hiperparámetros para mejorar el rendimiento del modelo.\n",
        "- **Regularización**: Aplicar técnicas de regularización para evitar el sobreajuste (overfitting), asegurando que el modelo generaliza bien a nuevos datos.\n",
        "\n",
        "### Consideraciones Indispensables\n",
        "\n",
        "- **Sesgo y Varianza**: Entender el equilibrio entre sesgo (error sistemático) y varianza (sensibilidad al ruido) es fundamental para crear modelos robustos.\n",
        "- **Interpretabilidad**: Algunos modelos, como los árboles de decisión, son más interpretables que otros, como las redes neuronales. La elección del modelo debe considerar el balance entre precisión y capacidad de interpretación.\n",
        "- **Ética y Responsabilidad**: Es crucial asegurarse de que los modelos sean justos, transparentes y no perpetúen sesgos existentes en los datos."
      ],
      "metadata": {
        "id": "nyvwDOh5tSO8"
      }
    }
  ]
}