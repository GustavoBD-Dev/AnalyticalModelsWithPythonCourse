{
  "nbformat": 4,
  "nbformat_minor": 0,
  "metadata": {
    "colab": {
      "provenance": [],
      "include_colab_link": true
    },
    "kernelspec": {
      "name": "python3",
      "display_name": "Python 3"
    },
    "language_info": {
      "name": "python"
    }
  },
  "cells": [
    {
      "cell_type": "markdown",
      "metadata": {
        "id": "view-in-github",
        "colab_type": "text"
      },
      "source": [
        "<a href=\"https://colab.research.google.com/github/GustavoBD-Dev/AnalyticalModelsWithPythonCourse/blob/Session-5/14_TypesOfMachineLearning.ipynb\" target=\"_parent\"><img src=\"https://colab.research.google.com/assets/colab-badge.svg\" alt=\"Open In Colab\"/></a>"
      ]
    },
    {
      "cell_type": "markdown",
      "source": [
        "#**Tipos de aprendizaje automático: supervisado, no supervisado, por refuerzo**"
      ],
      "metadata": {
        "id": "yO0eDtL1tSsX"
      }
    },
    {
      "cell_type": "markdown",
      "source": [
        "El aprendizaje automático se divide en tres tipos principales: **supervisado**, **no supervisado** y **por refuerzo**. Cada uno se utiliza para resolver diferentes tipos de problemas y se implementa de manera distinta en la práctica.\n",
        "\n",
        "####**1. Aprendizaje Supervisado**\n",
        "En el aprendizaje supervisado, el modelo se entrena utilizando un conjunto de datos etiquetados, donde la entrada y la salida esperada son conocidas. El objetivo es que el modelo aprenda a predecir la salida correcta para nuevas entradas basándose en el patrón aprendido.\n",
        "\n",
        "**Ejemplo de Clasificación:**\n",
        "\n",
        "```python\n",
        "from sklearn.model_selection import train_test_split\n",
        "from sklearn.ensemble import RandomForestClassifier\n",
        "from sklearn.metrics import accuracy_score\n",
        "\n",
        "# Dataset de ejemplo (características simples)\n",
        "X = [[1, 2], [2, 3], [3, 4], [4, 5], [5, 6]]\n",
        "y = [0, 0, 1, 1, 1]\n",
        "\n",
        "# Dividir en conjunto de entrenamiento y prueba\n",
        "X_train, X_test, y_train, y_test = train_test_split(X, y, test_size=0.2, random_state=42)\n",
        "\n",
        "# Crear y entrenar un modelo de clasificación\n",
        "clf = RandomForestClassifier()\n",
        "clf.fit(X_train, y_train)\n",
        "\n",
        "# Predecir en el conjunto de prueba\n",
        "y_pred = clf.predict(X_test)\n",
        "\n",
        "# Evaluar la precisión del modelo\n",
        "accuracy = accuracy_score(y_test, y_pred)\n",
        "print(f'Precisión del modelo: {accuracy}')\n",
        "```\n",
        "\n",
        "**Mejores Prácticas:**\n",
        "- Asegurar que el conjunto de datos esté bien etiquetado.\n",
        "- Utilizar técnicas de validación cruzada para evaluar el rendimiento del modelo.\n",
        "- Evitar el sobreajuste con regularización o utilizando modelos más simples.\n",
        "\n",
        "####**2. Aprendizaje No Supervisado**\n",
        "En el aprendizaje no supervisado, el modelo trabaja con datos no etiquetados. El objetivo es encontrar patrones o estructuras ocultas en los datos, como agrupaciones o reducción de dimensionalidad.\n",
        "\n",
        "**Ejemplo de Agrupamiento (Clustering):**\n",
        "\n",
        "```python\n",
        "from sklearn.cluster import KMeans\n",
        "import numpy as np\n",
        "\n",
        "# Dataset de ejemplo\n",
        "X = np.array([[1, 2], [2, 3], [10, 11], [12, 13], [30, 30]])\n",
        "\n",
        "# Aplicar K-means con 2 clusters\n",
        "kmeans = KMeans(n_clusters=2)\n",
        "kmeans.fit(X)\n",
        "\n",
        "# Etiquetas de los clusters\n",
        "labels = kmeans.labels_\n",
        "print(f'Asignación de clusters: {labels}')\n",
        "```\n",
        "\n",
        "**Mejores Prácticas:**\n",
        "- Seleccionar el número adecuado de clusters mediante métodos como el codo o la silueta.\n",
        "- Estandarizar o normalizar los datos para mejorar el rendimiento de los algoritmos.\n",
        "- Visualizar los resultados para interpretar mejor los patrones descubiertos.\n",
        "\n",
        "####**3. Aprendizaje por Refuerzo**\n",
        "El aprendizaje por refuerzo se basa en un agente que aprende a tomar decisiones mediante prueba y error, recibiendo recompensas o castigos por las acciones que toma. Es común en problemas de toma de decisiones y control.\n",
        "\n",
        "**Ejemplo Simple de Aprendizaje por Refuerzo (Bandido Multiarmado):**\n",
        "\n",
        "```python\n",
        "import numpy as np\n",
        "\n",
        "# Probabilidades de recompensa para tres máquinas tragamonedas\n",
        "probabilidades = [0.2, 0.5, 0.75]\n",
        "\n",
        "# Simular 1000 tiradas\n",
        "n_tiradas = 1000\n",
        "recompensas = np.zeros(len(probabilidades))\n",
        "\n",
        "for i in range(n_tiradas):\n",
        "    # Seleccionar la máquina con la mayor recompensa acumulada\n",
        "    maquina = np.argmax(recompensas)\n",
        "    \n",
        "    # Generar recompensa basada en la probabilidad de la máquina seleccionada\n",
        "    recompensa = np.random.rand() < probabilidades[maquina]\n",
        "    \n",
        "    # Actualizar la recompensa acumulada\n",
        "    recompensas[maquina] += recompensa\n",
        "\n",
        "print(f'Recompensas acumuladas: {recompensas}')\n",
        "```\n",
        "\n",
        "**Mejores Prácticas:**\n",
        "- Definir adecuadamente las recompensas para guiar al agente hacia el comportamiento deseado.\n",
        "- Explorar diferentes estrategias de balanceo entre exploración y explotación.\n",
        "- Implementar técnicas de aprendizaje profundo para manejar espacios de estados complejos.\n",
        "\n",
        "###**Consideraciones Indispensables**\n",
        "- **Supervisado:** Requiere grandes cantidades de datos etiquetados, lo que puede ser costoso o difícil de obtener.\n",
        "- **No Supervisado:** Puede ser difícil de evaluar ya que no hay una \"respuesta correcta\" a la que comparar los resultados.\n",
        "- **Por Refuerzo:** Es computacionalmente intensivo y requiere una gran cantidad de interacciones con el entorno para aprender de manera efectiva."
      ],
      "metadata": {
        "id": "jGir-PEQtSqI"
      }
    },
    {
      "cell_type": "markdown",
      "source": [
        "##**Ejercicios:**"
      ],
      "metadata": {
        "id": "U_hiYG6-E2Aj"
      }
    },
    {
      "cell_type": "code",
      "execution_count": null,
      "metadata": {
        "colab": {
          "base_uri": "https://localhost:8080/"
        },
        "id": "AsjTdSSxsw-t",
        "outputId": "3c2bbd65-a04f-4925-8291-e03062ace154"
      },
      "outputs": [
        {
          "output_type": "stream",
          "name": "stdout",
          "text": [
            "Mounted at /content/drive\n",
            "   User_ID Product_ID Gender   Age  Occupation City_Category  \\\n",
            "0  1000001  P00069042      F  0-17          10             A   \n",
            "1  1000001  P00248942      F  0-17          10             A   \n",
            "2  1000001  P00087842      F  0-17          10             A   \n",
            "3  1000001  P00085442      F  0-17          10             A   \n",
            "4  1000002  P00285442      M   55+          16             C   \n",
            "\n",
            "  Stay_In_Current_City_Years  Marital_Status  Product_Category_1  \\\n",
            "0                          2               0                   3   \n",
            "1                          2               0                   1   \n",
            "2                          2               0                  12   \n",
            "3                          2               0                  12   \n",
            "4                         4+               0                   8   \n",
            "\n",
            "   Product_Category_2  Product_Category_3  Purchase  \n",
            "0                 NaN                 NaN      8370  \n",
            "1                 6.0                14.0     15200  \n",
            "2                 NaN                 NaN      1422  \n",
            "3                14.0                 NaN      1057  \n",
            "4                 NaN                 NaN      7969  \n"
          ]
        }
      ],
      "source": [
        "from google.colab import drive\n",
        "drive.mount('/content/drive')\n",
        "\n",
        "file_id = '1GxFpnjaEPauGQ0PRe-YTzjhDaCwd-wTN'\n",
        "raw_url = f'https://drive.google.com/uc?id={file_id}&export=download'\n",
        "\n",
        "import pandas as pd\n",
        "data = pd.read_csv(raw_url)\n",
        "\n",
        "print(data.head())\n",
        "\n",
        "df=data.copy()"
      ]
    },
    {
      "cell_type": "markdown",
      "source": [
        "###**Ejercicio 1: Clasificación Supervisada**\n",
        "**Objetivo:** Implementar un modelo de clasificación supervisada utilizando un algoritmo simple como K-Nearest Neighbors (KNN)."
      ],
      "metadata": {
        "id": "93rt_bu3FQEE"
      }
    },
    {
      "cell_type": "code",
      "source": [],
      "metadata": {
        "id": "aLq6dUGAFP-V"
      },
      "execution_count": null,
      "outputs": []
    },
    {
      "cell_type": "markdown",
      "source": [
        "###**Ejercicio 2: Regresión Supervisada**\n",
        "Objetivo: Desarrollar un modelo de regresión lineal para predecir la columna Purchase."
      ],
      "metadata": {
        "id": "igB6rkLuFP4u"
      }
    },
    {
      "cell_type": "code",
      "source": [],
      "metadata": {
        "id": "pmhswgORFPzU"
      },
      "execution_count": null,
      "outputs": []
    },
    {
      "cell_type": "markdown",
      "source": [
        "###**Ejercicio 3: Clustering No Supervisado**\n",
        "**Objetivo:** Agrupar los datos utilizando K-Means para identificar patrones ocultos en la compra de productos."
      ],
      "metadata": {
        "id": "WB4m0QsbFPuF"
      }
    },
    {
      "cell_type": "code",
      "source": [],
      "metadata": {
        "id": "arxb6n3PFPo3"
      },
      "execution_count": null,
      "outputs": []
    },
    {
      "cell_type": "markdown",
      "source": [
        "###**Ejercicio 4: Reducción de Dimensionalidad No Supervisada**\n",
        "**Objetivo:** Aplicar PCA para reducir la dimensionalidad de las variables numéricas."
      ],
      "metadata": {
        "id": "eaC2uMZuFPi5"
      }
    },
    {
      "cell_type": "code",
      "source": [],
      "metadata": {
        "id": "f8Bac10FFPd4"
      },
      "execution_count": null,
      "outputs": []
    },
    {
      "cell_type": "markdown",
      "source": [
        "###**Ejercicio 5: Implementación Básica de Aprendizaje por Refuerzo**\n",
        "**Objetivo:** Introducir conceptos básicos de aprendizaje por refuerzo con un ejemplo sencillo utilizando Q-Learning en un entorno simulado."
      ],
      "metadata": {
        "id": "_nR9yWNXFPYe"
      }
    },
    {
      "cell_type": "code",
      "source": [],
      "metadata": {
        "id": "95Z027DSFPS_"
      },
      "execution_count": null,
      "outputs": []
    },
    {
      "cell_type": "markdown",
      "source": [
        "###**Ejercicio 6: Clasificación de Productos con Aprendizaje Supervisado**\n",
        "**Objetivo:** Clasificar los productos en categorías utilizando un árbol de decisión."
      ],
      "metadata": {
        "id": "DLNvk0TqFPN6"
      }
    },
    {
      "cell_type": "code",
      "source": [],
      "metadata": {
        "id": "emnk_cWqFPIi"
      },
      "execution_count": null,
      "outputs": []
    },
    {
      "cell_type": "markdown",
      "source": [
        "###**Ejercicio 7: Clustering Jerárquico No Supervisado**\n",
        "**Objetivo:** Aplicar clustering jerárquico para descubrir estructuras jerárquicas en los datos."
      ],
      "metadata": {
        "id": "-m2irjCQFPC5"
      }
    },
    {
      "cell_type": "code",
      "source": [],
      "metadata": {
        "id": "O-Kj6hLcFO9R"
      },
      "execution_count": null,
      "outputs": []
    },
    {
      "cell_type": "markdown",
      "source": [
        "###**Ejercicio 8: Evaluación de un Modelo de Clasificación Supervisada**\n",
        "**Objetivo:** Utilizar matrices de confusión y otros indicadores para evaluar un modelo de clasificación."
      ],
      "metadata": {
        "id": "B1a_0ikAFO2P"
      }
    },
    {
      "cell_type": "code",
      "source": [],
      "metadata": {
        "id": "mL2mGmbaFOw6"
      },
      "execution_count": null,
      "outputs": []
    },
    {
      "cell_type": "markdown",
      "source": [
        "###**Ejercicio 9: Normalización de Datos para un Algoritmo de Clustering**\n",
        "**Objetivo:** Preparar los datos mediante normalización para mejorar el rendimiento de un modelo de clustering."
      ],
      "metadata": {
        "id": "XDuA6nLOFOp1"
      }
    },
    {
      "cell_type": "code",
      "source": [],
      "metadata": {
        "id": "agR3K_myFOiA"
      },
      "execution_count": null,
      "outputs": []
    }
  ]
}